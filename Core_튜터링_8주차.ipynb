{
  "nbformat": 4,
  "nbformat_minor": 0,
  "metadata": {
    "colab": {
      "name": "Core 튜터링 8주차.ipynb",
      "provenance": [],
      "collapsed_sections": [],
      "authorship_tag": "ABX9TyMWNLWw8dqI5+mL7KuXQY0w",
      "include_colab_link": true
    },
    "kernelspec": {
      "name": "python3",
      "display_name": "Python 3"
    }
  },
  "cells": [
    {
      "cell_type": "markdown",
      "metadata": {
        "id": "view-in-github",
        "colab_type": "text"
      },
      "source": [
        "<a href=\"https://colab.research.google.com/github/YeonWon123/2020_Core_Study/blob/main/Core_%ED%8A%9C%ED%84%B0%EB%A7%81_8%EC%A3%BC%EC%B0%A8.ipynb\" target=\"_parent\"><img src=\"https://colab.research.google.com/assets/colab-badge.svg\" alt=\"Open In Colab\"/></a>"
      ]
    },
    {
      "cell_type": "markdown",
      "metadata": {
        "id": "0ysEjcssP7pU"
      },
      "source": [
        "# 리스트, 딕셔너리, 튜플, 집합 각각을 왜 쓰는지 이해하기 + 각각의 메소드 이해하기\n"
      ]
    },
    {
      "cell_type": "code",
      "metadata": {
        "colab": {
          "base_uri": "https://localhost:8080/"
        },
        "id": "cVH4gSzEPmfK",
        "outputId": "0bda6ebc-09a3-4eb1-9867-5b0d8db06059"
      },
      "source": [
        "# 여러 가지 자료형\n",
        "# int - 정수를 보관\n",
        "# str - 문자를 보관\n",
        "# float - 실수를 보관\n",
        "a = 3       # 정수\n",
        "b = '나는'  # 문자\n",
        "c = 5.984   # 실수\n",
        "# type() 을 통해서 이 변수가 어떤 자료형인지를 알 수 있었다.\n",
        "\n",
        "# 여러 개의 변수를 보관하고 싶을 때\n",
        "# 1. 리스트 [ ]\n",
        "a = []\n",
        "b = [90, '국어', 80, '수학']\n",
        "c = [50, ['남윤원', '이찬호'], 40, 50] # 리스트 안에 다른 리스트가 들어갈 수도 있다.\n",
        "\n",
        "# 리스트에 어떤 값을 추가할 때\n",
        "c.append('추가할 값')\n",
        "\n",
        "# 2. 딕셔너리 { key : value, ... }\n",
        "d = {'국어' : 80, '수학' : 70}\n",
        "\n",
        "# 딕셔너리에 key, value쌍을 추가하거나 수정할 때\n",
        "# 딕셔너리이름['key값'] = value값\n",
        "d['국어'] = 90  # 수정\n",
        "d['과학'] = 100 # 추가\n",
        "\n",
        "# 문제?\n",
        "d = {'국어' : 80, '수학' : 70}\n",
        "d['국어'] = 90  # 수정\n",
        "d['과학'] = 100 # 추가\n",
        "#print(d)\n",
        "\n",
        "####### key값은 중복이 안된다!\n",
        "dics = {'국어' : 70, '국어' : 80, '수학' : 90, '수학' : 100, '플밍' : 50}\n",
        "print('결과는', dics) \n",
        "\n",
        "# 결과는?\n",
        "# 1. KeyError\n",
        "# 2. {'국어' : 70, '국어' : 80, '수학' : 90, '수학' : 100, '플밍' : 50}\n",
        "# 3. {'국어' : 70, '수학' : 90, '플밍' : 50}\n",
        "# 4. {'국어' : 80, '수학' : 100, '플밍' : 50}\n",
        "\n",
        "dics2 = {'남윤원' : [3,4,5], '이찬호' : [4,5,6]}\n",
        "dics2['남윤원'] = 4\n",
        "# dics2['김상수'] = [3,4,5] # 추가, value의 값이 중복이 되는가? -> yes\n",
        "print(\"결과는?\", dics2)\n",
        "\n",
        "# 1. Error\n",
        "# 2. {'남윤원' : [3,4,5], '이찬호' : [4,5,6]}\n",
        "# 3. {'남윤원' : [4], '이찬호' : [4,5,6]}\n",
        "# 4. {'남윤원' : 4, '이찬호' : [4,5,6]}\n",
        "# 5. {'남윤원' : [3,4,5], '이찬호' : [4,5,6], '남윤원' : 4}\n",
        "\n",
        "#print(d)\n",
        "# print(d['플밍']) # KeyError 오류!"
      ],
      "execution_count": null,
      "outputs": [
        {
          "output_type": "stream",
          "text": [
            "결과는 {'국어': 80, '수학': 100, '플밍': 50}\n",
            "결과는? {'남윤원': [3, 4, 5], '이찬호': [4, 5, 6], '김상수': [3, 4, 5]}\n"
          ],
          "name": "stdout"
        }
      ]
    },
    {
      "cell_type": "code",
      "metadata": {
        "colab": {
          "base_uri": "https://localhost:8080/"
        },
        "id": "KElAhd9NVi8N",
        "outputId": "e2d61739-04df-49bc-abae-3327b9394c5d"
      },
      "source": [
        "lists = ['국어', '수학', '플밍', '물리']\n",
        "print(d)\n",
        "\n",
        "# 딕셔너리에서 어떠한 key값이 존재하는가?\n",
        "# -> (key값 in 딕셔너리이름) : True 또는 False 값 반환\n",
        "\n",
        "\n",
        "for i in lists: # 리스트 안에 있는 과목명이\n",
        "  if (i in d):    # d 딕셔너리 안에 key값으로 존재하는가?\n",
        "    print(i, \" key값은 d 딕셔너리에 존재합니다.\")\n",
        "  else:\n",
        "    print(i, \" key값은 d 딕셔너리에 존재하지 않습니다.\")\n",
        "\n",
        "\n",
        "if (\"과학\" in d) == True: # true, false (X), \"true\", \"false\" (X), True, False (참, 거짓을 나타내는 값)\n",
        "  print(\"과학은 d 딕셔너리에 key값으로 존재합니다.\")\n",
        "else:\n",
        "  print(\"과학은 d 딕셔너리에 key값으로 존재하지 않습니다.\")\n",
        "\n",
        "\n",
        "# 딕셔너리에서 어떠한 value값이 존재하는가? / value값이 존재하지 않는다면?\n",
        "hundred = 0\n",
        "for i in d:\n",
        "  print(i, end = ' ')     # 딕셔너리 안에 있는 key값 출력\n",
        "  print(d[i])             # 딕셔너리 안에 있는 value값 출력 (딕셔너리이름[key값]을 출력하면 value값이 나온다.)\n",
        "  if d[i] == 100:\n",
        "#   print(\"100점이 있어요!\")\n",
        "    hurdred = 1\n",
        "\n",
        "#  else:\n",
        "#    print(\"100점이 없어요!\")\n",
        "\n",
        "if hundred == 0:\n",
        "  print(\"100점이 없어요!\")\n",
        "else:\n",
        "  print(\"100점이 있어요!\")\n",
        "  \n",
        "\n"
      ],
      "execution_count": null,
      "outputs": [
        {
          "output_type": "stream",
          "text": [
            "{'국어': 90, '수학': 70, '과학': 100}\n",
            "국어  key값은 d 딕셔너리에 존재합니다.\n",
            "수학  key값은 d 딕셔너리에 존재합니다.\n",
            "플밍  key값은 d 딕셔너리에 존재하지 않습니다.\n",
            "물리  key값은 d 딕셔너리에 존재하지 않습니다.\n",
            "과학은 d 딕셔너리에 key값으로 존재합니다.\n",
            "국어 90\n",
            "100점이 없어요!\n",
            "수학 70\n",
            "100점이 없어요!\n",
            "과학 100\n",
            "100점이 있어요!\n"
          ],
          "name": "stdout"
        }
      ]
    },
    {
      "cell_type": "code",
      "metadata": {
        "colab": {
          "base_uri": "https://localhost:8080/",
          "height": 234
        },
        "id": "G53wqUTDY3PY",
        "outputId": "df6b6b44-0dfc-4059-82e5-eb87bb8147c6"
      },
      "source": [
        "# 튜플\n",
        "tup = ()\n",
        "tup = (3,4,5,6,6,7,8,9)\n",
        "a, b, c, d = tup # 오류! tup의 원소의 개수가 너무 많음 (too many values to unpack)\n",
        "print(a, b, c, d)\n",
        "\n",
        "print(tup)\n",
        "for i in tup:\n",
        "  print(i)\n",
        "\n",
        "# 튜플의 가장 큰 성질 중의 하나는? 수정이 불가능하다는 것!\n",
        "# tup[0] = 5 # 오류! 수정 불가능\n",
        "print(tup[0])\n",
        "\n",
        "# 함수를 짤 때 여러 개의 리턴값을 반환하는 함수를 짜신다면\n",
        "# 튜플의 형태로 반환됨!\n",
        "\n",
        "def func():\n",
        "  return 3,4,\"남윤원\"\n",
        "\n",
        "a, b, c = func()\n",
        "print(a, b, c)\n",
        "print(func()) # 왜 튜플의 형태로 리턴하게 했을까? -> 리스트와 달리 튜플은 각 원소를 수정할 수 없기 때문에, 함수의 리턴값 자체를 임의로 수정하지 못하게 해 놓은 것"
      ],
      "execution_count": null,
      "outputs": [
        {
          "output_type": "error",
          "ename": "ValueError",
          "evalue": "ignored",
          "traceback": [
            "\u001b[0;31m---------------------------------------------------------------------------\u001b[0m",
            "\u001b[0;31mValueError\u001b[0m                                Traceback (most recent call last)",
            "\u001b[0;32m<ipython-input-29-7f6a1d650dbe>\u001b[0m in \u001b[0;36m<module>\u001b[0;34m()\u001b[0m\n\u001b[1;32m      2\u001b[0m \u001b[0mtup\u001b[0m \u001b[0;34m=\u001b[0m \u001b[0;34m(\u001b[0m\u001b[0;34m)\u001b[0m\u001b[0;34m\u001b[0m\u001b[0;34m\u001b[0m\u001b[0m\n\u001b[1;32m      3\u001b[0m \u001b[0mtup\u001b[0m \u001b[0;34m=\u001b[0m \u001b[0;34m(\u001b[0m\u001b[0;36m3\u001b[0m\u001b[0;34m,\u001b[0m\u001b[0;36m4\u001b[0m\u001b[0;34m,\u001b[0m\u001b[0;36m5\u001b[0m\u001b[0;34m,\u001b[0m\u001b[0;36m6\u001b[0m\u001b[0;34m,\u001b[0m\u001b[0;36m6\u001b[0m\u001b[0;34m,\u001b[0m\u001b[0;36m7\u001b[0m\u001b[0;34m,\u001b[0m\u001b[0;36m8\u001b[0m\u001b[0;34m,\u001b[0m\u001b[0;36m9\u001b[0m\u001b[0;34m)\u001b[0m\u001b[0;34m\u001b[0m\u001b[0;34m\u001b[0m\u001b[0m\n\u001b[0;32m----> 4\u001b[0;31m \u001b[0ma\u001b[0m\u001b[0;34m,\u001b[0m \u001b[0mb\u001b[0m\u001b[0;34m,\u001b[0m \u001b[0mc\u001b[0m\u001b[0;34m,\u001b[0m \u001b[0md\u001b[0m \u001b[0;34m=\u001b[0m \u001b[0mtup\u001b[0m \u001b[0;31m# 오류! tup의 원소의 개수가 너무 많음 ()\u001b[0m\u001b[0;34m\u001b[0m\u001b[0;34m\u001b[0m\u001b[0m\n\u001b[0m\u001b[1;32m      5\u001b[0m \u001b[0mprint\u001b[0m\u001b[0;34m(\u001b[0m\u001b[0ma\u001b[0m\u001b[0;34m,\u001b[0m \u001b[0mb\u001b[0m\u001b[0;34m,\u001b[0m \u001b[0mc\u001b[0m\u001b[0;34m,\u001b[0m \u001b[0md\u001b[0m\u001b[0;34m)\u001b[0m\u001b[0;34m\u001b[0m\u001b[0;34m\u001b[0m\u001b[0m\n\u001b[1;32m      6\u001b[0m \u001b[0;34m\u001b[0m\u001b[0m\n",
            "\u001b[0;31mValueError\u001b[0m: too many values to unpack (expected 4)"
          ]
        }
      ]
    },
    {
      "cell_type": "code",
      "metadata": {
        "colab": {
          "base_uri": "https://localhost:8080/"
        },
        "id": "Bp1RX4lKY4nd",
        "outputId": "023342f6-d7af-400d-8272-4b497ad6b507"
      },
      "source": [
        "# 집합의 가장 큰 성질 : 중복되는 원소가 없어진다!\n",
        "uni = {}\n",
        "uni = {3,4,5,6,7,7,4,3,2,1,3,5}\n",
        "\n",
        "# 중복되는 원소도 없애 준다?\n",
        "print(uni)\n",
        "\n",
        "uni2 = {'b', 'a', 'c', 'd', 'd', 'c', 'p'}\n",
        "print(uni2)"
      ],
      "execution_count": null,
      "outputs": [
        {
          "output_type": "stream",
          "text": [
            "{1, 2, 3, 4, 5, 6, 7}\n",
            "{'d', 'b', 'c', 'a', 'p'}\n"
          ],
          "name": "stdout"
        }
      ]
    },
    {
      "cell_type": "code",
      "metadata": {
        "id": "5yxC_VStY84f"
      },
      "source": [
        "# 리스트 []\n",
        "# 딕셔너리 { : }\n",
        "# 튜플 ()\n",
        "# 집합 { }"
      ],
      "execution_count": null,
      "outputs": []
    },
    {
      "cell_type": "markdown",
      "metadata": {
        "id": "sYAtV6lNP-W6"
      },
      "source": [
        "# 모듈에 대해 이해하고 대표적인 모듈을 사용해보는 시간 가지기\n",
        "- datatime 모듈, time 모듈, math 모듈, random 모듈, turtle 모듈\n",
        "\n"
      ]
    },
    {
      "cell_type": "code",
      "metadata": {
        "id": "KB3pE4muQA7d"
      },
      "source": [
        ""
      ],
      "execution_count": null,
      "outputs": []
    },
    {
      "cell_type": "markdown",
      "metadata": {
        "id": "JOwqTSxCP_fh"
      },
      "source": [
        "# 연습문제 중 어려운 문제에 대한 피드백 (어떠한 방법으로 접근할 수 있는지?)\n",
        "\n"
      ]
    },
    {
      "cell_type": "code",
      "metadata": {
        "id": "kFWCOSp2QBHM"
      },
      "source": [
        "# 연습문제 6.12, 6.13, 6.14 응용\n",
        "# 버블 정렬\n",
        "# 1. 첫번쨰 원소와 두번째 원소를 비교\n",
        "# 2. 두번째 원소(오른쪽에 있는 원소)가 더 크면, 두 원소를 서로 바꿉니다.(교환, swap)\n",
        "# 3. 맨 오른쪽에 있는 원소를 만날 때까지 수행\n",
        "# 4. 1,2,3을 다 마치면, 맨 오른쪽에 있는 원소는 가장 큰 원소가 됩니다.\n",
        "# 5. 1,2,3,4를 다시 수행하는데, 맨 오른쪽에 있는 원소(가장 큰 원소)는 제외하고 반복합니다."
      ],
      "execution_count": null,
      "outputs": []
    },
    {
      "cell_type": "code",
      "metadata": {
        "colab": {
          "base_uri": "https://localhost:8080/"
        },
        "id": "dvRF9cfbdOlu",
        "outputId": "66a74442-773f-417f-d330-27d3164af831"
      },
      "source": [
        "# 6.12\n",
        "\n",
        "# 어떤 리스트에서 i번째 위치의 원소와 j번째 위치의 원소를 바꾸는 함수\n",
        "# 1. 임시변수를 사용할 경우\n",
        "def swap(i, j):\n",
        "    a = list_1[i]\n",
        "    list_1[i] = list_1[j]\n",
        "    list_1[j] = a\n",
        "\n",
        "# 2. 임시변수를 사용하지 않는 경우\n",
        "lists = [4,23,49,12,30,48,32,12,4]\n",
        "print(\"주어진 리스트는 : \", lists)\n",
        "\n",
        "# 가장 큰 값이 어느 위치에 있는지를 알면, 문제가 없죠!\n",
        "\n",
        "# (1) 가장 큰 값이 어떤 값인지 : max(리스트)\n",
        "max_value = max(lists)\n",
        "\n",
        "# (2) 그 값이 어느 위치에 있는지 \n",
        "#   리스트.index(찾고자 하는 값, 검색 시작점, 검색 끝점)\n",
        "max_index = lists.index(max_value)\n",
        "print(max_value, max_index)\n",
        "\n",
        "# (3) 그 위치에 있는 값과 맨 오른쪽에 있는 값을 바꾸는 코드\n",
        "# 가장 큰 값이 위치하는 곳 : max_index\n",
        "# 리스트에서 맨 오른쪽에 있는 값 : lists[-1]\n",
        "lists[-1], lists[max_index] = (lists[max_index], lists[-1])\n",
        "\n",
        "print(\"가장 큰 수를 마지막으로 옮긴 결과 : \", lists)"
      ],
      "execution_count": null,
      "outputs": [
        {
          "output_type": "stream",
          "text": [
            "주어진 리스트는 :  [4, 23, 49, 12, 30, 48, 32, 12, 4]\n",
            "49 2\n",
            "가장 큰 수를 마지막으로 옮긴 결과 :  [4, 23, 4, 12, 30, 48, 32, 12, 49]\n"
          ],
          "name": "stdout"
        }
      ]
    },
    {
      "cell_type": "code",
      "metadata": {
        "colab": {
          "base_uri": "https://localhost:8080/"
        },
        "id": "e49QCw6KgtDz",
        "outputId": "8cbedd0f-d05f-4e94-a731-64e7a37d0096"
      },
      "source": [
        "# 6.12 다른 풀이\n",
        "lists = [4,23,49,12,30,48,32,12,4]\n",
        "print(\"주어진 리스트는 : \", lists)\n",
        "\n",
        "# index로 리스트 접근하는 방법 사용\n",
        "# 다른 풀이 : for i in lists:\n",
        "for i in range(len(lists)-1): # -1에 유의!\n",
        "  # 왼쪽에 있는 값이 더 크다면?\n",
        "  if lists[i] > lists[i+1]:\n",
        "    # 두 값을 바꾼다.(swap한다.)\n",
        "    lists[i+1], lists[i] = (lists[i], lists[i+1])    # lists[i], lists[i+1] = lists[i+1], lists[i]\n",
        "\n",
        "print(lists)"
      ],
      "execution_count": null,
      "outputs": [
        {
          "output_type": "stream",
          "text": [
            "주어진 리스트는 :  [4, 23, 49, 12, 30, 48, 32, 12, 4]\n",
            "[4, 23, 12, 30, 48, 32, 12, 4, 49]\n"
          ],
          "name": "stdout"
        }
      ]
    },
    {
      "cell_type": "code",
      "metadata": {
        "colab": {
          "base_uri": "https://localhost:8080/"
        },
        "id": "JVbGnsaPhwtH",
        "outputId": "0152059e-dba5-47b9-e98f-5d5ac60ee5c6"
      },
      "source": [
        "# 6.13\n",
        "# 6.14 : 리스트 슬라이싱 이용?!\n",
        "lists = [4,23,49,12,30,48,32,12,4]\n",
        "print(\"주어진 리스트는 : \", lists)\n",
        "\n",
        "# 이중 for문 사용\n",
        "for j in range(len(lists), 1, -1):\n",
        "  #print(\"j값은 : \", j)\n",
        "  for i in range(0, j-1, 1): \n",
        "    #print(\" i값은 : \", i)\n",
        "    # 왼쪽에 있는 값이 더 크다면?\n",
        "    if lists[i] > lists[i+1]:\n",
        "      # 두 값을 바꾼다.(swap한다.)\n",
        "      lists[i+1], lists[i] = (lists[i], lists[i+1])\n",
        "\n",
        "  #print(lists)\n",
        "  # 정렬이 된 부분   : 맨 마지막 부분\n",
        "  # 정렬이 안된 부분 : 0 ~ 맨 마지막 부분을 제외한 부분\n",
        "  print(lists[0:j-1], end = ', ') # 정렬이 안된 부분\n",
        "  print(lists[j-1:]) # 정렬이 된 부분\n",
        "print(lists)"
      ],
      "execution_count": null,
      "outputs": [
        {
          "output_type": "stream",
          "text": [
            "주어진 리스트는 :  [4, 23, 49, 12, 30, 48, 32, 12, 4]\n",
            "[4, 23, 12, 30, 48, 32, 12, 4], [49]\n",
            "[4, 12, 23, 30, 32, 12, 4], [48, 49]\n",
            "[4, 12, 23, 30, 12, 4], [32, 48, 49]\n",
            "[4, 12, 23, 12, 4], [30, 32, 48, 49]\n",
            "[4, 12, 12, 4], [23, 30, 32, 48, 49]\n",
            "[4, 12, 4], [12, 23, 30, 32, 48, 49]\n",
            "[4, 4], [12, 12, 23, 30, 32, 48, 49]\n",
            "[4], [4, 12, 12, 23, 30, 32, 48, 49]\n",
            "[4, 4, 12, 12, 23, 30, 32, 48, 49]\n"
          ],
          "name": "stdout"
        }
      ]
    },
    {
      "cell_type": "code",
      "metadata": {
        "id": "xnltFjC5eqiK"
      },
      "source": [
        "# tup의 성질(리턴)을 이용한 swap\n",
        "a = 300\n",
        "b = 400\n",
        "print(a, b)\n",
        "a, b = (b, a) # a, b = b, a와 동일\n",
        "print(a, b)"
      ],
      "execution_count": null,
      "outputs": []
    },
    {
      "cell_type": "code",
      "metadata": {
        "colab": {
          "base_uri": "https://localhost:8080/"
        },
        "id": "KFqyeI_UkJAY",
        "outputId": "69f682cf-5ba1-4efa-fa85-2064aee38a30"
      },
      "source": [
        "import string\n",
        "\n",
        "# 연습문제 6.24 암호 문제\n",
        "# (1)\n",
        "src_str = string.ascii_uppercase\n",
        "print(src_str)\n",
        "\n",
        "dst_str = src_str[3:] + src_str[0:3]\n",
        "print(dst_str)\n",
        "\n",
        "# (2) 리스트이름.index(\"찾고자 하는 값\", \"시작 지점\", \"끝 지점\") -> 찾고자 하는 값이 어느 위치에 있는가?\n",
        "A_index = src_str.index('A')\n",
        "print('src_str의 A 인덱스 : ', A_index)\n",
        "print('dst_str의 0번째 알파벳 : ', dst_str[A_index]) # A_index = 0\n",
        "\n",
        "B_index = src_str.index('B')\n",
        "print('src_str의 B 인덱스 : ', B_index)\n",
        "print('dst_str의 1번째 알파벳 : ', dst_str[B_index]) # B_index = 1"
      ],
      "execution_count": null,
      "outputs": [
        {
          "output_type": "stream",
          "text": [
            "ABCDEFGHIJKLMNOPQRSTUVWXYZ\n",
            "DEFGHIJKLMNOPQRSTUVWXYZABC\n",
            "src_str의 A 인덱스 :  0\n",
            "dst_str의 0번째 알파벳 :  D\n",
            "src_str의 B 인덱스 :  1\n",
            "dst_str의 1번째 알파벳 :  E\n"
          ],
          "name": "stdout"
        }
      ]
    },
    {
      "cell_type": "code",
      "metadata": {
        "colab": {
          "base_uri": "https://localhost:8080/"
        },
        "id": "YxUq31ZGmFPx",
        "outputId": "0b145d62-279e-431e-98d0-762a3f3085aa"
      },
      "source": [
        "# (3)\n",
        "def ciper(a):\n",
        "  ans_str = \"\"\n",
        "  for i in range(len(a)):\n",
        "    if (a[i].isalpha()) == True:\n",
        "      a_index = src_str.index(a[i])\n",
        "      #print('src_str의', a[i], '인덱스 : ', a_index)\n",
        "      #print('dst_str의', a_index, \"번째 알파벳 : \", dst_str[a_index])\n",
        "      ans_str += dst_str[a_index]\n",
        "    else:\n",
        "      ans_str += a[i]\n",
        "\n",
        "  print(\"암호화된 문장\", ans_str)\n",
        "  #return ans_str\n",
        "\n",
        "ciper(\"ATTACK THIS!\")"
      ],
      "execution_count": null,
      "outputs": [
        {
          "output_type": "stream",
          "text": [
            "암호화된 문장 DWWDFN WKLV!\n"
          ],
          "name": "stdout"
        }
      ]
    },
    {
      "cell_type": "code",
      "metadata": {
        "id": "sHDWSr-TneVC"
      },
      "source": [
        ""
      ],
      "execution_count": null,
      "outputs": []
    },
    {
      "cell_type": "code",
      "metadata": {
        "colab": {
          "base_uri": "https://localhost:8080/"
        },
        "id": "Ch8LLFHVnlzU",
        "outputId": "4a535c58-9fcb-4562-f2a7-097c3659814e"
      },
      "source": [
        "# (4)\n",
        "# src_str -> dst_str (암호화)\n",
        "\n",
        "src_str = string.ascii_uppercase\n",
        "print(src_str)\n",
        "\n",
        "dst_str = src_str[3:] + src_str[0:3]\n",
        "print(dst_str)\n",
        "\n",
        "# dst_str -> src_str (해독)\n",
        "unlock_str = dst_str[-3:] + dst_str[:-3]\n",
        "print(unlock_str)\n",
        "\n",
        "input_str = \"DWWDFN WRQLJKW!\"\n",
        "ans_str = \"\"\n",
        "for i in range(len(input_str)):\n",
        "  # 지금 내가 보고 있는 부분이 알파벳인가?\n",
        "  if input_str[i].isalpha(): # <- 이게 알파벳인가?\n",
        "    a_index = dst_str.index(input_str[i])\n",
        "    print('dst_str의', input_str[i], '인덱스 : ', a_index)\n",
        "    print('src_str의', a_index, \"번째 알파벳 : \", src_str[a_index])\n",
        "    ans_str += src_str[a_index]\n",
        "  else:\n",
        "    ans_str += input_str[i]\n",
        "\n",
        "print(\"해독된 문장\", ans_str)"
      ],
      "execution_count": null,
      "outputs": [
        {
          "output_type": "stream",
          "text": [
            "ABCDEFGHIJKLMNOPQRSTUVWXYZ\n",
            "DEFGHIJKLMNOPQRSTUVWXYZABC\n",
            "ABCDEFGHIJKLMNOPQRSTUVWXYZ\n",
            "dst_str의 D 인덱스 :  0\n",
            "src_str의 0 번째 알파벳 :  A\n",
            "dst_str의 W 인덱스 :  19\n",
            "src_str의 19 번째 알파벳 :  T\n",
            "dst_str의 W 인덱스 :  19\n",
            "src_str의 19 번째 알파벳 :  T\n",
            "dst_str의 D 인덱스 :  0\n",
            "src_str의 0 번째 알파벳 :  A\n",
            "dst_str의 F 인덱스 :  2\n",
            "src_str의 2 번째 알파벳 :  C\n",
            "dst_str의 N 인덱스 :  10\n",
            "src_str의 10 번째 알파벳 :  K\n",
            "dst_str의 W 인덱스 :  19\n",
            "src_str의 19 번째 알파벳 :  T\n",
            "dst_str의 R 인덱스 :  14\n",
            "src_str의 14 번째 알파벳 :  O\n",
            "dst_str의 Q 인덱스 :  13\n",
            "src_str의 13 번째 알파벳 :  N\n",
            "dst_str의 L 인덱스 :  8\n",
            "src_str의 8 번째 알파벳 :  I\n",
            "dst_str의 J 인덱스 :  6\n",
            "src_str의 6 번째 알파벳 :  G\n",
            "dst_str의 K 인덱스 :  7\n",
            "src_str의 7 번째 알파벳 :  H\n",
            "dst_str의 W 인덱스 :  19\n",
            "src_str의 19 번째 알파벳 :  T\n",
            "해독된 문장 ATTACK TONIGHT!\n"
          ],
          "name": "stdout"
        }
      ]
    },
    {
      "cell_type": "code",
      "metadata": {
        "colab": {
          "base_uri": "https://localhost:8080/"
        },
        "id": "z_aDXFrHqJod",
        "outputId": "5e29f4cd-35fa-4cf0-98b5-02e839ab387b"
      },
      "source": [
        "(5)\n",
        "import string\n",
        "src_str = string.ascii_uppercase + string.ascii_lowercase\n",
        "print(src_str)\n",
        "\n",
        "dst_str = src_str[3:] + src_str[0:3]\n",
        "print(dst_str)\n",
        "\n",
        "ciper(\"Attack tonight!\")\n",
        "ciper(\"Veni, vidi, vici.\")\n"
      ],
      "execution_count": null,
      "outputs": [
        {
          "output_type": "stream",
          "text": [
            "ABCDEFGHIJKLMNOPQRSTUVWXYZabcdefghijklmnopqrstuvwxyz\n",
            "DEFGHIJKLMNOPQRSTUVWXYZabcdefghijklmnopqrstuvwxyzABC\n",
            "암호화된 문장 Dwwdfn wrqljkw!\n",
            "암호화된 문장 Yhql, ylgl, ylfl.\n"
          ],
          "name": "stdout"
        }
      ]
    }
  ]
}