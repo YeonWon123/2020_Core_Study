{
  "nbformat": 4,
  "nbformat_minor": 0,
  "metadata": {
    "colab": {
      "name": "8장 연습문제_final.ipynb",
      "provenance": [],
      "collapsed_sections": [],
      "authorship_tag": "ABX9TyMkfUQOmxkDB8vf6xbc0st9",
      "include_colab_link": true
    },
    "kernelspec": {
      "display_name": "Python 3",
      "name": "python3"
    }
  },
  "cells": [
    {
      "cell_type": "markdown",
      "metadata": {
        "id": "view-in-github",
        "colab_type": "text"
      },
      "source": [
        "<a href=\"https://colab.research.google.com/github/YeonWon123/2020_Core_Study/blob/main/8%EC%9E%A5_%EC%97%B0%EC%8A%B5%EB%AC%B8%EC%A0%9C_final.ipynb\" target=\"_parent\"><img src=\"https://colab.research.google.com/assets/colab-badge.svg\" alt=\"Open In Colab\"/></a>"
      ]
    },
    {
      "cell_type": "code",
      "metadata": {
        "colab": {
          "base_uri": "https://localhost:8080/"
        },
        "id": "XYxbrqTANsgv",
        "outputId": "0e0ad241-0587-4269-a653-52756bf65642"
      },
      "source": [
        "# colab과 google drive 연동하기\n",
        "from google.colab import drive\n",
        "drive.mount('/content/gdrive/')"
      ],
      "execution_count": null,
      "outputs": [
        {
          "output_type": "stream",
          "text": [
            "Drive already mounted at /content/gdrive/; to attempt to forcibly remount, call drive.mount(\"/content/gdrive/\", force_remount=True).\n",
            "Drive already mounted at /content/gdrive/; to attempt to forcibly remount, call drive.mount(\"/content/gdrive/\", force_remount=True).\n"
          ],
          "name": "stdout"
        }
      ]
    },
    {
      "cell_type": "markdown",
      "metadata": {
        "id": "A4gdsnqZOoc2"
      },
      "source": [
        "\n",
        "지금 내 경로를 알 수 있는 쉘 스크립트\n",
        "\n",
        "$ pwd\n"
      ]
    },
    {
      "cell_type": "code",
      "metadata": {
        "colab": {
          "base_uri": "https://localhost:8080/",
          "height": 35
        },
        "id": "Tud6RhRZN9F6",
        "outputId": "a1a6d86b-10b3-4fde-f25f-274853be8483"
      },
      "source": [
        "pwd"
      ],
      "execution_count": null,
      "outputs": [
        {
          "output_type": "execute_result",
          "data": {
            "application/vnd.google.colaboratory.intrinsic+json": {
              "type": "string"
            },
            "text/plain": [
              "'/content'"
            ]
          },
          "metadata": {
            "tags": []
          },
          "execution_count": 3
        }
      ]
    },
    {
      "cell_type": "markdown",
      "metadata": {
        "id": "2Ap0Y0_3OwzO"
      },
      "source": [
        "내 경로에 있는 폴더나 파일들을 볼 수 있는 쉘 스크립트\n",
        "\n",
        "$ ls"
      ]
    },
    {
      "cell_type": "code",
      "metadata": {
        "colab": {
          "base_uri": "https://localhost:8080/"
        },
        "id": "rOCVm05ZN9Qc",
        "outputId": "6456422a-12be-45c5-d74b-a536153567bf"
      },
      "source": [
        "ls"
      ],
      "execution_count": null,
      "outputs": [
        {
          "output_type": "stream",
          "text": [
            "\u001b[0m\u001b[01;34mgdrive\u001b[0m/  \u001b[01;34msample_data\u001b[0m/\n"
          ],
          "name": "stdout"
        }
      ]
    },
    {
      "cell_type": "markdown",
      "metadata": {
        "id": "O32FuDoHO7Cm"
      },
      "source": [
        "특정 경로로 이동할 수 있는 쉘 스크립트\n",
        "\n",
        "$ cd 경로"
      ]
    },
    {
      "cell_type": "code",
      "metadata": {
        "colab": {
          "base_uri": "https://localhost:8080/"
        },
        "id": "MX6cpTECN9Y-",
        "outputId": "650184b8-a05c-4ab7-c25b-a276888b7cf4"
      },
      "source": [
        "cd /content/gdrive/MyDrive/Chapter8"
      ],
      "execution_count": null,
      "outputs": [
        {
          "output_type": "stream",
          "text": [
            "/content/gdrive/MyDrive/Chapter8\n"
          ],
          "name": "stdout"
        }
      ]
    },
    {
      "cell_type": "code",
      "metadata": {
        "colab": {
          "base_uri": "https://localhost:8080/",
          "height": 35
        },
        "id": "8F4vLth1PuT0",
        "outputId": "5ccc011f-b65d-42d7-f009-fb0a7ecbbb53"
      },
      "source": [
        "pwd"
      ],
      "execution_count": null,
      "outputs": [
        {
          "output_type": "execute_result",
          "data": {
            "application/vnd.google.colaboratory.intrinsic+json": {
              "type": "string"
            },
            "text/plain": [
              "'/content/gdrive/My Drive/Chapter8'"
            ]
          },
          "metadata": {
            "tags": []
          },
          "execution_count": 27
        }
      ]
    },
    {
      "cell_type": "code",
      "metadata": {
        "colab": {
          "base_uri": "https://localhost:8080/"
        },
        "id": "ilIAPhe_N9fz",
        "outputId": "30743ef2-e5e0-43ab-c939-0bdc7d1f3adf"
      },
      "source": [
        "ls"
      ],
      "execution_count": null,
      "outputs": [
        {
          "output_type": "stream",
          "text": [
            "my_hello.txt  python_code.py  남윤원.txt  빅데이터과제.txt\n"
          ],
          "name": "stdout"
        }
      ]
    },
    {
      "cell_type": "code",
      "metadata": {
        "colab": {
          "base_uri": "https://localhost:8080/"
        },
        "id": "pf_DSK5_Pwo9",
        "outputId": "b6523d0f-fdaa-4b9e-9596-b9947d9b0e90"
      },
      "source": [
        "try:\n",
        "  f_name = input('읽어들일 파일 이름을 입력하세요: ')\n",
        "  in_file = open(f_name, 'r')\n",
        "  buf = in_file.readline()\n",
        "  print(buf)\n",
        "except FileNotFoundError:\n",
        "  print(f_name, \"파일을 찾을 수 없습니다!\")"
      ],
      "execution_count": null,
      "outputs": [
        {
          "output_type": "stream",
          "text": [
            "읽어들일 파일 이름을 입력하세요: asdffds\n",
            "asdffds 파일을 찾을 수 없습니다!\n"
          ],
          "name": "stdout"
        }
      ]
    },
    {
      "cell_type": "code",
      "metadata": {
        "colab": {
          "base_uri": "https://localhost:8080/"
        },
        "id": "10bijOJ3fFYC",
        "outputId": "33c8ebf2-6fbc-4379-f049-5395739a9f65"
      },
      "source": [
        "f_name = input('읽어들일 파일 이름을 입력하세요: ')\n",
        "in_file = open(f_name, 'w') # 파일을 쓰기 모드로 엽니다.\n",
        "in_file.write(\"Hello Python\") # Hello Python이라는 문자열을 파일에 씁니다.\n",
        "in_file.close()"
      ],
      "execution_count": null,
      "outputs": [
        {
          "output_type": "stream",
          "text": [
            "읽어들일 파일 이름을 입력하세요: my_hello.txt\n"
          ],
          "name": "stdout"
        }
      ]
    }
  ]
}