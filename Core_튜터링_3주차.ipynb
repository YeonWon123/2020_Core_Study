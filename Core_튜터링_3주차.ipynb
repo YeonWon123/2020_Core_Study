{
  "nbformat": 4,
  "nbformat_minor": 0,
  "metadata": {
    "colab": {
      "name": "Core 튜터링 3주차.ipynb",
      "provenance": [],
      "collapsed_sections": [],
      "authorship_tag": "ABX9TyNAxvGtcPXOSizhQh45gw9V",
      "include_colab_link": true
    },
    "kernelspec": {
      "name": "python3",
      "display_name": "Python 3"
    }
  },
  "cells": [
    {
      "cell_type": "markdown",
      "metadata": {
        "id": "view-in-github",
        "colab_type": "text"
      },
      "source": [
        "<a href=\"https://colab.research.google.com/github/YeonWon123/2020_Core_Study/blob/main/Core_%ED%8A%9C%ED%84%B0%EB%A7%81_3%EC%A3%BC%EC%B0%A8.ipynb\" target=\"_parent\"><img src=\"https://colab.research.google.com/assets/colab-badge.svg\" alt=\"Open In Colab\"/></a>"
      ]
    },
    {
      "cell_type": "markdown",
      "metadata": {
        "id": "T1PNiZcS86QS"
      },
      "source": [
        "# 입력받는 여러가지 방법들"
      ]
    },
    {
      "cell_type": "markdown",
      "metadata": {
        "id": "uWE4PMGZ8_Wp"
      },
      "source": [
        "1. 하나의 정수 값을 입력받는 경우"
      ]
    },
    {
      "cell_type": "code",
      "metadata": {
        "id": "nj9ilVgf8_ss",
        "colab": {
          "base_uri": "https://localhost:8080/",
          "height": 34
        },
        "outputId": "4755d45b-d19d-4752-e51f-6912b8c5a3aa"
      },
      "source": [
        "a = int(input())"
      ],
      "execution_count": null,
      "outputs": [
        {
          "output_type": "stream",
          "text": [
            "3\n"
          ],
          "name": "stdout"
        }
      ]
    },
    {
      "cell_type": "code",
      "metadata": {
        "id": "Am871f48D0GU",
        "colab": {
          "base_uri": "https://localhost:8080/",
          "height": 34
        },
        "outputId": "05f4f46b-9e0e-4fc0-e276-87037902fd76"
      },
      "source": [
        "print(a)"
      ],
      "execution_count": null,
      "outputs": [
        {
          "output_type": "stream",
          "text": [
            "3\n"
          ],
          "name": "stdout"
        }
      ]
    },
    {
      "cell_type": "markdown",
      "metadata": {
        "id": "qlCRM7Cn9SKx"
      },
      "source": [
        "2. 한 줄에 2개의 정수값을 입력받는 경우"
      ]
    },
    {
      "cell_type": "code",
      "metadata": {
        "id": "uaa-SzX58_6f",
        "colab": {
          "base_uri": "https://localhost:8080/",
          "height": 34
        },
        "outputId": "6a9a2215-8591-4884-a863-28aee707491c"
      },
      "source": [
        "# 먼저 input() 받은 줄을 빈칸을 기준으로 분리(split)한 뒤에,\n",
        "# 각각의 요소들을 map 함수를 통해 int로 바꾸어 준다.\n",
        "# map(자료형, 반복가능한 객체(리스트 or 변수 or ....))\n",
        "a, b = map(int, input().split(' '))"
      ],
      "execution_count": null,
      "outputs": [
        {
          "output_type": "stream",
          "text": [
            "1 3\n"
          ],
          "name": "stdout"
        }
      ]
    },
    {
      "cell_type": "code",
      "metadata": {
        "id": "GKT4dqBWEHm8",
        "colab": {
          "base_uri": "https://localhost:8080/",
          "height": 51
        },
        "outputId": "5834f428-af71-4407-d7f5-4b1888cf3e53"
      },
      "source": [
        "print(a)\n",
        "print(b)"
      ],
      "execution_count": null,
      "outputs": [
        {
          "output_type": "stream",
          "text": [
            "1\n",
            "3\n"
          ],
          "name": "stdout"
        }
      ]
    },
    {
      "cell_type": "markdown",
      "metadata": {
        "id": "xMdIwrGe9d_L"
      },
      "source": [
        "3. 한 줄에 여러 개의 정수값을 입력받는 경우\n",
        "\n"
      ]
    },
    {
      "cell_type": "code",
      "metadata": {
        "id": "uLkYfmXz9dp4",
        "colab": {
          "base_uri": "https://localhost:8080/",
          "height": 34
        },
        "outputId": "e1a75e60-6f45-45fe-ac19-138a2ae11a3d"
      },
      "source": [
        "# 한 줄에 공백으로 나누어진 x개의 정수를 리스트로 만들어준다.\n",
        "# 입력이 '1 2 3 4 5'라면 [1, 2, 3, 4, 5]가 nums에 들어간다.\n",
        "l = [ int(x) for x in input().split() ]"
      ],
      "execution_count": null,
      "outputs": [
        {
          "output_type": "stream",
          "text": [
            "1 2 3 4 5 6\n"
          ],
          "name": "stdout"
        }
      ]
    },
    {
      "cell_type": "code",
      "metadata": {
        "id": "v1DXzzkeEUSy",
        "colab": {
          "base_uri": "https://localhost:8080/",
          "height": 34
        },
        "outputId": "9e712ce6-1bb1-4fe4-9c55-f3ba313562d6"
      },
      "source": [
        "print(l)"
      ],
      "execution_count": null,
      "outputs": [
        {
          "output_type": "stream",
          "text": [
            "[1, 2, 3, 4, 5, 6]\n"
          ],
          "name": "stdout"
        }
      ]
    },
    {
      "cell_type": "code",
      "metadata": {
        "id": "xDyeqRsaEXWY",
        "colab": {
          "base_uri": "https://localhost:8080/",
          "height": 68
        },
        "outputId": "2a330912-fa5b-41fb-b467-87cf6ecd8af7"
      },
      "source": [
        "print(l[0])\n",
        "print(l[3])\n",
        "print(l[5])\n",
        "#print(l[6]) # 오류!"
      ],
      "execution_count": null,
      "outputs": [
        {
          "output_type": "stream",
          "text": [
            "1\n",
            "4\n",
            "6\n"
          ],
          "name": "stdout"
        }
      ]
    },
    {
      "cell_type": "markdown",
      "metadata": {
        "id": "uN5wyr5--HoC"
      },
      "source": [
        "# 조건문 (if ~ elif ~ else)"
      ]
    },
    {
      "cell_type": "code",
      "metadata": {
        "id": "J2Xppcgr-Bzh"
      },
      "source": [
        "if 조건:\n",
        "  ...\n",
        "else:\n",
        "  ...\n",
        "\n",
        "if 조건:\n",
        "  ...\n",
        "elif 다른조건:\n",
        "  ...\n",
        "else:\n",
        "  ..."
      ],
      "execution_count": null,
      "outputs": []
    },
    {
      "cell_type": "markdown",
      "metadata": {
        "id": "-Qxfi8eF-hIi"
      },
      "source": [
        "# 반복문 (for / while)"
      ]
    },
    {
      "cell_type": "code",
      "metadata": {
        "id": "X-KOynQU-Bwa"
      },
      "source": [
        "for i in range(초기값, 끝나는 값, 증가하는 값):\n",
        "  ... # 여기에서 i는 초기값, 초기값 + 증가하는 값, ...을 의미"
      ],
      "execution_count": null,
      "outputs": []
    },
    {
      "cell_type": "code",
      "metadata": {
        "id": "voEASQZo-j6a"
      },
      "source": [
        "lists = [3,4,5,6]\n",
        "for i in lists:\n",
        "  ... # 여기에서 i는 lists[0], lists[1], ... 을 의미"
      ],
      "execution_count": null,
      "outputs": []
    },
    {
      "cell_type": "code",
      "metadata": {
        "id": "hvQQ84Oi-kOV"
      },
      "source": [
        "while 조건: # 조건이 True일 경우 무한 반복함\n",
        "  ...\n",
        "  if 다른조건:\n",
        "    break # 여기에 걸리면 while문을 빠져나옴\n",
        "  ..."
      ],
      "execution_count": null,
      "outputs": []
    },
    {
      "cell_type": "markdown",
      "metadata": {
        "id": "TWybFOzVGjkO"
      },
      "source": [
        "\n",
        "백준 2438 - 별 찍기 1"
      ]
    },
    {
      "cell_type": "code",
      "metadata": {
        "id": "oI-ne1-n_xj3",
        "colab": {
          "base_uri": "https://localhost:8080/",
          "height": 119
        },
        "outputId": "059a56d0-acd1-4063-bf2f-32549b21ff12"
      },
      "source": [
        "# for문을 2번 쓰는 코드\n",
        "a = int(input())\n",
        "\n",
        "for i in range(0, a, 1):\n",
        "  for j in range(0, i+1, 1):\n",
        "    print(\"*\", end = '')\n",
        "  print()\n"
      ],
      "execution_count": null,
      "outputs": [
        {
          "output_type": "stream",
          "text": [
            "5\n",
            "*\n",
            "**\n",
            "***\n",
            "****\n",
            "*****\n"
          ],
          "name": "stdout"
        }
      ]
    },
    {
      "cell_type": "code",
      "metadata": {
        "id": "o10cfhfb_xxk",
        "colab": {
          "base_uri": "https://localhost:8080/",
          "height": 119
        },
        "outputId": "5df27d3d-b285-44db-a079-46cb3c82f0fa"
      },
      "source": [
        "# for문을 1번 쓰는 코드\n",
        "a = int(input())\n",
        "\n",
        "for i in range(1, a+1, 1):\n",
        "  print(\"*\"*i)"
      ],
      "execution_count": null,
      "outputs": [
        {
          "output_type": "stream",
          "text": [
            "5\n",
            "*\n",
            "**\n",
            "***\n",
            "****\n",
            "*****\n"
          ],
          "name": "stdout"
        }
      ]
    },
    {
      "cell_type": "markdown",
      "metadata": {
        "id": "ddiwExeZHvva"
      },
      "source": [
        "백준 2439 - 별 찍기 2"
      ]
    },
    {
      "cell_type": "code",
      "metadata": {
        "id": "qx148LazHvZx",
        "colab": {
          "base_uri": "https://localhost:8080/",
          "height": 121
        },
        "outputId": "85beb1ee-25ed-4005-c3c8-0a5544acfa9c"
      },
      "source": [
        "# for문을 1번 쓰는 코드\n",
        "a = int(input())\n",
        "\n",
        "for i in range(1, a+1, 1):\n",
        "  print(\" \"*(5-i), end = '')\n",
        "  print(\"*\"*i)"
      ],
      "execution_count": null,
      "outputs": [
        {
          "output_type": "stream",
          "text": [
            "5\n",
            "    *\n",
            "   **\n",
            "  ***\n",
            " ****\n",
            "*****\n"
          ],
          "name": "stdout"
        }
      ]
    },
    {
      "cell_type": "markdown",
      "metadata": {
        "id": "-Kfmvr6UJAGp"
      },
      "source": [
        "백준 1259 - 팰린드롬 수"
      ]
    },
    {
      "cell_type": "code",
      "metadata": {
        "id": "QE0eUoJtGiyS",
        "colab": {
          "base_uri": "https://localhost:8080/",
          "height": 138
        },
        "outputId": "53cd5b61-c079-427a-983b-cdee8a0f53fd"
      },
      "source": [
        "while True:\n",
        "  # 입력받는 정수\n",
        "  a = int(input())\n",
        "\n",
        "  # 리스트를 하나 만듭니다.\n",
        "  lists = []\n",
        "\n",
        "  # a가 0이면 while문을 종료합니다. (break)\n",
        "  if a == 0:\n",
        "    break\n",
        "  else:\n",
        "    # 팰린드롬수인지 아닌지 판단\n",
        "    # 저의 풀이는 나머지 연산을 이용하는 것입니다.\n",
        "    counts = 0\n",
        "    while a != 0:\n",
        "      b = a % 10      # 맨 끝자리 수가 나오게 됩니다.\n",
        "      lists.append(b) # 리스트 안에 방금 구한 끝자리 수를 넣습니다.\n",
        "      a = int(a / 10)      # a를 10으로 나눠서 다음 자리 수를 구할 겁니다.\n",
        "      counts = counts + 1  # counts를 쓴 이유는 a의 자리수를 구하기 위함입니다. (len())\n",
        "    \n",
        "    # print(lists)\n",
        "\n",
        "    # 맨 앞자리 수 == 맨 뒷자리 수\n",
        "    # 앞에서 두 번째 자리 수 == 뒤에서 두 번째 자리 수\n",
        "    # ...\n",
        "    # 반복 횟수는? 전체 길이 / 2 만큼만 하면 됩니다!\n",
        "    sw = 0\n",
        "    for i in range(0, int(counts/2), 1):\n",
        "      if lists[i] != lists[counts-1-i]:\n",
        "        sw = 1\n",
        "        print(\"no\")\n",
        "        break\n",
        "\n",
        "    if sw == 0:  \n",
        "      print(\"yes\")\n"
      ],
      "execution_count": null,
      "outputs": [
        {
          "output_type": "stream",
          "text": [
            "121\n",
            "yes\n",
            "1231\n",
            "no\n",
            "12421\n",
            "yes\n",
            "0\n"
          ],
          "name": "stdout"
        }
      ]
    },
    {
      "cell_type": "code",
      "metadata": {
        "id": "46QX5ZtsOmpE"
      },
      "source": [
        "# 다른 풀이\n",
        "a = input()\n",
        "sizes = len(a)\n",
        "\n",
        "for i in range(0, int(sizes/2), 1):\n",
        "  ...\n",
        "  ... "
      ],
      "execution_count": null,
      "outputs": []
    },
    {
      "cell_type": "markdown",
      "metadata": {
        "id": "bEWMCixsOcW-"
      },
      "source": [
        "# len 함수\n",
        "len(obj) : obj는 list, str, ... (int는 불가)"
      ]
    },
    {
      "cell_type": "code",
      "metadata": {
        "id": "LkfTvZbdGiwG",
        "colab": {
          "base_uri": "https://localhost:8080/",
          "height": 35
        },
        "outputId": "7c93319f-c15b-4171-fc8e-23b525b9d4a1"
      },
      "source": [
        "lists = [3,4,5]\n",
        "print(len(lists))"
      ],
      "execution_count": null,
      "outputs": [
        {
          "output_type": "stream",
          "text": [
            "3\n"
          ],
          "name": "stdout"
        }
      ]
    },
    {
      "cell_type": "code",
      "metadata": {
        "id": "l2llEykRGjIR",
        "colab": {
          "base_uri": "https://localhost:8080/",
          "height": 35
        },
        "outputId": "c11d0e55-fe35-4d4c-f9fa-f30fcb6cfbf9"
      },
      "source": [
        "b = \"가나다\"\n",
        "print(len(b))"
      ],
      "execution_count": null,
      "outputs": [
        {
          "output_type": "execute_result",
          "data": {
            "text/plain": [
              "3"
            ]
          },
          "metadata": {
            "tags": []
          },
          "execution_count": 26
        }
      ]
    },
    {
      "cell_type": "code",
      "metadata": {
        "id": "3b79mAegOwoX",
        "colab": {
          "base_uri": "https://localhost:8080/",
          "height": 69
        },
        "outputId": "a59dd4fc-9b31-4b8b-c684-6d550f83baac"
      },
      "source": [
        "c = 12345\n",
        "d = str(c)\n",
        "print(type(c))\n",
        "print(type(d))\n",
        "print(len(d))"
      ],
      "execution_count": null,
      "outputs": [
        {
          "output_type": "stream",
          "text": [
            "<class 'int'>\n",
            "<class 'str'>\n",
            "5\n"
          ],
          "name": "stdout"
        }
      ]
    },
    {
      "cell_type": "markdown",
      "metadata": {
        "id": "_3x8ulRoOLg0"
      },
      "source": [
        "백준 10988 팰린드롬인지 확인하기"
      ]
    },
    {
      "cell_type": "code",
      "metadata": {
        "id": "bxsrsQMNOLKq",
        "colab": {
          "base_uri": "https://localhost:8080/",
          "height": 52
        },
        "outputId": "385feef6-5519-4fe1-ddef-1e694a6026a1"
      },
      "source": [
        "a = input() # input() 는 str 타입을 반환합니다.\n",
        "\n",
        "# if a[0] == a[4] and a[1] == a[3] and a[2] == a[2]:\n",
        "# i는 0부터 len(a) / 2 - 1까지 for문 안에서 반복됨\n",
        "# i = 0, 1, 2, ..., len(a) / 2 - 1\n",
        "\n",
        "# 입력값이 level일 경우 \n",
        "# len(a) = 5            (길이는 5)\n",
        "# len(a) / 2 = 2.5      (5를 2로 나누면 2.5)\n",
        "# int(len(a) / 2) = 2   (2.5를 int형으로 만들면 2)\n",
        "\n",
        "# 전체 길이\n",
        "sizes = int(len(a)/2) # sizes는 2 \n",
        "\n",
        "sw = 0\n",
        "for i in range(0, sizes, 1):\n",
        "  # (맨 앞 자리 + i자리) 수 != (맨 뒷자리 - i자리) 수\n",
        "  if a[i] != a[len(a)-1-i]: # i = 0 일때, a[0] == a[4], i = 1일때, a[1] == a[3]\n",
        "    # 다르면 팰린드롬이 아니다.\n",
        "    print(0)\n",
        "    sw = 1\n",
        "    break\n",
        "\n",
        "if sw == 0:\n",
        "  print(1)\n"
      ],
      "execution_count": null,
      "outputs": [
        {
          "output_type": "stream",
          "text": [
            "baekjoon\n",
            "0\n"
          ],
          "name": "stdout"
        }
      ]
    },
    {
      "cell_type": "code",
      "metadata": {
        "id": "34bugA0-GjKO"
      },
      "source": [
        "# level\n",
        "l : a[0]\n",
        "e : a[1]\n",
        "v : a[2]\n",
        "e : a[3]\n",
        "l : a[4]"
      ],
      "execution_count": null,
      "outputs": []
    },
    {
      "cell_type": "code",
      "metadata": {
        "id": "vNGZ9yJrGjGR"
      },
      "source": [
        "# beakjoon\n"
      ],
      "execution_count": null,
      "outputs": []
    },
    {
      "cell_type": "markdown",
      "metadata": {
        "id": "4qIrCD77-CG0"
      },
      "source": [
        "# 함수 알아보기"
      ]
    },
    {
      "cell_type": "markdown",
      "metadata": {
        "id": "Ay_Qu6t1B3_3"
      },
      "source": [
        "정수 n개가 주어졌을 때, n개의 합을 구하는 함수를 작성하시오.\n",
        "\n",
        "작성해야 하는 함수는 다음과 같다.\n",
        "\n",
        "Python 2, Python 3, PyPy, PyPy3: def solve(a: list) -> int\n",
        "a: 합을 구해야 하는 정수 n개가 저장되어 있는 리스트 (0 ≤ a[i] ≤ 1,000,000, 1 ≤ n ≤ 3,000,000)\n",
        "리턴값: a에 포함되어 있는 정수 n개의 합 (정수)"
      ]
    },
    {
      "cell_type": "code",
      "metadata": {
        "id": "SC2N6XwwBiDm"
      },
      "source": [
        "# 함수 사용해보기\n",
        "def solvess(a):\n",
        "  sum = 0;\n",
        "  for i in a:\n",
        "    sum += i\n",
        "  return sum"
      ],
      "execution_count": null,
      "outputs": []
    },
    {
      "cell_type": "code",
      "metadata": {
        "id": "HAjTS_D7TpM_"
      },
      "source": [
        "# 함수를 정의(생성)했다.\n",
        "# 함수를 맨 처음에 생성(선언/정의)할 때는 def를 쓴다. (def = definition)\n",
        "def solve(lists): # lists : 매개 변수\n",
        "  # lists 안에 있는 수들의 합\n",
        "  sum = 0;\n",
        "  for i in lists:\n",
        "    sum += i\n",
        "  \n",
        "  return sum # 함수를 통해서 구한 값을 밖에 보내는 것 (리턴한다)\n"
      ],
      "execution_count": null,
      "outputs": []
    },
    {
      "cell_type": "code",
      "metadata": {
        "id": "lREeaX9OYJuU"
      },
      "source": [
        ""
      ],
      "execution_count": null,
      "outputs": []
    },
    {
      "cell_type": "code",
      "metadata": {
        "id": "g3wOZpuZTNcw",
        "colab": {
          "base_uri": "https://localhost:8080/",
          "height": 51
        },
        "outputId": "55d1e713-9a2d-4e14-c43d-85d3a36d5516"
      },
      "source": [
        "# 함수를 사용해 보자 (호출해 보자)\n",
        "lists = [ [1,2,3,4,5,6], [2,3,4,5], ... , [3,4,5,6,7] ]\n",
        "\n",
        "for i in lists:\n",
        "  print(solve(i)) # 우리가 만든 solve 함수를 사용한 것, 함수를 사용할 때는 안에 인자를 넣을 수도 있다."
      ],
      "execution_count": null,
      "outputs": [
        {
          "output_type": "stream",
          "text": [
            "21\n",
            "14\n"
          ],
          "name": "stdout"
        }
      ]
    },
    {
      "cell_type": "code",
      "metadata": {
        "id": "-XZlGppwVKhr",
        "colab": {
          "base_uri": "https://localhost:8080/",
          "height": 50
        },
        "outputId": "fd9c4ca4-d184-441c-b25d-52365e02c9e5"
      },
      "source": [
        "# 함수를 안 쓰면....\n",
        "lists = [1,2,3,4,5,6]\n",
        "lists2 = [2,3,4,5]\n",
        "..\n",
        "lists100 = [3,6,7,8,5,6,7,8]\n",
        "\n",
        "sum = 0\n",
        "for i in lists:\n",
        "  sum += i\n",
        "print(sum)\n",
        "\n",
        "sum = 0\n",
        "for i in lists2:\n",
        "  sum += i\n",
        "print(sum)"
      ],
      "execution_count": null,
      "outputs": [
        {
          "output_type": "stream",
          "text": [
            "21\n",
            "14\n"
          ],
          "name": "stdout"
        }
      ]
    },
    {
      "cell_type": "code",
      "metadata": {
        "id": "SEes5KoXXdyp"
      },
      "source": [
        ""
      ],
      "execution_count": null,
      "outputs": []
    },
    {
      "cell_type": "markdown",
      "metadata": {
        "id": "k08HS3akDm4Q"
      },
      "source": [
        "백준 2577 숫자의 개수"
      ]
    },
    {
      "cell_type": "code",
      "metadata": {
        "id": "gIi9U7TrDoRT",
        "colab": {
          "base_uri": "https://localhost:8080/",
          "height": 403
        },
        "outputId": "7395eb6e-7644-469d-cdf1-cc527917b464"
      },
      "source": [
        "A = int(input())\n",
        "B = int(input())\n",
        "C = int(input())\n",
        "\n",
        "D = A * B * C\n",
        "\n",
        "lists = [0, 0, 0, 0, 0, 0, 0, 0, 0, 0]\n",
        "# 맨 처음 자리는 lists[0] -> D에서 0이 나온 횟수\n",
        "# 맨 마지막 자리는 lists[9] -> D에서 9가 나온 횟수\n",
        "\n",
        "# 정수 D를 문자열 D_str로 바꿔서 저장\n",
        "D_str = str(D)\n",
        "\n",
        "#print(D_str)\n",
        "for i in range(0, len(D_str), 1):\n",
        "  e = int(D_str[i])\n",
        "  #print(e)\n",
        "  lists[e] = lists[e] + 1\n",
        "\n",
        "#print(lists)\n",
        "\n",
        "for i in lists:\n",
        "  print(i)\n"
      ],
      "execution_count": null,
      "outputs": [
        {
          "output_type": "stream",
          "text": [
            "150\n",
            "266\n",
            "427\n",
            "17037300\n",
            "1\n",
            "7\n",
            "0\n",
            "3\n",
            "7\n",
            "3\n",
            "0\n",
            "0\n",
            "[3, 1, 0, 2, 0, 0, 0, 2, 0, 0]\n",
            "3\n",
            "1\n",
            "0\n",
            "2\n",
            "0\n",
            "0\n",
            "0\n",
            "2\n",
            "0\n",
            "0\n"
          ],
          "name": "stdout"
        }
      ]
    },
    {
      "cell_type": "code",
      "metadata": {
        "id": "J-mjD8QSDmOs"
      },
      "source": [
        ""
      ],
      "execution_count": null,
      "outputs": []
    }
  ]
}