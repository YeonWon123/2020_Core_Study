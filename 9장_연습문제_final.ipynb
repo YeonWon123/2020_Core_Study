{
  "nbformat": 4,
  "nbformat_minor": 0,
  "metadata": {
    "colab": {
      "name": "9장 연습문제_final.ipynb",
      "provenance": [],
      "authorship_tag": "ABX9TyOvJm9EzcV6tBad0AzMYHzE",
      "include_colab_link": true
    },
    "kernelspec": {
      "name": "python3",
      "display_name": "Python 3"
    }
  },
  "cells": [
    {
      "cell_type": "markdown",
      "metadata": {
        "id": "view-in-github",
        "colab_type": "text"
      },
      "source": [
        "<a href=\"https://colab.research.google.com/github/YeonWon123/2020_Core_Study/blob/main/9%EC%9E%A5_%EC%97%B0%EC%8A%B5%EB%AC%B8%EC%A0%9C_final.ipynb\" target=\"_parent\"><img src=\"https://colab.research.google.com/assets/colab-badge.svg\" alt=\"Open In Colab\"/></a>"
      ]
    },
    {
      "cell_type": "markdown",
      "metadata": {
        "id": "B84OxfSli7uf"
      },
      "source": [
        "* 객체, 속성, 메소드?"
      ]
    },
    {
      "cell_type": "code",
      "metadata": {
        "id": "DM85nI3oi7E8"
      },
      "source": [
        "# 객체 : 속성과 메소드를 가진 실체\r\n",
        "# 속성 : '=' 다음에 나오는 것들\r\n",
        "# 메소드는 : '.' 다음에 나오는 것들\r\n",
        "\r\n",
        "# a라는 객체를 만들어봅시다.\r\n",
        "a = 3\r\n",
        "# a의 속성? 3\r\n",
        "# a의 메소드는? __add__ (int형 객체가 제공하는 메소드 : __add__, __div__, ...)\r\n",
        "a.__add__(3)\r\n",
        "\r\n",
        "# b라는 객체를 만들어봅시다.\r\n",
        "b = ['a', 3, 'b', 4]\r\n",
        "# b의 속성 : 'a', 3, 'b', 4 : 문자열 요소, 정수 요소\r\n",
        "# b의 메소드 : append, sort, ...\r\n",
        "b.append('c')\r\n"
      ],
      "execution_count": 1,
      "outputs": []
    },
    {
      "cell_type": "markdown",
      "metadata": {
        "id": "vfc-fGOhlU83"
      },
      "source": [
        "* 클래스란?"
      ]
    },
    {
      "cell_type": "code",
      "metadata": {
        "colab": {
          "base_uri": "https://localhost:8080/",
          "height": 52
        },
        "id": "bkcuoLZolW85",
        "outputId": "7a969cb2-245c-4d0c-efbf-2af65102ee06"
      },
      "source": [
        "# ex) list 클래스\r\n",
        "\r\n",
        "'''\r\n",
        "class list:\r\n",
        "  기존에 정의가 되어 있으니\r\n",
        "\r\n",
        "# a, b, c라는 객체를 선언\r\n",
        "a = [3,4,5,6] # 리스트형 객체\r\n",
        "b = 3         # 정수형 객체\r\n",
        "c = \"나는\"    # 문자형 객체\r\n",
        "\r\n",
        "a는 리스트형 객체(인스턴스)\r\n",
        "a의 속성? -> 3,4,5,6 (정수형 변수)\r\n",
        "a의 동작? -> append(), sort(), ...\r\n",
        "\r\n",
        "b는 정수형 객체(인스턴스)\r\n",
        "b의 속성 -> 3 (정수형 변수)\r\n",
        "b의 동작 -> __add__() ex) b.__add__()\r\n",
        "\r\n",
        "c는 문자형 객체(인스턴스)\r\n",
        "c의 속성 -> \"나는\"\r\n",
        "c의 동작 -> index(), erase(), .. \r\n",
        "'''"
      ],
      "execution_count": 2,
      "outputs": [
        {
          "output_type": "execute_result",
          "data": {
            "application/vnd.google.colaboratory.intrinsic+json": {
              "type": "string"
            },
            "text/plain": [
              "'\\nclass list:\\n  기존에 정의가 되어 있으니\\n\\n# a, b, c라는 객체를 선언\\na = [3,4,5,6] # 리스트형 객체\\nb = 3         # 정수형 객체\\nc = \"나는\"    # 문자형 객체\\n\\na는 리스트형 객체(인스턴스)\\na의 속성? -> 3,4,5,6 (정수형 변수)\\na의 동작? -> append(), sort(), ...\\n\\nb는 정수형 객체(인스턴스)\\nb의 속성 -> 3 (정수형 변수)\\nb의 동작 -> __add__() ex) b.__add__()\\n\\nc는 문자형 객체(인스턴스)\\nc의 속성 -> \"나는\"\\nc의 동작 -> index(), erase(), .. \\n'"
            ]
          },
          "metadata": {
            "tags": []
          },
          "execution_count": 2
        }
      ]
    },
    {
      "cell_type": "code",
      "metadata": {
        "colab": {
          "base_uri": "https://localhost:8080/"
        },
        "id": "gsRuVtUXlY21",
        "outputId": "487b7106-3c26-4092-91ec-2b8e07ef0374"
      },
      "source": [
        "b = 3\r\n",
        "print(b.__add__(4))"
      ],
      "execution_count": 3,
      "outputs": [
        {
          "output_type": "stream",
          "text": [
            "7\n"
          ],
          "name": "stdout"
        }
      ]
    },
    {
      "cell_type": "markdown",
      "metadata": {
        "id": "fM2FxeHViaC1"
      },
      "source": [
        "* 캡슐화 개념설명"
      ]
    },
    {
      "cell_type": "code",
      "metadata": {
        "colab": {
          "base_uri": "https://localhost:8080/"
        },
        "id": "qpq15YKslNDa",
        "outputId": "2a823a2c-5e41-4274-f2d9-0a7cfe9df3d3"
      },
      "source": [
        "# 왜 캡슐화를 하는가?\r\n",
        "\r\n",
        "class 남윤원:\r\n",
        "  # 클래스 변수 : 클래스 안에 선언된 변수\r\n",
        "  SUBJECT = 4\r\n",
        "\r\n",
        "  # 생성자(초기화 메소드) : 인스턴스가 생성될 때 처음으로 호출되는 함수(메소드)\r\n",
        "  def __init__(self):\r\n",
        "    # 인스턴스 변수 : 생성자 안에서 선언된 변수\r\n",
        "    # 인스턴스 변수는 보통 앞에 __을 붙여서, (외부에 공개하고 싶지 않음)\r\n",
        "    # 클래스 밖에서 호출되지 못하게 합니다.\r\n",
        "    self.__height = 178\r\n",
        "    self.__kg = 78\r\n",
        "\r\n",
        "  # get, set함수\r\n",
        "  # get함수 : 인스턴스 변수를 클래스 밖에서 알고 싶을 때 사용\r\n",
        "  def get_height(self):\r\n",
        "    return self.__height\r\n",
        "\r\n",
        "  # set함수 : 인스턴스 변수를 클래스 밖에서 수정하고 싶을 때 사용\r\n",
        "  def set_height(self, height):\r\n",
        "    self.__height = height\r\n",
        "\r\n",
        "# a라는 인스턴스 생성\r\n",
        "a = 남윤원()  \r\n",
        "\r\n",
        "print(a.SUBJECT)\r\n",
        "#print(a.__height) # 오류! 민감한 정보를 __로 감싸서, 클래스 밖에서 그대로 부르지 못함\r\n",
        "#print(a.kg)  # 오류!\r\n",
        "\r\n",
        "print(a.get_height()) # get, set 함수를 사용하여 간접적으로 사용 가능\r\n",
        "a.set_height(75)\r\n",
        "print(a.get_height())\r\n",
        "\r\n"
      ],
      "execution_count": 4,
      "outputs": [
        {
          "output_type": "stream",
          "text": [
            "4\n",
            "178\n",
            "75\n"
          ],
          "name": "stdout"
        }
      ]
    },
    {
      "cell_type": "code",
      "metadata": {
        "id": "UcxoAIGbjAqW"
      },
      "source": [
        "# 캡슐화에 대해.. \r\n",
        "class 남윤원:\r\n",
        "  QUIZ = 4\r\n",
        "  def __init__(self, score):\r\n",
        "    self.__score = score\r\n",
        "\r\n",
        "  def get_score(self):\r\n",
        "    return self.__score\r\n",
        "\r\n",
        "s = 남윤원(40)"
      ],
      "execution_count": 5,
      "outputs": []
    },
    {
      "cell_type": "code",
      "metadata": {
        "colab": {
          "base_uri": "https://localhost:8080/",
          "height": 236
        },
        "id": "Fr6ySKi4jCBv",
        "outputId": "eb36dfce-7f93-4051-e8d0-ffab3afab000"
      },
      "source": [
        "print(s.QUIZ) # 접근 가능! \r\n",
        "print(s.get_score()) # 접근 가능\r\n",
        "print(s.score) # 접근 불가!"
      ],
      "execution_count": 7,
      "outputs": [
        {
          "output_type": "stream",
          "text": [
            "4\n",
            "40\n"
          ],
          "name": "stdout"
        },
        {
          "output_type": "error",
          "ename": "AttributeError",
          "evalue": "ignored",
          "traceback": [
            "\u001b[0;31m---------------------------------------------------------------------------\u001b[0m",
            "\u001b[0;31mAttributeError\u001b[0m                            Traceback (most recent call last)",
            "\u001b[0;32m<ipython-input-7-8daa87d5d72f>\u001b[0m in \u001b[0;36m<module>\u001b[0;34m()\u001b[0m\n\u001b[1;32m      1\u001b[0m \u001b[0mprint\u001b[0m\u001b[0;34m(\u001b[0m\u001b[0ms\u001b[0m\u001b[0;34m.\u001b[0m\u001b[0mQUIZ\u001b[0m\u001b[0;34m)\u001b[0m \u001b[0;31m# 접근 가능!\u001b[0m\u001b[0;34m\u001b[0m\u001b[0;34m\u001b[0m\u001b[0m\n\u001b[1;32m      2\u001b[0m \u001b[0mprint\u001b[0m\u001b[0;34m(\u001b[0m\u001b[0ms\u001b[0m\u001b[0;34m.\u001b[0m\u001b[0mget_score\u001b[0m\u001b[0;34m(\u001b[0m\u001b[0;34m)\u001b[0m\u001b[0;34m)\u001b[0m \u001b[0;31m# 접근 가능\u001b[0m\u001b[0;34m\u001b[0m\u001b[0;34m\u001b[0m\u001b[0m\n\u001b[0;32m----> 3\u001b[0;31m \u001b[0mprint\u001b[0m\u001b[0;34m(\u001b[0m\u001b[0ms\u001b[0m\u001b[0;34m.\u001b[0m\u001b[0mscore\u001b[0m\u001b[0;34m)\u001b[0m \u001b[0;31m# 접근 불가!\u001b[0m\u001b[0;34m\u001b[0m\u001b[0;34m\u001b[0m\u001b[0m\n\u001b[0m",
            "\u001b[0;31mAttributeError\u001b[0m: '남윤원' object has no attribute 'score'"
          ]
        }
      ]
    },
    {
      "cell_type": "code",
      "metadata": {
        "colab": {
          "base_uri": "https://localhost:8080/"
        },
        "id": "V2570Bv_iEFR",
        "outputId": "927f7dbf-c443-4b6a-8818-b2faf78754f4"
      },
      "source": [
        "# 9.7\r\n",
        "class Dog:\r\n",
        "  def __init__(self, name, age):\r\n",
        "    self.name = name\r\n",
        "    self.age = age\r\n",
        "\r\n",
        "  def __str__(self):\r\n",
        "    return '이름은 ' + self.name + '이고, 나이는 ' + str(self.age) + '살입니다.'\r\n",
        "\r\n",
        "my_dog = Dog('Mango', 3)\r\n",
        "print(my_dog)"
      ],
      "execution_count": 8,
      "outputs": [
        {
          "output_type": "stream",
          "text": [
            "이름은 Mango이고, 나이는 3살입니다.\n"
          ],
          "name": "stdout"
        }
      ]
    },
    {
      "cell_type": "code",
      "metadata": {
        "colab": {
          "base_uri": "https://localhost:8080/"
        },
        "id": "fRpfIwE5lI9g",
        "outputId": "d3e6a59c-364a-43ee-ee5b-328a7d0e0d38"
      },
      "source": [
        "# 연습문제 9.8\r\n",
        "\r\n",
        "def func(number):\r\n",
        "  a = number + 3\r\n",
        "  return a\r\n",
        "\r\n",
        "# 클래스 정의\r\n",
        "class Counter:\r\n",
        "  # 초기화 메소드, 생성자\r\n",
        "  def __init__(self, number = 0):\r\n",
        "    # 이 클래스는 __number라는 속성 값을 가짐 -> self.__number\r\n",
        "    # __init__() 안에서 생성된 변수 : 인스턴스 변수\r\n",
        "    if number >= 100 or number <= -1:\r\n",
        "      self.__number = 0\r\n",
        "    else:\r\n",
        "      self.__number = number\r\n",
        "\r\n",
        "  # __number를 0으로 초기화하는 reset() 메소드를 가짐\r\n",
        "  def reset(self):\r\n",
        "    self.__number = 0\r\n",
        "\r\n",
        "  # __number를 1 증가시키는 inc() 메소드를 가짐\r\n",
        "  def inc(self):\r\n",
        "    self.__number += 1\r\n",
        "    if self.__number >= 100:\r\n",
        "      self.__number = 0\r\n",
        "\r\n",
        "  # __number를 1 감소시키는 dec() 매소드를 가짐\r\n",
        "  def dec(self):\r\n",
        "    self.__number -= 1\r\n",
        "    if self.__number <= -1:\r\n",
        "      self.__number = 0\r\n",
        "\r\n",
        "  # C(n)과 같이 n을 출력하는 특수 메소드를 가짐\r\n",
        "  def __str__(self):\r\n",
        "    # 이 함수에서 print를 하는 게 아니고, return을 한다.\r\n",
        "    # 출력하고자 하는 값을 return한다.\r\n",
        "    return \"C({})\".format(self.__number)\r\n",
        "\r\n",
        "# 인스턴스 c1, c2 생성\r\n",
        "c1 = Counter(10)\r\n",
        "c1.inc()\r\n",
        "print('c1 = ', c1)\r\n",
        "\r\n",
        "c2 = Counter()\r\n",
        "c2.inc()\r\n",
        "c2.inc()\r\n",
        "c2.dec()\r\n",
        "print('c2 = ', c2)\r\n",
        "c2.reset()\r\n",
        "print('c2 = ', c2)"
      ],
      "execution_count": 9,
      "outputs": [
        {
          "output_type": "stream",
          "text": [
            "c1 =  C(11)\n",
            "c2 =  C(1)\n",
            "c2 =  C(0)\n"
          ],
          "name": "stdout"
        }
      ]
    },
    {
      "cell_type": "code",
      "metadata": {
        "id": "394iAbWJlSCq"
      },
      "source": [
        "# 연습문제 9.12 : TV 클래스 구현하기\r\n",
        "# 클래스 : 속성(변수)과 동작(메소드)을 가지는 것\r\n",
        "\r\n",
        "class TV:\r\n",
        "  # 클래스 변수\r\n",
        "  MIN_VOLUME = 0\r\n",
        "  MAX_VOLUME = 20\r\n",
        "  MIN_CHANNEL = 0\r\n",
        "  MAX_CHANNEL = 200\r\n",
        "\r\n",
        "  # 생성자(초기화 메소드)\r\n",
        "  def __init__(self, volume = 5, channel = 0):\r\n",
        "    # 인스턴스 변수\r\n",
        "    self.__volume = volume\r\n",
        "    self.__channel = channel\r\n",
        "    self.__is_on = False\r\n",
        "\r\n",
        "  # TV의 볼륨, 채널 상태를 문자열로 반환\r\n",
        "  def __str__(self):\r\n",
        "    # TV가 꺼진 상태인지 확인\r\n",
        "    if self.__is_on == False:\r\n",
        "      return \"TV가 꺼진 상태입니다\"\r\n",
        "    else:\r\n",
        "      return \"볼륨 = {}, 채널 = {}\".format(self.__volume, self.__channel)\r\n",
        "\r\n",
        "  def toggle_power(self):\r\n",
        "    if self.__is_on == True:\r\n",
        "      self.__is_on = False\r\n",
        "    else:\r\n",
        "      self.__is_on = True\r\n",
        "  \r\n",
        "  # get함수, set함수\r\n",
        "\r\n",
        "  # 채널 값을 반환하는 메소드\r\n",
        "  def get_channel(self):\r\n",
        "    return self.__channel\r\n",
        "\r\n",
        "  # 인자를 받아 이 값으로 채널을 설정하는 메소드\r\n",
        "  # 인자가 0에서 200 사이의 값이 아닐 경우 \"채널 오류\"를 출력(print)\r\n",
        "  def set_channel(self, channel):\r\n",
        "    if channel < 0 or channel > 200:\r\n",
        "      print(\"채널 오류\")\r\n",
        "    else:\r\n",
        "      self.__channel = channel\r\n",
        "\r\n",
        "  # 볼륨 값을 반환하는 메소드\r\n",
        "  def get_volume(self):\r\n",
        "    return self.__volume\r\n",
        "\r\n",
        "  # 인자를 받아 이 값으로 볼륨을 설정하는 메소드\r\n",
        "  # 인자가 0에서 20 사이의 값이 아닐 경우 \"볼륨 오류\"를 출력\r\n",
        "  def set_volume(self, volume):\r\n",
        "    if self.MIN_VOLUME <= volume and self.MAX_VOLUME >= volume:  \r\n",
        "      self.__volume = volume\r\n",
        "    else:\r\n",
        "      print(\"볼륨 오류\")\r\n",
        "\r\n",
        "  # 볼륨 값을 1 증가시키는 메소드, 최댓값은 MAX_VOLUME\r\n",
        "  def volume_up(self):\r\n",
        "    # 내 볼륨 값이 최댓값이면\r\n",
        "    if self.__volume >= self.MAX_VOLUME:\r\n",
        "      # 그대로 최댓값 유지\r\n",
        "      self.__volume = self.MAX_VOLUME\r\n",
        "    # 아니라면 1 증가\r\n",
        "    else:\r\n",
        "      self.__volume += 1\r\n",
        "\r\n",
        "  # 볼륨 값을 1 감소시키는 메소드, 최솟값은 MIN_VOLUME\r\n",
        "  def volume_down(self):\r\n",
        "    if self.__volume <= self.MIN_VOLUME:\r\n",
        "      self.__volume = self.MIN_VOLUME\r\n",
        "    else:\r\n",
        "      self.__volume -= 1\r\n",
        "\r\n",
        "  # 채널 값을 1 증가시키는 메소드\r\n",
        "  # 201 이상이 되면 MIN_CHANNEL(0)이 됨\r\n",
        "  def channel_up(self):\r\n",
        "    self.__channel += 1\r\n",
        "    if self.__channel >= 201:      # self.__channel > self.MAX_CHANNEL\r\n",
        "      self.__channel = self.MIN_CHANNEL # self.__channel = 0\r\n",
        "\r\n",
        "  # 채널 값을 1 감소시키는 메소드\r\n",
        "  def channel_down(self):\r\n",
        "    self.__channel -= 1\r\n",
        "    if self.__channel < 0:         # self.__channel < self.MIN_CHANNEL\r\n",
        "      self.__channel = 200         # self.__channel = self.MAX_CHANNEL\r\n"
      ],
      "execution_count": 10,
      "outputs": []
    },
    {
      "cell_type": "code",
      "metadata": {
        "colab": {
          "base_uri": "https://localhost:8080/"
        },
        "id": "JFEA68q-lTaL",
        "outputId": "f7a5cbe0-738d-4fb8-e955-f7e5ff81f5cf"
      },
      "source": [
        "my_tv = TV() # my_tv 인스턴스 생성\r\n",
        "print(my_tv)\r\n",
        "my_tv.toggle_power() # my_tv의 전원을 켬\r\n",
        "print(my_tv)\r\n",
        "my_tv.set_channel(45)\r\n",
        "print(my_tv)\r\n",
        "my_tv.volume_up()\r\n",
        "my_tv.channel_up()\r\n",
        "print(my_tv)"
      ],
      "execution_count": 11,
      "outputs": [
        {
          "output_type": "stream",
          "text": [
            "TV가 꺼진 상태입니다\n",
            "볼륨 = 5, 채널 = 0\n",
            "볼륨 = 5, 채널 = 45\n",
            "볼륨 = 6, 채널 = 46\n"
          ],
          "name": "stdout"
        }
      ]
    },
    {
      "cell_type": "code",
      "metadata": {
        "id": "rAC35yGIida1"
      },
      "source": [
        "# 코드 9-13 / LAB 9-9 벡터의 크기 비교하기\r\n",
        "import math\r\n",
        "\r\n",
        "# 으뜸파이썬 548p입니다.\r\n",
        "# Vector2D 클래스를 선언합니다.\r\n",
        "class Vector2D:\r\n",
        "  # 클래스 안에서 함수를 선언할 때에는, 함수의 매개변수 맨 앞에는 self(나 자신)를 써 줍니다.\r\n",
        "  # 클래스 함수를 사용할 때에는 self값에 어떤 값을 할당하지 않습니다.\r\n",
        "\r\n",
        "  # init함수 : 초기화 함수\r\n",
        "  # a = Vector2D(x값, y값)으로 사용합니다.\r\n",
        "  # 만약 init함수에 x, y, z값이 있다고 하면? def __init__(self, x, y, z)가 될 거고 self.z = z가 추가될 것입니다.\r\n",
        "  def __init__(self, x, y):\r\n",
        "    self.x = x\r\n",
        "    self.y = y\r\n",
        "\r\n",
        "  # Vector2D에 맞는 add 메소드를 정의합니다.\r\n",
        "  # Vector2D형 객체(자료형)를 리턴합니다.\r\n",
        "  # x값끼리 서로 더하고, y값끼리 서로 더해서 Vector2D 자료형에 할당 후 리턴합니다.\r\n",
        "  def __add__(self, other):\r\n",
        "    return Vector2D(self.x + other.x, self.y + other.y)\r\n",
        "\r\n",
        "  # Vector2D에 맞는 sub 메소드를 정의합니다.\r\n",
        "  # x값끼리 서로 빼고, y값끼리 서로 빼서 Vector2D 자료형에 할당 후 리턴합니다.\r\n",
        "  def __sub__(self, other):\r\n",
        "    return Vector2D(self.x - other.x, self.y - other.y)\r\n",
        "\r\n",
        "  # Vector2D에 맞는 mul 메소드를 정의합니다.\r\n",
        "  # x값끼리 서로 곱하고, y값끼리 서로 곱해서 Vector2D 자료형에 할당 후 리턴합니다.\r\n",
        "  def __mul__(self, x, y):\r\n",
        "    return Vector2D(self.x * other.x, self.y * other.y)\r\n",
        "\r\n",
        "  # Vector2D에 맞는 truediv 메소드를 정의합니다.\r\n",
        "  # x값끼리 서로 나누고, y값끼리 서로 나누어서 Vector2D 자료형에 할당 후 리턴합니다.\r\n",
        "  def __truediv__(self, other):\r\n",
        "    return Vector2D(self.x / other.x, self.y / other.y)\r\n",
        "\r\n",
        "  # Vector2D에 맞는 floordiv 메소드를 정의합니다.\r\n",
        "  # x값끼리 서로 나머지 연산을 하고, y값끼리 서로 나머지 연산을 해서 Vector2D 자료형에 할당 후 리턴합니다.\r\n",
        "  def __floordiv__(self, other):\r\n",
        "    return Vector2D(self.x % other.x, self.y % other.y)\r\n",
        "\r\n",
        "  # 현재 Vector2D 객체의 양수값 리턴\r\n",
        "  def __pos__(self):\r\n",
        "    return Vector2D(self.x, self.y) # x값만 출력하고 싶으면 return self.x\r\n",
        "\r\n",
        "  # 현재 Vector2D 객체의 음수값 리턴\r\n",
        "  def __neg__(self):\r\n",
        "    return Vector2D(-self.x, -self.y) # x값만 출력하고 싶으면 return -self.x\r\n",
        "\r\n",
        "  # x가 y보다 작은가?\r\n",
        "  # 비교 연산자는 return값으로 True 혹은 False를 리턴합니다.\r\n",
        "  # True 혹은 False를 리턴할 수 있는 조건문을 작성하면 됩니다.\r\n",
        "  def __lt__(self, other):\r\n",
        "    # 벡터의 크기는 각 성분값을 제곱하여 더한 후, 제곱근을 취합니다.\r\n",
        "    # self가 other보다 작은가? 를 물어보고 있으므로\r\n",
        "    # (self 벡터의 크기 < other 벡터의 크기) 를 리턴합니다.\r\n",
        "\r\n",
        "    # 제곱근 사용법 : math.sqrt(x) : x의 제곱근(루트값)을 반환\r\n",
        "    # 제곱 사용법 : math.pow(x, 2) : x^2을 반환, 또는 x ** 2 : x^2을 반환\r\n",
        "    return (math.sqrt(self.x ** 2 + self.y ** 2) < math.sqrt(other.x ** 2 + other.y ** 2))\r\n",
        "\r\n",
        "  # 현재 Vector2D 객체 출력하는 함수\r\n",
        "  def __str__(self):\r\n",
        "    return '({}, {})'.format(self.x, self.y)\r\n"
      ],
      "execution_count": 12,
      "outputs": []
    },
    {
      "cell_type": "code",
      "metadata": {
        "colab": {
          "base_uri": "https://localhost:8080/"
        },
        "id": "QnHItWSiid8L",
        "outputId": "fd821a3c-afa0-4654-8aac-f18865b9ed53"
      },
      "source": [
        "v1 = Vector2D(30, 40)\r\n",
        "v2 = Vector2D(10, 20)\r\n",
        "print(\"v1 + v2 = \", v1.__add__(v2))\r\n",
        "print(\"v1 < v2 = \", v1.__lt__(v2))"
      ],
      "execution_count": 13,
      "outputs": [
        {
          "output_type": "stream",
          "text": [
            "v1 + v2 =  (40, 60)\n",
            "v1 < v2 =  False\n"
          ],
          "name": "stdout"
        }
      ]
    },
    {
      "cell_type": "code",
      "metadata": {
        "id": "OkDWBxQQif85"
      },
      "source": [
        "# 연습문제 9.11\r\n",
        "class Student:\r\n",
        "  def __init__(self, name, student_id):\r\n",
        "    # 인스턴스 변수는 생성자 안에 정의해요! (클래스 변수는 생성자 밖에서 정의 but 클래스 안에 있음)\r\n",
        "    self.__name = name\r\n",
        "    self.__student_id = student_id\r\n",
        "    self.__korean_quiz = 0\r\n",
        "    self.__math_quiz = 0\r\n",
        "    self.__science_quiz = 0\r\n",
        "    self.__total_score = 0\r\n",
        "\r\n",
        "  # get함수\r\n",
        "  def get_name(self):\r\n",
        "    return self.__name\r\n",
        "\r\n",
        "  def get_student_id(self):\r\n",
        "    return self.__student_id\r\n",
        "\r\n",
        "  def get_korean_quiz(self):\r\n",
        "    return self.__korean_quiz\r\n",
        "\r\n",
        "  def get_math_quiz(self):\r\n",
        "    return self.__math_quiz\r\n",
        "\r\n",
        "  def get_science_quiz(self):\r\n",
        "    return self.__science_quiz\r\n",
        "\r\n",
        "  # set함수\r\n",
        "  def set_korean_quiz(self, korean):\r\n",
        "    self.__korean_quiz = korean\r\n",
        "\r\n",
        "  def set_math_quiz(self, math):\r\n",
        "    self.__math_quiz = math\r\n",
        "\r\n",
        "  def set_science_quiz(self, science):\r\n",
        "    self.__science_quiz = science\r\n",
        "\r\n",
        "  def get_total_score(self):\r\n",
        "    return self.__korean_quiz + self.__math_quiz + self.__science_quiz\r\n",
        "\r\n",
        "  def get_avg_score(self):\r\n",
        "    return self.get_total_score() / 3\r\n",
        "    \r\n",
        "  def __str__(self):\r\n",
        "    return '이름 : {0}, 학번 : {1}\\n국어성적 : {2}, 수학성적 : {3}, 과학성적 : {4}\\n합계 : {5}, 평균 : {6}'\\\r\n",
        "    .format(self.get_name(), self.get_student_id(), self.get_korean_quiz(), self.get_math_quiz(), self.get_science_quiz(), self.get_total_score(), self.get_avg_score()) # 코드 줄바꿈할 때 \\ 를 이용합니다."
      ],
      "execution_count": 20,
      "outputs": []
    },
    {
      "cell_type": "code",
      "metadata": {
        "colab": {
          "base_uri": "https://localhost:8080/"
        },
        "id": "zfValByVilwN",
        "outputId": "9190da9d-1f2d-4a80-f029-3a4b02e40925"
      },
      "source": [
        "name = input('학생의 이름을 입력하세요 : ')\r\n",
        "student_id = input('학생의 학번을 입력하세요 : ')\r\n",
        "\r\n",
        "student = Student(name, student_id)\r\n",
        "\r\n",
        "korean_quiz = int(input('학생의 국어 성적을 입력하세요 : '))\r\n",
        "math_quiz = int(input('학생의 수학 성적을 입력하세요 : '))\r\n",
        "science_quiz = int(input('학생의 과학 성적을 입력하세요 : '))\r\n",
        "student.set_korean_quiz(korean_quiz)\r\n",
        "student.set_math_quiz(math_quiz)\r\n",
        "student.set_science_quiz(science_quiz)\r\n",
        "print(student)"
      ],
      "execution_count": 21,
      "outputs": [
        {
          "output_type": "stream",
          "text": [
            "학생의 이름을 입력하세요 : 남윤원\n",
            "학생의 학번을 입력하세요 : 20150413\n",
            "학생의 국어 성적을 입력하세요 : 80\n",
            "학생의 수학 성적을 입력하세요 : 50\n",
            "학생의 과학 성적을 입력하세요 : 60\n",
            "이름 : 남윤원, 학번 : 20150413\n",
            "국어성적 : 80, 수학성적 : 50, 과학성적 : 60\n",
            "합계 : 190, 평균 : 63.333333333333336\n"
          ],
          "name": "stdout"
        }
      ]
    },
    {
      "cell_type": "code",
      "metadata": {
        "id": "3DXD0Sl8in4Y"
      },
      "source": [
        "# 연습문제 9.13\r\n",
        "\r\n",
        "class Rectangle:\r\n",
        "  # 생성자 혹은 초기화 메소드라고 부릅니다.\r\n",
        "  # x, y, width, height 값을 매개변수로 받아 인스턴스변수를 초기화함\r\n",
        "  def __init__(self, x, y, width, height): # 클래스 안에 들어가 있는 함수는 무조건 매개변수 맨 앞에 self를 붙입니다.\r\n",
        "    self.__x = x            # 사각형의 좌측 상단좌표의 x값\r\n",
        "    self.__y = y            # 사각형의 좌측 상단좌표의 y값\r\n",
        "    self.__width = width    # 사각형의 너비\r\n",
        "    self.__height = height  # 사각형의 높이\r\n",
        "\r\n",
        "  # 사각형의 좌표와 너비, 높이, 면적을 문자열로 반환\r\n",
        "  def __str__(self): \r\n",
        "    return \"(x = \" + str(self.get_x()) + \", y = \" + str(self.get_y()) + \\\r\n",
        "           \", w = \" + str(self.get_width()) + \", h = \" + str(self.get_height()) + \\\r\n",
        "           \"), 면적 : \" + str(self.area())\r\n",
        "\r\n",
        "  # 사각형의 x좌표 값을 지정함\r\n",
        "  def set_x(self, x):\r\n",
        "    self.__x = x\r\n",
        "\r\n",
        "  # 사각형의 x좌표 값을 반환함\r\n",
        "  def get_x(self):\r\n",
        "    return self.__x\r\n",
        "\r\n",
        "  # 사각형의 y좌표 값을 지정함\r\n",
        "  def set_y(self, y):\r\n",
        "    self.__y = y\r\n",
        "\r\n",
        "  # 사각형의 y좌표 값을 반환함\r\n",
        "  def get_y(self):\r\n",
        "    return self.__y\r\n",
        "\r\n",
        "  # 사각형의 width 값을 지정함\r\n",
        "  def set_width(self, width):\r\n",
        "    self.__width = width\r\n",
        "\r\n",
        "  # 사각형의 width 값을 반환함\r\n",
        "  def get_width(self):\r\n",
        "    return self.__width\r\n",
        "\r\n",
        "  # 사각형의 height 값을 지정함\r\n",
        "  def set_height(self, height):\r\n",
        "    self.__height = height\r\n",
        "\r\n",
        "  # 사각형의 height 값을 반환함\r\n",
        "  def get_height(self):\r\n",
        "    return self.__height\r\n",
        "\r\n",
        "  # 현재 사각형의 면적을 반환함\r\n",
        "  def area(self):\r\n",
        "    # 사각형의 면적 : 너비 * 높이\r\n",
        "    return self.__width * self.__height\r\n",
        "\r\n",
        "  # 매개변수 r 사각형(r)이 현재 사각형(self)과 겹치는 부분이 있으면 True를 반환\r\n",
        "  # 겹치는 부분이 없으면 False를 반환\r\n",
        "  def overlaps(self, r):\r\n",
        "    # 현재 사각형(self 사각형)의 네 점을 구해 봅시다.\r\n",
        "    s_point1 = [self.__x, self.__y]\r\n",
        "    s_point2 = [self.__x + self.__width, self.__y]\r\n",
        "    s_point3 = [self.__x, self.__y - self.__height]\r\n",
        "    s_point4 = [self.__x + self.__width, self.__y - self.__height]\r\n",
        "    \r\n",
        "    s_point = [s_point1, s_point2, s_point3, s_point4]\r\n",
        "\r\n",
        "    # 매개변수로 입력받은 r 사각형의 네 점을 구해 봅시다.\r\n",
        "    r_point1 = [r.__x, r.__y]\r\n",
        "    r_point2 = [r.__x + r.__width, r.__y]\r\n",
        "    r_point3 = [r.__x, r.__y - r.__height]\r\n",
        "    r_point4 = [r.__x + r.__width, r.__y - r.__height]\r\n",
        "\r\n",
        "    r_point = [r_point1, r_point2, r_point3, r_point4]\r\n",
        "\r\n",
        "    # 현재 사각형의 네 점이 매개변수로 입력받은 r 사각형의 내부에 있는지 확인\r\n",
        "    for i in s_point:\r\n",
        "      # x좌표 확인\r\n",
        "      if (r.__x <= i[0] and i[0] <= r.__x + r.__width):\r\n",
        "        # y좌표 확인\r\n",
        "        if (r.__y - r.__height <= i[1] and i[1] <= r.__y):\r\n",
        "          return True\r\n",
        "\r\n",
        "    # 매개변수로 입력받은 r 사각형의 네 점이 현재 사각형의 내부에 있는지 확인\r\n",
        "    for i in r_point:\r\n",
        "      # x좌표 확인\r\n",
        "      if (self.__x <= i[0] and i[0] <= self.__x + self.__width):\r\n",
        "        # y좌표 확인\r\n",
        "        if (self.__y - self.__height <= i[1] and i[1] <= self.__y):\r\n",
        "          return True\r\n",
        "\r\n",
        "    return False\r\n",
        "\r\n",
        "  # 매개변수 r 사각형이 현재 사각형에 포함되어 있으면 True를 반환\r\n",
        "  # 포함되어 있지 않으면 False를 반환\r\n",
        "  def contains(self, r):\r\n",
        "    # 현재 사각형(self 사각형)의 네 점을 구해 봅시다.\r\n",
        "    s_point1 = [self.__x, self.__y]\r\n",
        "    s_point2 = [self.__x + self.__width, self.__y]\r\n",
        "    s_point3 = [self.__x, self.__y - self.__height]\r\n",
        "    s_point4 = [self.__x + self.__width, self.__y - self.__height]\r\n",
        "    \r\n",
        "    s_point = [s_point1, s_point2, s_point3, s_point4]\r\n",
        "\r\n",
        "    # 매개변수로 입력받은 r 사각형의 네 점을 구해 봅시다.\r\n",
        "    r_point1 = [r.__x, r.__y]\r\n",
        "    r_point2 = [r.__x + r.__width, r.__y]\r\n",
        "    r_point3 = [r.__x, r.__y - r.__height]\r\n",
        "    r_point4 = [r.__x + r.__width, r.__y - r.__height]\r\n",
        "\r\n",
        "    r_point = [r_point1, r_point2, r_point3, r_point4]\r\n",
        "\r\n",
        "    # 매개변수로 입력받은 r 사각형의 네 점이 모두 현재 사각형의 내부에 있는지 확인\r\n",
        "    sw = 0\r\n",
        "    for i in r_point:\r\n",
        "      # x좌표 확인\r\n",
        "      if (self.__x <= i[0] and i[0] <= self.__x + self.__width):\r\n",
        "        # y좌표 확인\r\n",
        "        if (self.__y - self.__height <= i[1] and i[1] <= self.__y):\r\n",
        "          sw += 1\r\n",
        "\r\n",
        "    if sw == 4:\r\n",
        "      return True\r\n",
        "    else:\r\n",
        "      return False\r\n"
      ],
      "execution_count": 22,
      "outputs": []
    },
    {
      "cell_type": "code",
      "metadata": {
        "colab": {
          "base_uri": "https://localhost:8080/"
        },
        "id": "Eeb6sIi0i4sF",
        "outputId": "8912efd9-67e0-4a1d-8ab0-411c0fa4428f"
      },
      "source": [
        "# 연습문제 9.13 Test\r\n",
        "r1 = Rectangle(0, 0, 100, 100)\r\n",
        "r2 = Rectangle(0, -10, 10, 10)\r\n",
        "r3 = Rectangle(-100, 0, 120, 100)\r\n",
        "\r\n",
        "print('r1 = ', r1)\r\n",
        "print('r2 = ', r2)\r\n",
        "print('r3 = ', r3)\r\n",
        "\r\n",
        "print('r1 contains r2 : ', r1.contains(r2))\r\n",
        "print('r1 contains r3 : ', r1.contains(r3))\r\n",
        "print('r1 overlaps r2 : ', r1.overlaps(r2))\r\n",
        "print('r1 overlaps r3 : ', r1.overlaps(r3))"
      ],
      "execution_count": 23,
      "outputs": [
        {
          "output_type": "stream",
          "text": [
            "r1 =  (x = 0, y = 0, w = 100, h = 100), 면적 : 10000\n",
            "r2 =  (x = 0, y = -10, w = 10, h = 10), 면적 : 100\n",
            "r3 =  (x = -100, y = 0, w = 120, h = 100), 면적 : 12000\n",
            "r1 contains r2 :  True\n",
            "r1 contains r3 :  False\n",
            "r1 overlaps r2 :  True\n",
            "r1 overlaps r3 :  True\n"
          ],
          "name": "stdout"
        }
      ]
    },
    {
      "cell_type": "code",
      "metadata": {
        "id": "KWlzbL6klfm_"
      },
      "source": [
        "# 연습문제 9.13 다른 풀이\r\n",
        "\r\n",
        "# 클래스 구현\r\n",
        "class Rectangle:\r\n",
        "  # 클래스 변수 : 없음\r\n",
        "\r\n",
        "  # 생성자(초기화 메소드)\r\n",
        "  def __init__(self, x, y, width, height):\r\n",
        "    # 인스턴스 변수 : 생성자 안에 정의된 변수\r\n",
        "    self.__x = x\r\n",
        "    self.__y = y\r\n",
        "    self.__width = width\r\n",
        "    self.__height = height\r\n",
        "\r\n",
        "  # 사각형의 좌표와 너비, 높이, 면적을 문자열로 반환\r\n",
        "  def __str__(self):\r\n",
        "    return \"Rectangle : (x = {0}, y = {1}, w = {2}, h = {3}), 면적 : {4}\" \\\r\n",
        "           .format(self.__x, self.__y, self.__width, self.__height, self.area())\r\n",
        "\r\n",
        "  # get, set 함수\r\n",
        "\r\n",
        "  # 사각형의 x좌표 값을 \"지정\"함\r\n",
        "  def set_x(self, x):\r\n",
        "    self.__x = x\r\n",
        "  \r\n",
        "  # 사각형의 x좌표 값을 \"반환\"함\r\n",
        "  def get_x(self):\r\n",
        "    return self.__x\r\n",
        "\r\n",
        "  # 사각형의 y좌표 값을 지정함\r\n",
        "  def set_y(self, y):\r\n",
        "    self.__y = y\r\n",
        "\r\n",
        "  # 사각형의 y좌표 값을 반환함\r\n",
        "  def get_y(self):\r\n",
        "    return self.__y\r\n",
        "\r\n",
        "  # 사각형의 width 값을 지정함\r\n",
        "  def set_width(self, width):\r\n",
        "    self.__width = width\r\n",
        "\r\n",
        "  # 사각형의 width 값을 반환함\r\n",
        "  def get_width(self):\r\n",
        "    return self.__width\r\n",
        "\r\n",
        "  # 사각형의 height 값을 지정함\r\n",
        "  def set_height(self, height):\r\n",
        "    self.__height = height\r\n",
        "\r\n",
        "  # 사각형의 height 값을 반환함\r\n",
        "  def get_height(self):\r\n",
        "    return self.__height\r\n",
        "\r\n",
        "  # 현재 사각형(self)의 면적을 반환\r\n",
        "  def area(self):\r\n",
        "    # 사각형의 면적 = 너비(width) * 높이(height)\r\n",
        "    return self.__width * self.__height\r\n",
        "\r\n",
        "  # 매개변수 r 사각형이 현재 사각형(self)과 겹치는 부분이 있으면 True 반환\r\n",
        "  # 겹치는 부분이 없으면 False 반환\r\n",
        "  def overlaps(self, r):\r\n",
        "    # 겹치는 걸 어떻게 아나요?\r\n",
        "    # 우선 self 사각형의 네 좌표\r\n",
        "    s1 = (self.__x, self.__y)\r\n",
        "    s2 = (self.__x, self.__y - self.__height) # y값은 - 방향으로 이동\r\n",
        "    s3 = (self.__x + self.__width, self.__y - self.__height)\r\n",
        "    s4 = (self.__x + self.__width, self.__y)\r\n",
        "    s_point = [s1, s2, s3, s4]\r\n",
        "\r\n",
        "    # r 사각형의 네 좌표\r\n",
        "    r1 = (r.__x, r.__y)\r\n",
        "    r2 = (r.__x, r.__y - r.__height)\r\n",
        "    r3 = (r.__x + r.__width, r.__y - r.__height)\r\n",
        "    r4 = (r.__x + r.__width, r.__y)\r\n",
        "    r_point = [r1, r2, r3, r4]\r\n",
        "\r\n",
        "    # r 사각형의 네 점 중 하나가 self 사각형 안에 들어갈까?\r\n",
        "    for i in r_point:\r\n",
        "      # self 사각형의 x좌표 <= r 사각형의 한 점의 x좌표 \r\n",
        "      # <= self 사각형의 x좌표 + self 사각형의 너비\r\n",
        "      if i[0] >= self.__x and i[0] <= self.__x + self.__width:\r\n",
        "        # self 사각형의 y좌표 - self 사각형의 높이\r\n",
        "        # <= r 사각형의 한 점의 y좌표 <= self 사각형의 y좌표\r\n",
        "        if i[1] <= self.__y and i[1] >= self.__y - self.__height:\r\n",
        "          return True\r\n",
        "\r\n",
        "    # self 사각형의 네 점 중 하나가 r 사각형 안에 들어갈까?\r\n",
        "    for i in s_point:\r\n",
        "      if i[0] >= r.__x and i[0] <= r.__x + r.__width:\r\n",
        "        if i[1] <= r.__y and i[1] >= r.__y - r.__height:\r\n",
        "          return True\r\n",
        "\r\n",
        "    return False\r\n",
        "\r\n",
        "  # 매개변수 r 사각형이 현재 사각형에 포함되어 있으면 True, 아니면 False\r\n",
        "  def contains(self, r):\r\n",
        "    # self, r 사각형의 네 좌표를 찾아봅시다.\r\n",
        "    # 우선 self 사각형의 네 좌표\r\n",
        "    s1 = (self.__x, self.__y)\r\n",
        "    s2 = (self.__x, self.__y - self.__height) # y값은 - 방향으로 이동\r\n",
        "    s3 = (self.__x + self.__width, self.__y - self.__height)\r\n",
        "    s4 = (self.__x + self.__width, self.__y)\r\n",
        "    s_point = [s1, s2, s3, s4]\r\n",
        "\r\n",
        "    # r 사각형의 네 좌표\r\n",
        "    r1 = (r.__x, r.__y)\r\n",
        "    r2 = (r.__x, r.__y - r.__height)\r\n",
        "    r3 = (r.__x + r.__width, r.__y - r.__height)\r\n",
        "    r4 = (r.__x + r.__width, r.__y)\r\n",
        "    r_point = [r1, r2, r3, r4]\r\n",
        "\r\n",
        "    sw = 0\r\n",
        "    # r 사각형의 네 점 모두가 self 사각형 안에 들어갈까?\r\n",
        "    for i in r_point:\r\n",
        "      #print(\"a\", i[0], i[1])\r\n",
        "      # self 사각형의 x좌표 <= r 사각형의 한 점의 x좌표 \r\n",
        "      # <= self 사각형의 x좌표 + self 사각형의 너비\r\n",
        "      if i[0] >= self.__x and i[0] <= self.__x + self.__width:\r\n",
        "        # self 사각형의 y좌표 - self 사각형의 높이\r\n",
        "        # <= r 사각형의 한 점의 y좌표 <= self 사각형의 y좌표\r\n",
        "        if i[1] <= self.__y and i[1] >= self.__y - self.__height:\r\n",
        "          #print(i[0], i[1])\r\n",
        "          sw += 1\r\n",
        "\r\n",
        "    #print(sw)\r\n",
        "    if sw == 4:\r\n",
        "      return True\r\n",
        "    else:\r\n",
        "      return False"
      ],
      "execution_count": 24,
      "outputs": []
    },
    {
      "cell_type": "code",
      "metadata": {
        "colab": {
          "base_uri": "https://localhost:8080/"
        },
        "id": "hXvwbZqKliR2",
        "outputId": "0b06298e-b949-4cf9-cdf9-2b37d5ab309a"
      },
      "source": [
        "# 인스턴스 생성\r\n",
        "r1 = Rectangle(0, 0, 100, 100)\r\n",
        "r2 = Rectangle(0, -10, 10, 10)\r\n",
        "r3 = Rectangle(-100, 0, 120, 100)\r\n",
        "\r\n",
        "print('r1 = ', r1)\r\n",
        "print('r2 = ', r2)\r\n",
        "print('r3 = ', r3)\r\n",
        "\r\n",
        "print('r1 contains r2 :', r1.contains(r2))\r\n",
        "print('r1 contains r3 :', r1.contains(r3))\r\n",
        "print('r1 overlaps r2 :', r1.overlaps(r2))\r\n",
        "print('r1 overlaps r3 :', r1.overlaps(r3))"
      ],
      "execution_count": 25,
      "outputs": [
        {
          "output_type": "stream",
          "text": [
            "r1 =  Rectangle : (x = 0, y = 0, w = 100, h = 100), 면적 : 10000\n",
            "r2 =  Rectangle : (x = 0, y = -10, w = 10, h = 10), 면적 : 100\n",
            "r3 =  Rectangle : (x = -100, y = 0, w = 120, h = 100), 면적 : 12000\n",
            "r1 contains r2 : True\n",
            "r1 contains r3 : False\n",
            "r1 overlaps r2 : True\n",
            "r1 overlaps r3 : True\n"
          ],
          "name": "stdout"
        }
      ]
    },
    {
      "cell_type": "code",
      "metadata": {
        "id": "cuHTeeNiljCT"
      },
      "source": [
        "# 연습문제 9.14\r\n",
        "import math\r\n",
        "\r\n",
        "class Circle:\r\n",
        "  # 클래스 변수\r\n",
        "  PI = 3.14\r\n",
        "\r\n",
        "  # 생성자(초기화 메소드)\r\n",
        "  # x, y, radius 값을 매개변수로 받아 인스턴스변수를 초기화함\r\n",
        "  def __init__(self, x, y, radius):\r\n",
        "    # 인스턴스변수 : 생성자 안에서 정의된 변수 (__x, __y, __radius)\r\n",
        "    self.__x = x\r\n",
        "    self.__y = y\r\n",
        "    self.__radius = radius\r\n",
        "\r\n",
        "  # 원의 중심 좌표와 반지름, 면적을 문자열로 반환함\r\n",
        "  def __str__(self):\r\n",
        "    return \"Circle : (x = {}, y = {}, z = {}), 면적 : {}\"\\\r\n",
        "    .format(self.__x, self.__y, self.__radius, self.area())\r\n",
        "\r\n",
        "  # 원의 중심 x좌표 값을 지정함\r\n",
        "  def set_x(self, x):\r\n",
        "    self.__x = x\r\n",
        "\r\n",
        "  # 원의 중심 x좌표 값을 반환함\r\n",
        "  def get_x(self):\r\n",
        "    return self.__x\r\n",
        "\r\n",
        "  # 원의 중심 y좌표 값을 지정함\r\n",
        "  def set_y(self, y):\r\n",
        "    self.__y = y\r\n",
        "\r\n",
        "  # 원의 중심 y좌표 값을 반환함\r\n",
        "  def get_y(self):\r\n",
        "    return self.__y\r\n",
        "    \r\n",
        "  # 원의 radius 값을 지정함\r\n",
        "  def set_radius(self, radius):\r\n",
        "    self.__radius = radius\r\n",
        "\r\n",
        "  # 원의 radius 값을 반환함\r\n",
        "  def get_radius(self):\r\n",
        "    return self.__radius\r\n",
        "\r\n",
        "  # 원의 면적을 반환함\r\n",
        "  def area(self):\r\n",
        "    return self.PI * self.__radius * self.__radius # self.__radius ** 2 도 가능, self.get_radius() ** 2도 가능\r\n",
        "  \r\n",
        "  # 매개변수 c 원이 현재 원과 겹치는 부분이 있으면 True 반환, 없으면 False 반환\r\n",
        "  def overlaps(self, c):\r\n",
        "    # self 원과 c 원의 반지름 길이의 합 > self 원과 c 원의 중심 점 간의 거리\r\n",
        "    # 두 원의 중심 점 간의 거리 구하는 공식 : 루트값((두 원의 x좌표 차이)^2 + (두 원의 y좌표 차이)^2)\r\n",
        "    if (self.__radius + c.__radius) > math.sqrt(abs(self.__x - c.__x) ** 2 + abs(self.__y - c.__y) ** 2):\r\n",
        "      return True\r\n",
        "    return False\r\n",
        "\r\n",
        "  # 매개변수 c 원이 현재 원에 포함되어 있으면 True 반환, 아니면 False 반환\r\n",
        "  def contains(self, c):\r\n",
        "    # self 원의 반지름 길이 >= self 원과 c 원의 중심 점 간의 거리 + c 원의 반지름 길이\r\n",
        "    if self.__radius >= math.sqrt(abs(self.__x - c.__x) ** 2 + abs(self.__y + c.__y) ** 2) + c.__radius:\r\n",
        "      return True\r\n",
        "    return False\r\n"
      ],
      "execution_count": 26,
      "outputs": []
    },
    {
      "cell_type": "code",
      "metadata": {
        "colab": {
          "base_uri": "https://localhost:8080/"
        },
        "id": "tNnXBMm4lkUM",
        "outputId": "13653850-0a6b-4f7c-f215-111583969cbf"
      },
      "source": [
        "c1 = Circle(0, 0, 100)  # 중심좌표는 0, 0이며 반지름이 100\r\n",
        "c2 = Circle(0, -10, 10) # 중심좌표는 0, -10이며 반지름이 10\r\n",
        "c3 = Circle(-100, 0, 120) # 중심좌표는 -100, 0이며 반지름이 120\r\n",
        "\r\n",
        "print('c1 = ', c1)\r\n",
        "print('c2 = ', c2)\r\n",
        "print('c3 = ', c3)\r\n",
        "\r\n",
        "print('c1 contains c2 :', c1.contains(c2))\r\n",
        "print('c1 contains c3 :', c1.contains(c3))\r\n",
        "print('c1 overlaps c2 :', c1.overlaps(c2))\r\n",
        "print('c1 overlaps c3 :', c1.overlaps(c3))"
      ],
      "execution_count": 27,
      "outputs": [
        {
          "output_type": "stream",
          "text": [
            "c1 =  Circle : (x = 0, y = 0, z = 100), 면적 : 31400.0\n",
            "c2 =  Circle : (x = 0, y = -10, z = 10), 면적 : 314.0\n",
            "c3 =  Circle : (x = -100, y = 0, z = 120), 면적 : 45216.0\n",
            "c1 contains c2 : True\n",
            "c1 contains c3 : False\n",
            "c1 overlaps c2 : True\n",
            "c1 overlaps c3 : True\n"
          ],
          "name": "stdout"
        }
      ]
    }
  ]
}