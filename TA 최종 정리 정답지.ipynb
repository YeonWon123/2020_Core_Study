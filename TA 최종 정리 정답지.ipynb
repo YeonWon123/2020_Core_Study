{
  "nbformat": 4,
  "nbformat_minor": 0,
  "metadata": {
    "colab": {
      "name": "TA 최종 정리 정답지.ipynb",
      "provenance": [],
      "authorship_tag": "ABX9TyNWvbFQRF1zY6NSlQYbmROX",
      "include_colab_link": true
    },
    "kernelspec": {
      "name": "python3",
      "display_name": "Python 3"
    }
  },
  "cells": [
    {
      "cell_type": "markdown",
      "metadata": {
        "id": "view-in-github",
        "colab_type": "text"
      },
      "source": [
        "<a href=\"https://colab.research.google.com/github/YeonWon123/2020_Core_Study/blob/main/TA%20%EC%B5%9C%EC%A2%85%20%EC%A0%95%EB%A6%AC%20%EC%A0%95%EB%8B%B5%EC%A7%80.ipynb\" target=\"_parent\"><img src=\"https://colab.research.google.com/assets/colab-badge.svg\" alt=\"Open In Colab\"/></a>"
      ]
    },
    {
      "cell_type": "markdown",
      "metadata": {
        "id": "3pb4Ly5WxlNU"
      },
      "source": [
        "1. 다음 실행 결과가 나오게끔 코드를 작성해 보세요. 단, 주어진 lol 리스트를 이용해야 합니다."
      ]
    },
    {
      "cell_type": "code",
      "metadata": {
        "colab": {
          "base_uri": "https://localhost:8080/"
        },
        "id": "mw4leRcRxaVh",
        "outputId": "1ce231a6-b322-4cb8-d7a5-66a63d1f47cb"
      },
      "source": [
        "lol = [[1,2,3], [4,5], [6,7,8,9]]\n",
        "\n",
        "# 답안 작성 부분\n",
        "print(lol[0])\n",
        "print(lol[2][1])\n",
        "for sub in lol:\n",
        "  for item in sub:\n",
        "    print(item, end = ' ')\n",
        "  print()"
      ],
      "execution_count": null,
      "outputs": [
        {
          "output_type": "stream",
          "text": [
            "[1, 2, 3]\n",
            "7\n",
            "1 2 3 \n",
            "4 5 \n",
            "6 7 8 9 \n"
          ],
          "name": "stdout"
        }
      ]
    },
    {
      "cell_type": "code",
      "metadata": {
        "colab": {
          "base_uri": "https://localhost:8080/"
        },
        "id": "yi2qaSvrjIKi",
        "outputId": "cc7beef6-a292-4428-908c-fe78adef0f45"
      },
      "source": [
        "# 다른 풀이 (정하연님 풀이)\n",
        "\n",
        "a = list(lol[-1])\n",
        "print(a)\n",
        "for i in range(len(lol)):\n",
        "  for j in range(len(lol[i])):\n",
        "    print(lol[i][j], end = ' ')\n",
        "  print()"
      ],
      "execution_count": 15,
      "outputs": [
        {
          "output_type": "stream",
          "text": [
            "[6, 7, 8, 9]\n",
            "1 2 3 \n",
            "4 5 \n",
            "6 7 8 9 \n"
          ],
          "name": "stdout"
        }
      ]
    },
    {
      "cell_type": "markdown",
      "metadata": {
        "id": "wdXfkupzx1Yo"
      },
      "source": [
        "2. 다음 실행 결과가 나오게끔 코드를 작성해 보세요. \\\n",
        "조건 : 숫자 자료형이 입력되지 않는 경우 예외 처리하기"
      ]
    },
    {
      "cell_type": "code",
      "metadata": {
        "colab": {
          "base_uri": "https://localhost:8080/"
        },
        "id": "47rjH45zx409",
        "outputId": "1130a642-ecb8-462f-b68a-d3955b1c25e2"
      },
      "source": [
        "# if ~ else문으로 예외처리할 수 없는 이유!\n",
        "# except은 여러 개 쓸 수 있음!\n",
        "# 직접 오류를 보고 어떤 에러인지 확인해서 except문구 작성해도 됨\n",
        "# 공백이랑 들여쓰기에 주의!\n",
        "try:\n",
        "  a = int(input(\"자연수를 입력하세요:\"))\n",
        "  for i in range(0, a+1, 1): # i는 0, 1, 2, 3, 4, 5\n",
        "    for j in range(i):       # j는 0, 1, 2, 3, 4, 5 \n",
        "      print(' ', end = '')\n",
        "    for j in range(i+1, a+1): # j는 1, 2, 3, 4, 5, 6\n",
        "      print('*', end = '')\n",
        "    print()\n",
        "  n = 100 / a\n",
        "except ValueError:\n",
        "  print(\"숫자가 아닙니다!\")\n",
        "except ZeroDivisionError:\n",
        "  print(\"0으로 나눌 수 없습니다!\")"
      ],
      "execution_count": 24,
      "outputs": [
        {
          "output_type": "stream",
          "text": [
            "자연수를 입력하세요:abc\n",
            "숫자가 아닙니다!\n"
          ],
          "name": "stdout"
        }
      ]
    },
    {
      "cell_type": "code",
      "metadata": {
        "colab": {
          "base_uri": "https://localhost:8080/"
        },
        "id": "iwx4S5JAkyPo",
        "outputId": "e5b44477-d2a9-4d2d-fd42-a6ef26292ba5"
      },
      "source": [
        "# print의 특징 -> sep, end를 잘 활용해 보자!\n",
        "print(\"ad\", \"db\", \"cs\", \"ef\", sep = ':', end = ' ')"
      ],
      "execution_count": 30,
      "outputs": [
        {
          "output_type": "stream",
          "text": [
            "ad:db:cs:ef\n"
          ],
          "name": "stdout"
        }
      ]
    },
    {
      "cell_type": "code",
      "metadata": {
        "id": "c_9pVoil6-H1"
      },
      "source": [
        "# 연습문제 6.20 (3) print 특징 응용하는 문제\n",
        "\n",
        "a = ('박동규', 91.00)\n",
        "b = [3,4,5,6,7,8,9]\n",
        "print(*a, sep=\"\\t\")\n",
        "print(*b, sep=\":\")\n",
        "print(*b, sep=\"   \")\n",
        "\n",
        "#print(a[0], '\\t', a[1])\n",
        "#'\\n', "
      ],
      "execution_count": null,
      "outputs": []
    },
    {
      "cell_type": "markdown",
      "metadata": {
        "id": "aU79gl-FzFm3"
      },
      "source": [
        "3. 뱀행렬 문제 (연습문제 3장, 5장)"
      ]
    },
    {
      "cell_type": "code",
      "metadata": {
        "id": "qxO068LNzsi2",
        "colab": {
          "base_uri": "https://localhost:8080/"
        },
        "outputId": "03e76f05-5f82-42ac-a455-be5b26dd593e"
      },
      "source": [
        "# 입력받기\n",
        "n = int(input('n을 입력하시오 : '))\n",
        "\n",
        "'''\n",
        "요러한 리스트를 만드는 게 목표!\n",
        "[ [1 ,  2,  3,  4,  5],\n",
        "  [10,  9,  8,  7,  6],\n",
        "  [11,  12, 13, 14, 15],\n",
        "  [20,  19, 18, 17, 16],\n",
        "  [21,  22, 23, 24, 25]  ]\n",
        "'''\n",
        "\n",
        "list_arr = [] #여기에는 리스트가 들어갈 것!\n",
        "\n",
        "# list_arr 안에 n개의 줄이 들어가야 함\n",
        "for j in range(1, n+1, 1):\n",
        "\n",
        "  list_in = []\n",
        "\n",
        "  # j가 홀수라면 (홀수번째 줄을 처리해야 하면)\n",
        "  # list_in 안에 수들을 '오름차순'으로 넣고 (작은 것부터 큰 것 순으로)\n",
        "  if j % 2 != 0:\n",
        "    for i in range(n*(j-1)+1, n*(j-1)+1+n, 1): # j = 1, 3, 5, 7, ... \n",
        "      list_in.append(i)\n",
        "\n",
        "  # j가 짝수라면 (짝수번째 줄을 처리해야 한다면)\n",
        "  # list_in 안에 수들을 '내림차순'으로 넣자 (큰 것부터 작은 것 순으로)\n",
        "  else:\n",
        "    for i in range(n*j, n*(j-1), -1): # j = 2, 4, 6, 8, ...\n",
        "      list_in.append(i)\n",
        " \n",
        "  list_arr.append(list_in)\n",
        "\n",
        "# 최종 출력해보기\n",
        "for i in list_arr:\n",
        "  print(i)\n",
        "\n",
        "for i in range(0, len(list_arr), 1):\n",
        "  print(list_arr[i])"
      ],
      "execution_count": 48,
      "outputs": [
        {
          "output_type": "stream",
          "text": [
            "n을 입력하시오 : 3\n",
            "[1, 2, 3]\n",
            "[6, 5, 4]\n",
            "[7, 8, 9]\n",
            "[1, 2, 3]\n",
            "[6, 5, 4]\n",
            "[7, 8, 9]\n"
          ],
          "name": "stdout"
        }
      ]
    },
    {
      "cell_type": "code",
      "metadata": {
        "colab": {
          "base_uri": "https://localhost:8080/"
        },
        "id": "wY9Dq80d7xfy",
        "outputId": "3bb13f94-4d8c-490c-8e7c-d00b5964dc47"
      },
      "source": [
        "# 리스트 슬라이싱 이용해서 풀어보기\n",
        "# 반드시 리스트 슬라이싱을 이용해서 풀어라\n",
        "# 리스트가 있어야 슬라이싱을 하지!\n",
        "\n",
        "# 리스트를 만들자!\n",
        "'''\n",
        "어떤 리스트?\n",
        "n = 5\n",
        "lists = [1,2,3,4,5,...,23,24,25]\n",
        "'''\n",
        "\n",
        "n = int(input('n을 입력하시오 : '))\n",
        "list_arr = []\n",
        "for i in range(1, n*n+1, 1):\n",
        "  list_arr.append(i)\n",
        "\n",
        "print(list_arr)\n",
        "\n",
        "\n",
        "list_ans = []\n",
        "for i in range(1, n+1, 1): # i = 1, 2, 3, 4, 5\n",
        "  list_1 = list_arr[(i-1)*n:i*n]\n",
        "  # 짝수 줄이면 reverse 수행\n",
        "  if i % 2 == 0:\n",
        "    list_1.reverse()\n",
        "  list_ans.append(list_1)\n",
        "\n",
        "for i in list_ans:\n",
        "  print(i)\n",
        "  "
      ],
      "execution_count": 50,
      "outputs": [
        {
          "output_type": "stream",
          "text": [
            "n을 입력하시오 : 5\n",
            "[1, 2, 3, 4, 5, 6, 7, 8, 9, 10, 11, 12, 13, 14, 15, 16, 17, 18, 19, 20, 21, 22, 23, 24, 25]\n",
            "[1, 2, 3, 4, 5]\n",
            "[10, 9, 8, 7, 6]\n",
            "[11, 12, 13, 14, 15]\n",
            "[20, 19, 18, 17, 16]\n",
            "[21, 22, 23, 24, 25]\n"
          ],
          "name": "stdout"
        }
      ]
    },
    {
      "cell_type": "markdown",
      "metadata": {
        "id": "PxwgrwhZzrud"
      },
      "source": [
        "4. 카이사르 문제 (연습문제 6장)"
      ]
    },
    {
      "cell_type": "code",
      "metadata": {
        "id": "YT5C0lMhzs3h"
      },
      "source": [
        "# 연습문제 6.24\n",
        "\n",
        "# (1) ascii_uppercase를 사용하여 src_str을 만들고\n",
        "# 리스트 슬라이싱 기능을 사용하여, 3칸 이동한 dst_str 문자열을 만들어서 출력하기\n",
        "\n",
        "# src_str = ABCDEFGHIJK...WXYZ\n",
        "# dst_str = DEFGHIJKLMN...ZABC\n",
        "\n",
        "import string\n",
        "\n",
        "src_str = string.ascii_uppercase\n",
        "dst_str = src_str[3:] + src_str[0:3]\n",
        "print(\"src_str =\", src_str)\n",
        "print(\"dst_str =\", dst_str)"
      ],
      "execution_count": null,
      "outputs": []
    },
    {
      "cell_type": "code",
      "metadata": {
        "id": "pLp9TqFI7FX1"
      },
      "source": [
        "# (2) 'A' 문자열, 'B' 문자열에 대해서 src_str 내의 인덱스를 index()를 사용하여 구한후 인덱스 출력\n",
        "# 그리고 이 인덱스 0과 1에 해당되는 dst_str의 문자열의 문자를 출력\n",
        "# 이 작업을 하는 함수 ciper(a)를 구현\n",
        "\n",
        "a = src_str.index('A')\n",
        "print(\"src_str의 {} 인덱스 : {}\".format('A', a))\n",
        "print(\"dst_str의 {}번째 알파벳 : {}\".format(a, dst_str[a]))\n",
        "b = src_str.index('B')\n",
        "print(\"src_str의 {} 인덱스 : {}\".format('B', b))\n",
        "print(\"dst_str의 {}번째 알파벳 : {}\".format(b, dst_str[b]))\n",
        "\n",
        "def ciper(a):\n",
        "  i = src_str.index(a)\n",
        "  print(\"src_str의 {} 인덱스 : {}\".format(a, i))\n",
        "  print(\"dst_str의 {}번째 알파벳 : {}\".format(i, dst_str[i]))\n",
        "\n",
        "ciper('A')\n",
        "ciper('B')\n",
        "ciper('S')"
      ],
      "execution_count": null,
      "outputs": []
    },
    {
      "cell_type": "code",
      "metadata": {
        "id": "KTNgn4F97G7p"
      },
      "source": [
        "# (3) ciper(a) 함수 이용해서 사용자로부터 입력받은 문자열을 암호화하여 출력\n",
        "# 알파벳을 제외한 부분은 입력된 바와 동일하게 출력\n",
        "\n",
        "def ciper2(a):\n",
        "  i = src_str.index(a)\n",
        "  return dst_str[i]\n",
        "\n",
        "src = input('문장을 입력하시오: ')\n",
        "des = ''\n",
        "for i in src:\n",
        "  # 알파벳이면 암호화해서 des에 저장\n",
        "  if str.isalpha(i):\n",
        "    d = ciper2(i)\n",
        "    des += d\n",
        "  # 알파벳이 아니면 기존의 상태로 des에 저장\n",
        "  else:\n",
        "    des += i\n",
        "\n",
        "print(\"암호화된 문장:\", des)"
      ],
      "execution_count": null,
      "outputs": []
    },
    {
      "cell_type": "code",
      "metadata": {
        "id": "thaM3ADJ7IXr"
      },
      "source": [
        "# (4) 암호화된 문장을 입력으로 받아서 이를 해독하는 프로그램\n",
        "des = input(\"암호화된 문장을 입력하시오: \")\n",
        "src = ''\n",
        "for i in des:\n",
        "  if str.isalpha(i):\n",
        "    a = dst_str.index(i)\n",
        "    src += src_str[a]\n",
        "  else:\n",
        "    src += i\n",
        "\n",
        "print(\"해독된 문장: \", src)"
      ],
      "execution_count": null,
      "outputs": []
    },
    {
      "cell_type": "code",
      "metadata": {
        "id": "islV2VXf7JTf"
      },
      "source": [
        "# (5) 앞의 사항을 대문자와 소문자 모두에 대해 적용해 보기\n",
        "import string\n",
        "src_str = string.ascii_uppercase + string.ascii_lowercase\n",
        "dst_str = src_str[3:] + src_str[0:3]\n",
        "print(\"src_str : \",src_str)\n",
        "print(\"dst_str : \",dst_str)"
      ],
      "execution_count": null,
      "outputs": []
    },
    {
      "cell_type": "code",
      "metadata": {
        "id": "y8x4CKKh7KVW"
      },
      "source": [
        "# ciper(a) 함수 이용해서 사용자로부터 입력받은 문자열을 암호화하여 출력\n",
        "# 알파벳을 제외한 부분은 입력된 바와 동일하게 출력\n",
        "\n",
        "def ciper2(a):\n",
        "  i = src_str.index(a)\n",
        "  return dst_str[i]\n",
        "\n",
        "src = input('문장을 입력하시오: ')\n",
        "des = ''\n",
        "for i in src:\n",
        "  # 알파벳이면 암호화해서 des에 저장\n",
        "  if str.isalpha(i):\n",
        "    d = ciper2(i)\n",
        "    des += d\n",
        "  # 알파벳이 아니면 기존의 상태로 des에 저장\n",
        "  else:\n",
        "    des += i\n",
        "\n",
        "print(\"암호화된 문장:\", des)"
      ],
      "execution_count": null,
      "outputs": []
    },
    {
      "cell_type": "code",
      "metadata": {
        "id": "u7lM-6Mh7LUS"
      },
      "source": [
        "# 암호화된 문장을 입력으로 받아서 이를 해독하는 프로그램\n",
        "des = input(\"암호화된 문장을 입력하시오: \")\n",
        "src = ''\n",
        "for i in des:\n",
        "  if str.isalpha(i):\n",
        "    a = dst_str.index(i)\n",
        "    src += src_str[a]\n",
        "  else:\n",
        "    src += i\n",
        "\n",
        "print(\"해독된 문장: \", src)"
      ],
      "execution_count": null,
      "outputs": []
    },
    {
      "cell_type": "markdown",
      "metadata": {
        "id": "R8DtBObCztkT"
      },
      "source": [
        "5. 모듈을 사용해서 계산기 만들기 + 예외 처리하기 (연습문제 7장)\n",
        " - sin, cos, tan이 되는 계산기 (연습문제 7.5)\n",
        " - 이걸 클래스로 만들 수 있을까? (9장 내용)"
      ]
    },
    {
      "cell_type": "code",
      "metadata": {
        "id": "ObofJTgSzyV3"
      },
      "source": [
        ""
      ],
      "execution_count": null,
      "outputs": []
    },
    {
      "cell_type": "markdown",
      "metadata": {
        "id": "wFcHYvhE7MJg"
      },
      "source": [
        "6. 사전 프로그램 만들어보기 (연습문제 6장)\n",
        " - 본 튜터링때는 다루지 않았지만, 이렇게 큰 프로그램도 만들어 볼 가능성이 있습니다!"
      ]
    },
    {
      "cell_type": "code",
      "metadata": {
        "id": "uKzFNTq-7QEM"
      },
      "source": [
        "# 연습문제 6.25\n",
        "print(\"사전 프로그램 시작... 종류는 q를 입력\")\n",
        "\n",
        "# 빈 딕셔너리 만들기\n",
        "dicts = {}\n",
        "\n",
        "# while 반복문, 무한 루프\n",
        "while True:\n",
        "  # 사용자로부터 입력 받기\n",
        "  a = input('$ ')\n",
        "\n",
        "  # 사전 프로그램 종료하기\n",
        "  if a == 'q':\n",
        "    print('사전 프로그램을 종료합니다.')\n",
        "    break\n",
        "\n",
        "  # 입력 명령이 들어올 때\n",
        "  # key값과 value값으로 나눠서 딕셔너리에 저장하기\n",
        "  elif a[0] == '<':\n",
        "    b = a[2:]\n",
        "    i = b.index(\":\")\n",
        "    key = b[:i]\n",
        "    value = b[i+1:]\n",
        "    dicts[key] = value\n",
        "\n",
        "  # 검색 명령이 들어올 때\n",
        "  elif a[0] == '>':\n",
        "    key = a[2:]\n",
        "    # 딕셔너리에 이 키값이 있는가? 를 판정해야 함\n",
        "    if (key in dicts) == True:\n",
        "      # 키가 있으면 value값을 출력\n",
        "      print(dicts[key])\n",
        "    else:\n",
        "      # 키가 없으면\n",
        "      print(key, '가 사전에 없습니다.')\n",
        "\n",
        "  # 잘못된 입력이 들어올 때\n",
        "  else:\n",
        "    print(\"입력오류가 발생했습니다.\")"
      ],
      "execution_count": null,
      "outputs": []
    },
    {
      "cell_type": "markdown",
      "metadata": {
        "id": "lnjOQYYZz2jn"
      },
      "source": [
        "7. 클래스와 객체지향 (9장)"
      ]
    },
    {
      "cell_type": "code",
      "metadata": {
        "id": "6XmCGgFK2nAy"
      },
      "source": [
        ""
      ],
      "execution_count": null,
      "outputs": []
    },
    {
      "cell_type": "markdown",
      "metadata": {
        "id": "3h3ahtA502uC"
      },
      "source": [
        "8. 코로나를 맞아서 인터넷 강의를 관리하는 업무를 맡게 되었습니다.\n",
        "강의 리스트와 교수 이름이 dictionary로 주어지고, 수강생의 정보 또한 dictionary로 주어진다고 할 때\n",
        "\n",
        "8-(1) 교수님의 이름이 중복되지 않게 리스트를 만들어 보세요. 단, ㄱㄴㄷ 순으로 교수님의 이름을 정렬해야 합니다.\n",
        "\n",
        "8-(2) 가장 많은 수업을 담당하고 계시는 교수님은 누구신지 구하는 함수를 설계해 보세요.\n",
        "\n",
        "8-(3) 프로그래밍 수업과 기초공학수학 수업을 담당하시는 모든 교수님의 이름과 메일주소를 알고자 합니다. 적절한 함수를 설계해 보세요.\n",
        "\n",
        "8-(4) smartcampus라는 이름의 class를 만들어 보세요.\n",
        "\n",
        "8-(5) 1학년 기초공학수학 수업을 수강하는 수강생들 중 20학번이 아닌 친구들은 재수강반에서 수강해야 합니다. 수강신청을 잘못 수행한 수강생을 구하는 메소드를 설계해 보세요."
      ]
    },
    {
      "cell_type": "code",
      "metadata": {
        "id": "KpuOgpWw02c1"
      },
      "source": [
        "# 강의 리스트와 교수 이름이 dictionary로 주어지고, 수강생의 정보 또한 dictionary로 주어진다고 할 때\n",
        "p_dict = {\"프로그래밍\" : \"김상수\", \"기초공학수학\" : \"박상지\", \"전산수학\" : \"전산기\", \"물리1및실험\" : \"김상수\"}\n",
        "s_dict = {\"남윤원\" : 20150413, \"정하연\" : 20201610, \"송혜민\" : 20201591, \"박윤혜\" : 20202971 }\n",
        "\n",
        "# 교수 정보\n",
        "p_data = [(\"김상수\", \"aa@naver.com\"), (\"박상지\", \"bb@naver.com\"), (\"전산기\", \"cc@daum.net\"), (\"나은지\", \"dd@gmail.com\")]"
      ],
      "execution_count": 32,
      "outputs": []
    },
    {
      "cell_type": "code",
      "metadata": {
        "colab": {
          "base_uri": "https://localhost:8080/"
        },
        "id": "oDPgzGjAtuNq",
        "outputId": "c83a94d1-f7b0-4653-8a71-debddb41acd6"
      },
      "source": [
        "# 8-(1)\n",
        "a = []\n",
        "for i in p_dict:\n",
        "  a.append(p_dict[i])\n",
        "\n",
        "b = set(a)\n",
        "c = list(b)\n",
        "c.sort()\n",
        "\n",
        "print(a)\n",
        "print(b)\n",
        "print(c)"
      ],
      "execution_count": 33,
      "outputs": [
        {
          "output_type": "stream",
          "text": [
            "['김상수', '박상지', '전산기', '김상수']\n",
            "{'박상지', '전산기', '김상수'}\n",
            "['김상수', '박상지', '전산기']\n"
          ],
          "name": "stdout"
        }
      ]
    },
    {
      "cell_type": "code",
      "metadata": {
        "colab": {
          "base_uri": "https://localhost:8080/"
        },
        "id": "epMP7Ilhtu_4",
        "outputId": "6145ffc6-e999-4ad3-d2ec-8ccb9a2a5a28"
      },
      "source": [
        "# 8-(2) : 연습문제 6.10과 유사\n",
        "def func(p_dict):\n",
        "  a = []\n",
        "  for i in p_dict:\n",
        "    a.append(p_dict[i])\n",
        "  tup = tuple(a)\n",
        "  print(tup)\n",
        "\n",
        "  k = tup[0] # 가장 많이 나타나는 요소를 우선 tup[0]으로 둡니다. \n",
        "             # 저희는 k값을 계속 갱신하는 것으로 하고, 이 k값을 비교에 계속 사용할 것입니다.\n",
        "  for i in range(1, len(tup), 1): # tup[0]은 이미 k로 정의하였으므로 우리는 tup[1]부터 탐색합시다.\n",
        "    if (tup.count(k) < tup.count(tup[i])):\n",
        "        k = tup[i]\n",
        "    elif tup.count(k) == tup.count(tup[i]):\n",
        "      if k < tup[i]: # 크기 비교를 시행해서 더 큰 값을 k값으로 지정합니다.\n",
        "                     # 김상수 교수님 수업이 2개, 박상지 교수님의 수업이 2개 // 1이 2번, 4가 2번\n",
        "        k = tup[i]\n",
        "    # tup.count(k) > tup.count(tup[i])인 경우는 k의 값을 그대로 두면 됩니다.\n",
        "\n",
        "  print('가장 많이 나타나는 요소는 : ', k)\n",
        "\n",
        "func(p_dict)"
      ],
      "execution_count": 38,
      "outputs": [
        {
          "output_type": "stream",
          "text": [
            "('김상수', '박상지', '전산기', '김상수')\n",
            "가장 많이 나타나는 요소는 :  김상수\n"
          ],
          "name": "stdout"
        }
      ]
    },
    {
      "cell_type": "code",
      "metadata": {
        "colab": {
          "base_uri": "https://localhost:8080/"
        },
        "id": "w7q1MuIC0Ol3",
        "outputId": "41047935-e854-483c-cb90-70e3dcc66197"
      },
      "source": [
        "# 8-(3)\n",
        "# p_dict의 key값이 \"프로그래밍\" 또는 \"기초공학수학\"\n",
        "def func2(p_dict, p_data):\n",
        "  name = []\n",
        "  for i in p_dict:\n",
        "    if i == \"프로그래밍\" or i == \"기초공학수학\":\n",
        "      name.append(p_dict[i]) # value값 추출\n",
        "\n",
        "  print(name)\n",
        "\n",
        "  # name의 중복 제거\n",
        "  b = set(name)     # list를 set으로 만들고\n",
        "  name = list(b)    # set을 다시 list로 만들자\n",
        "\n",
        "  print(name)\n",
        "\n",
        "  # p_data에서 교수님의 메일주소를 알아보자\n",
        "  for i in name:      # 내가 찾아야 하는 교수님의 이름이 저장됨\n",
        "    for j in p_data:  # 교수님 정보가 있는 리스트\n",
        "      if i == j[0]:\n",
        "        print(\"교수님의 이름은 {}이고, 이메일은 {}입니다.\".format(i, j[1]))  \n",
        "\n",
        "func2(p_dict, p_data)"
      ],
      "execution_count": 46,
      "outputs": [
        {
          "output_type": "stream",
          "text": [
            "['김상수', '박상지']\n",
            "['박상지', '김상수']\n",
            "교수님의 이름은 박상지이고, 이메일은 bb@naver.com입니다.\n",
            "교수님의 이름은 김상수이고, 이메일은 aa@naver.com입니다.\n"
          ],
          "name": "stdout"
        }
      ]
    },
    {
      "cell_type": "code",
      "metadata": {
        "colab": {
          "base_uri": "https://localhost:8080/"
        },
        "id": "JI_OGUVq6hGz",
        "outputId": "442d9aa3-dbbc-4e9f-f718-c3fb014bae6d"
      },
      "source": [
        "# 8-(4), 8-(5)\n",
        "class smartcampus:\n",
        "  # 클래스 변수\n",
        "  SUBJECT = 4 \n",
        "  \n",
        "  def __init__(self, s_dict):\n",
        "    # 인스턴스 변수 : 생성자 안에서 선언되는 변수\n",
        "    self.__data = s_dict\n",
        "\n",
        "  def detect(self):\n",
        "    # 20학번이 아닌 친구들은 재수강반에서 수강해야 합니다. 수강신청을 잘못 수행한 수강생을 출력하는 메소드를 설계해 보세요.\n",
        "    for i in self.__data:\n",
        "      id = self.__data[i] / 10000 # 나눗셈 연산을 수행하면, 8 / 4 = 2.0 그런데 2.0 == 2 연산이 잘못되는 경우가 있음\n",
        "      id = int(id)                # 나눗셈 연산 후에 소수점을 고려하지 않아도 되는 상황이면 안전하게 int로 재변환을 해 줍시다.\n",
        "      # print(id)\n",
        "      if id != 2020:\n",
        "        print(i, \"는 재수강반에서 수강해야 합니다.\")\n",
        "\n",
        "a = smartcampus(s_dict)\n",
        "a.detect()"
      ],
      "execution_count": 47,
      "outputs": [
        {
          "output_type": "stream",
          "text": [
            "남윤원 는 재수강반에서 수강해야 합니다.\n"
          ],
          "name": "stdout"
        }
      ]
    }
  ]
}