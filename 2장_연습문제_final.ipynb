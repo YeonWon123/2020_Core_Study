{
  "nbformat": 4,
  "nbformat_minor": 0,
  "metadata": {
    "colab": {
      "name": "2장 연습문제_final.ipynb",
      "provenance": [],
      "authorship_tag": "ABX9TyMUiSujE/kKDYgZVejTGIJg",
      "include_colab_link": true
    },
    "kernelspec": {
      "name": "python3",
      "display_name": "Python 3"
    }
  },
  "cells": [
    {
      "cell_type": "markdown",
      "metadata": {
        "id": "view-in-github",
        "colab_type": "text"
      },
      "source": [
        "<a href=\"https://colab.research.google.com/github/YeonWon123/2020_Core_Study/blob/main/2%EC%9E%A5_%EC%97%B0%EC%8A%B5%EB%AC%B8%EC%A0%9C_final.ipynb\" target=\"_parent\"><img src=\"https://colab.research.google.com/assets/colab-badge.svg\" alt=\"Open In Colab\"/></a>"
      ]
    },
    {
      "cell_type": "code",
      "metadata": {
        "colab": {
          "base_uri": "https://localhost:8080/"
        },
        "id": "6dwFkMRFfjq7",
        "outputId": "5b16d373-2178-40d6-8d2b-1f4b0977a9c2"
      },
      "source": [
        "# 연습문제 2.16 (1)\r\n",
        "a = 1 + 2j\r\n",
        "print(\"회전하기 전 : \", a)\r\n",
        "b = a * 1j\r\n",
        "print(\"90도 회전한 후 : \", b)"
      ],
      "execution_count": 1,
      "outputs": [
        {
          "output_type": "stream",
          "text": [
            "회전하기 전 :  (1+2j)\n",
            "90도 회전한 후 :  (-2+1j)\n"
          ],
          "name": "stdout"
        }
      ]
    },
    {
      "cell_type": "code",
      "metadata": {
        "colab": {
          "base_uri": "https://localhost:8080/"
        },
        "id": "ZyEM1_UUhZnd",
        "outputId": "c12d23b9-0041-4498-94ee-587beb9dea70"
      },
      "source": [
        "# 연습문제 2.16 (1) 다른 풀이\r\n",
        "import math\r\n",
        "\r\n",
        "a = 1 + 2j\r\n",
        "print(\"회전하기 전 : \", a)\r\n",
        "b = a * (math.cos(math.radians(90)) + math.sin(math.radians(90))*1j)\r\n",
        "print(\"90도 회전한 후 : \", b)"
      ],
      "execution_count": 2,
      "outputs": [
        {
          "output_type": "stream",
          "text": [
            "회전하기 전 :  (1+2j)\n",
            "90도 회전한 후 :  (-2+1.0000000000000002j)\n"
          ],
          "name": "stdout"
        }
      ]
    },
    {
      "cell_type": "code",
      "metadata": {
        "colab": {
          "base_uri": "https://localhost:8080/"
        },
        "id": "DSDyCnhAha56",
        "outputId": "7721bbef-6e13-490c-d6cc-7bc0e16517b9"
      },
      "source": [
        "# 연습문제 2.16 (2)\r\n",
        "X = 4 ** 0.5 # 4의 제곱근 구하는 방법 (4^(0.5) = 2)\r\n",
        "print(X)"
      ],
      "execution_count": 3,
      "outputs": [
        {
          "output_type": "stream",
          "text": [
            "2.0\n"
          ],
          "name": "stdout"
        }
      ]
    },
    {
      "cell_type": "code",
      "metadata": {
        "colab": {
          "base_uri": "https://localhost:8080/"
        },
        "id": "jEjsilFQhk8h",
        "outputId": "d548872e-4f5e-4ef8-d99e-ce8138285ca0"
      },
      "source": [
        "a = 1 + 2j\r\n",
        "print(\"회전하기 전 : \", a)\r\n",
        "b = a * ((3 ** 0.5)/2 + 0.5j)\r\n",
        "print(\"30도 회전한 후 : \", b)"
      ],
      "execution_count": 4,
      "outputs": [
        {
          "output_type": "stream",
          "text": [
            "회전하기 전 :  (1+2j)\n",
            "30도 회전한 후 :  (-0.1339745962155614+2.232050807568877j)\n"
          ],
          "name": "stdout"
        }
      ]
    },
    {
      "cell_type": "code",
      "metadata": {
        "colab": {
          "base_uri": "https://localhost:8080/"
        },
        "id": "KzTr38wrhlq8",
        "outputId": "fe40cdd6-16f0-4a77-962b-13ecb68ee36f"
      },
      "source": [
        "import math\r\n",
        "\r\n",
        "a = 1 + 2j\r\n",
        "print(\"회전하기 전 : \", a)\r\n",
        "b = a * (math.sqrt(3)/2 + 0.5j)\r\n",
        "print(\"30도 회전한 후 : \", b)"
      ],
      "execution_count": 5,
      "outputs": [
        {
          "output_type": "stream",
          "text": [
            "회전하기 전 :  (1+2j)\n",
            "30도 회전한 후 :  (-0.1339745962155614+2.232050807568877j)\n"
          ],
          "name": "stdout"
        }
      ]
    },
    {
      "cell_type": "code",
      "metadata": {
        "colab": {
          "base_uri": "https://localhost:8080/"
        },
        "id": "4Q2P6WZ7hmSj",
        "outputId": "8321e278-4965-4c25-80c8-6f755ed4e630"
      },
      "source": [
        "import math\r\n",
        "\r\n",
        "a = 1 + 2j\r\n",
        "print(\"회전하기 전 : \", a)\r\n",
        "b = a * (math.cos(math.radians(30)) + math.sin(math.radians(30))*1j)\r\n",
        "print(\"30도 회전한 후 : \", b)"
      ],
      "execution_count": 6,
      "outputs": [
        {
          "output_type": "stream",
          "text": [
            "회전하기 전 :  (1+2j)\n",
            "30도 회전한 후 :  (-0.13397459621556118+2.232050807568877j)\n"
          ],
          "name": "stdout"
        }
      ]
    },
    {
      "cell_type": "code",
      "metadata": {
        "colab": {
          "base_uri": "https://localhost:8080/"
        },
        "id": "9K6vGcFMhm61",
        "outputId": "d0756e22-003d-41e9-9d95-e5ce16695c9e"
      },
      "source": [
        "math.sqrt(3)/2"
      ],
      "execution_count": 7,
      "outputs": [
        {
          "output_type": "execute_result",
          "data": {
            "text/plain": [
              "0.8660254037844386"
            ]
          },
          "metadata": {
            "tags": []
          },
          "execution_count": 7
        }
      ]
    },
    {
      "cell_type": "code",
      "metadata": {
        "colab": {
          "base_uri": "https://localhost:8080/"
        },
        "id": "9hcgkuHJhnhv",
        "outputId": "cddb0a06-a9cc-4205-e5a0-18c75adb4898"
      },
      "source": [
        "math.cos(math.radians(30))"
      ],
      "execution_count": 8,
      "outputs": [
        {
          "output_type": "execute_result",
          "data": {
            "text/plain": [
              "0.8660254037844387"
            ]
          },
          "metadata": {
            "tags": []
          },
          "execution_count": 8
        }
      ]
    },
    {
      "cell_type": "code",
      "metadata": {
        "colab": {
          "base_uri": "https://localhost:8080/"
        },
        "id": "WkqWejejhoQn",
        "outputId": "7efd8a3f-8059-479c-91c4-d0c3e9239706"
      },
      "source": [
        "math.cos(math.radians(90))"
      ],
      "execution_count": 9,
      "outputs": [
        {
          "output_type": "execute_result",
          "data": {
            "text/plain": [
              "6.123233995736766e-17"
            ]
          },
          "metadata": {
            "tags": []
          },
          "execution_count": 9
        }
      ]
    }
  ]
}