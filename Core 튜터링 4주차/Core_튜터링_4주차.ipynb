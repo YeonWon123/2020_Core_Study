{
  "nbformat": 4,
  "nbformat_minor": 0,
  "metadata": {
    "colab": {
      "name": "Core 튜터링 4주차.ipynb",
      "provenance": [],
      "collapsed_sections": [],
      "authorship_tag": "ABX9TyPViEdzSq90buqCSMXWgx4D",
      "include_colab_link": true
    },
    "kernelspec": {
      "name": "python3",
      "display_name": "Python 3"
    }
  },
  "cells": [
    {
      "cell_type": "markdown",
      "metadata": {
        "id": "view-in-github",
        "colab_type": "text"
      },
      "source": [
        "<a href=\"https://colab.research.google.com/github/YeonWon123/2020_Core_Study/blob/main/Core_%ED%8A%9C%ED%84%B0%EB%A7%81_4%EC%A3%BC%EC%B0%A8.ipynb\" target=\"_parent\"><img src=\"https://colab.research.google.com/assets/colab-badge.svg\" alt=\"Open In Colab\"/></a>"
      ]
    },
    {
      "cell_type": "markdown",
      "metadata": {
        "id": "39uT9MxZDYoS"
      },
      "source": [
        "# 함수의 여러가지 활용"
      ]
    },
    {
      "cell_type": "markdown",
      "metadata": {
        "id": "Ysw_D-RqGN3u"
      },
      "source": [
        "함수를 어떻게 정의/선언/사용"
      ]
    },
    {
      "cell_type": "code",
      "metadata": {
        "id": "qGn0Ne01DRLi"
      },
      "source": [
        "# ************************ 프린트하는 함수를 만들자\n",
        "def print_star():\n",
        "  for i in range(0, 10, 1):\n",
        "    print(\"********************************\")\n",
        "    print(\"********************************\")\n",
        "    print(\"********************************\")\n",
        "    print(\"********************************\") "
      ],
      "execution_count": 6,
      "outputs": []
    },
    {
      "cell_type": "code",
      "metadata": {
        "id": "3uidftI2GZKC",
        "outputId": "2aededc9-0db5-422b-f13b-5345fc14faa1",
        "colab": {
          "base_uri": "https://localhost:8080/",
          "height": 689
        }
      },
      "source": [
        "print_star() # 횟수? : for문은 10번 반복 (0, 1, 2, 3, 4, ..., 9) * 4 = 40줄의 *************이 찍히게 된다."
      ],
      "execution_count": 7,
      "outputs": [
        {
          "output_type": "stream",
          "text": [
            "********************************\n",
            "********************************\n",
            "********************************\n",
            "********************************\n",
            "********************************\n",
            "********************************\n",
            "********************************\n",
            "********************************\n",
            "********************************\n",
            "********************************\n",
            "********************************\n",
            "********************************\n",
            "********************************\n",
            "********************************\n",
            "********************************\n",
            "********************************\n",
            "********************************\n",
            "********************************\n",
            "********************************\n",
            "********************************\n",
            "********************************\n",
            "********************************\n",
            "********************************\n",
            "********************************\n",
            "********************************\n",
            "********************************\n",
            "********************************\n",
            "********************************\n",
            "********************************\n",
            "********************************\n",
            "********************************\n",
            "********************************\n",
            "********************************\n",
            "********************************\n",
            "********************************\n",
            "********************************\n",
            "********************************\n",
            "********************************\n",
            "********************************\n",
            "********************************\n"
          ],
          "name": "stdout"
        }
      ]
    },
    {
      "cell_type": "markdown",
      "metadata": {
        "id": "Jz3xvEmAHUfj"
      },
      "source": [
        "백준 2178 : 미로 탐색"
      ]
    },
    {
      "cell_type": "markdown",
      "metadata": {
        "id": "elz1-eflHXcx"
      },
      "source": [
        "1. 게임판 만들기\n",
        "\n",
        "0 0 0 0 0\n",
        "\n",
        "0 0 0 0 0\n",
        "\n",
        "0 0 1 0 0\n",
        "\n",
        "0 0 0 0 0\n",
        "\n",
        "0 0 0 0 0\n",
        "\n",
        "-> 이중 리스트 이용"
      ]
    },
    {
      "cell_type": "code",
      "metadata": {
        "id": "9aRMJ7lFGx0L",
        "outputId": "9ea5236f-a42d-4bc5-e0ce-6d65060c3658",
        "colab": {
          "base_uri": "https://localhost:8080/",
          "height": 34
        }
      },
      "source": [
        "# 1. 게임판을 만들어 보자\n",
        "# 가장 기본적인 방법 - 정의할 때 일일이 하나씩 할당해 주는 방법\n",
        "lists = [[0,0,0,0,0], \n",
        "         [0,0,0,0,0],\n",
        "         [0,0,1,0,0],\n",
        "         [0,0,0,0,0],\n",
        "         [0,0,0,0,0]]\n",
        "\n",
        "print(lists)\n"
      ],
      "execution_count": 10,
      "outputs": [
        {
          "output_type": "stream",
          "text": [
            "[[0, 0, 0, 0, 0], [0, 0, 0, 0, 0], [0, 0, 1, 0, 0], [0, 0, 0, 0, 0], [0, 0, 0, 0, 0]]\n"
          ],
          "name": "stdout"
        }
      ]
    },
    {
      "cell_type": "code",
      "metadata": {
        "id": "LE6ZR3iaJh2t"
      },
      "source": [
        "# 이중 리스트를 이중 리스트답게 출력하는 함수를 만들어 보자\n",
        "def print_doublelist(lists):\n",
        "  print(\"이중 리스트를 출력합니다.\")\n",
        "  for i in range(0, 5, 1): # 가로 (행)\n",
        "    for j in range(0, 5, 1): # 세로 (열)\n",
        "      print(lists[i][j], end = \" \")\n",
        "    print()\n",
        "  print(\"이중 리스트의 출력이 끝났습니다.\")\n",
        "  print()"
      ],
      "execution_count": 23,
      "outputs": []
    },
    {
      "cell_type": "code",
      "metadata": {
        "id": "LCws58V-Nf62",
        "outputId": "e400114f-64df-4a96-96ad-b55bbd13553a",
        "colab": {
          "base_uri": "https://localhost:8080/",
          "height": 151
        }
      },
      "source": [
        "print_doublelist(lists)"
      ],
      "execution_count": 24,
      "outputs": [
        {
          "output_type": "stream",
          "text": [
            "이중 리스트를 출력합니다.\n",
            "0 0 0 0 0 \n",
            "0 0 0 0 0 \n",
            "0 0 0 0 0 \n",
            "0 0 0 0 0 \n",
            "0 0 0 0 0 \n",
            "이중 리스트의 출력이 끝났습니다.\n",
            "\n"
          ],
          "name": "stdout"
        }
      ]
    },
    {
      "cell_type": "code",
      "metadata": {
        "id": "f_2WBqBGH0Zm",
        "outputId": "df818a4d-f365-4a64-ce03-d778d5fbf0d7",
        "colab": {
          "base_uri": "https://localhost:8080/",
          "height": 550
        }
      },
      "source": [
        "# 좀 더 우아하게 짜는 방법은? -> 이중 For문과 append를 이용하는 방법\n",
        "lists = []\n",
        "for i in range(0, 5, 1):   # 가로(행)\n",
        "  a = []\n",
        "  for j in range(0, 5, 1): # 세로(열)\n",
        "    a.append(0)\n",
        "  lists.append(a)\n",
        "\n",
        "print_doublelist(lists)\n",
        "\n",
        "lists[2][2] = 1\n",
        "print_doublelist(lists)\n",
        "\n",
        "lists[4][4] = 3\n",
        "print_doublelist(lists)\n",
        "\n",
        "lists[2][2] = 0\n",
        "lists[4][4] = 0\n",
        "print_doublelist(lists)"
      ],
      "execution_count": 25,
      "outputs": [
        {
          "output_type": "stream",
          "text": [
            "이중 리스트를 출력합니다.\n",
            "0 0 0 0 0 \n",
            "0 0 0 0 0 \n",
            "0 0 0 0 0 \n",
            "0 0 0 0 0 \n",
            "0 0 0 0 0 \n",
            "이중 리스트의 출력이 끝났습니다.\n",
            "\n",
            "이중 리스트를 출력합니다.\n",
            "0 0 0 0 0 \n",
            "0 0 0 0 0 \n",
            "0 0 1 0 0 \n",
            "0 0 0 0 0 \n",
            "0 0 0 0 0 \n",
            "이중 리스트의 출력이 끝났습니다.\n",
            "\n",
            "이중 리스트를 출력합니다.\n",
            "0 0 0 0 0 \n",
            "0 0 0 0 0 \n",
            "0 0 1 0 0 \n",
            "0 0 0 0 0 \n",
            "0 0 0 0 3 \n",
            "이중 리스트의 출력이 끝났습니다.\n",
            "\n",
            "이중 리스트를 출력합니다.\n",
            "0 0 0 0 0 \n",
            "0 0 0 0 0 \n",
            "0 0 0 0 0 \n",
            "0 0 0 0 0 \n",
            "0 0 0 0 0 \n",
            "이중 리스트의 출력이 끝났습니다.\n",
            "\n"
          ],
          "name": "stdout"
        }
      ]
    },
    {
      "cell_type": "code",
      "metadata": {
        "id": "Wnq-WTfnRslb"
      },
      "source": [
        "# 이중 리스트를 초기화하는 함수를 만들자!\n",
        "# 초기화를 하면\n",
        "#  0 0 0 0 0\n",
        "#  0 0 0 0 0\n",
        "#  0 0 1 0 0\n",
        "#  0 0 0 0 0\n",
        "#  0 0 0 0 0\n",
        "def default_doublelist(lists):\n",
        "  lists = []\n",
        "  for i in range(0, 5, 1):\n",
        "    a = []\n",
        "    for j in range(0, 5, 1):\n",
        "      a.append(0)\n",
        "    lists.append(a)\n",
        "  \n",
        "  lists[2][2] = 1\n",
        "\n",
        "  print_doublelist(lists)\n",
        "\n",
        "  return lists\n"
      ],
      "execution_count": 36,
      "outputs": []
    },
    {
      "cell_type": "code",
      "metadata": {
        "id": "4Espy3C3Sifb",
        "outputId": "a9e5a337-0dbc-4afe-ce2d-6c8c940c0304",
        "colab": {
          "base_uri": "https://localhost:8080/",
          "height": 283
        }
      },
      "source": [
        "lists = default_doublelist(lists)\n",
        "print_doublelist(lists)"
      ],
      "execution_count": 37,
      "outputs": [
        {
          "output_type": "stream",
          "text": [
            "이중 리스트를 출력합니다.\n",
            "0 0 0 0 0 \n",
            "0 0 0 0 0 \n",
            "0 0 1 0 0 \n",
            "0 0 0 0 0 \n",
            "0 0 0 0 0 \n",
            "이중 리스트의 출력이 끝났습니다.\n",
            "\n",
            "이중 리스트를 출력합니다.\n",
            "0 0 0 0 0 \n",
            "0 0 0 0 0 \n",
            "0 0 1 0 0 \n",
            "0 0 0 0 0 \n",
            "0 0 0 0 0 \n",
            "이중 리스트의 출력이 끝났습니다.\n",
            "\n"
          ],
          "name": "stdout"
        }
      ]
    },
    {
      "cell_type": "code",
      "metadata": {
        "id": "nifuwtPpJ8HJ",
        "outputId": "99aaa633-3df4-4ee0-f043-91462b185f49",
        "colab": {
          "base_uri": "https://localhost:8080/",
          "height": 316
        }
      },
      "source": [
        "# 2. 움직이는 것을 구현\n",
        "# 내가 지금 있는 위치를 표시 -> (y, x)\n",
        "y = 2\n",
        "x = 2\n",
        "\n",
        "# lists 초기화\n",
        "lists = default_doublelist(lists)\n",
        "\n",
        "dir = input(\"방향을 입력하세요: \")\n",
        "\n",
        "#lists 업데이트 : 이동하기 전 위치의 좌표는 0으로 만든다.\n",
        "lists[y][x] = 0\n",
        "\n",
        "# 왼쪽으로 1칸 간다면? (2,2) -> (2,1)\n",
        "if dir == \"왼쪽\" :\n",
        "  x = x - 1\n",
        "\n",
        "# 오른쪽으로 1칸 간다면? (2,2) -> (2,3)\n",
        "elif dir == \"오른쪽\":\n",
        "  x = x + 1\n",
        "\n",
        "# 위로 1칸 간다면? (2,2) -> (1,2)\n",
        "elif dir == \"위쪽\":\n",
        "  y = y - 1\n",
        "\n",
        "# 아래로 1칸 간다면? (2,2) -> (3,2)\n",
        "elif dir == \"아래쪽\":\n",
        "  y = y + 1\n",
        "\n",
        "print(y, x)\n",
        "\n",
        "# lists 업데이트 : 이동한 후의 좌표는 1로 만든다.\n",
        "lists[y][x] = 1\n",
        "\n",
        "print_doublelist(lists)"
      ],
      "execution_count": 41,
      "outputs": [
        {
          "output_type": "stream",
          "text": [
            "이중 리스트를 출력합니다.\n",
            "0 0 0 0 0 \n",
            "0 0 0 0 0 \n",
            "0 0 1 0 0 \n",
            "0 0 0 0 0 \n",
            "0 0 0 0 0 \n",
            "이중 리스트의 출력이 끝났습니다.\n",
            "\n",
            "방향을 입력하세요: 아래쪽\n",
            "3 2\n",
            "이중 리스트를 출력합니다.\n",
            "0 0 0 0 0 \n",
            "0 0 0 0 0 \n",
            "0 0 0 0 0 \n",
            "0 0 1 0 0 \n",
            "0 0 0 0 0 \n",
            "이중 리스트의 출력이 끝났습니다.\n",
            "\n"
          ],
          "name": "stdout"
        }
      ]
    },
    {
      "cell_type": "code",
      "metadata": {
        "id": "8lZ9DiWqbQvH",
        "outputId": "d3068caf-83c7-4c85-9398-05f1a1a80fed",
        "colab": {
          "base_uri": "https://localhost:8080/",
          "height": 283
        }
      },
      "source": [
        "lists = default_doublelist(lists)\n",
        "\n",
        "y = 2\n",
        "x = 2\n",
        "\n",
        "print_doublelist(lists)"
      ],
      "execution_count": 58,
      "outputs": [
        {
          "output_type": "stream",
          "text": [
            "이중 리스트를 출력합니다.\n",
            "0 0 0 0 0 \n",
            "0 0 0 0 0 \n",
            "0 0 1 0 0 \n",
            "0 0 0 0 0 \n",
            "0 0 0 0 0 \n",
            "이중 리스트의 출력이 끝났습니다.\n",
            "\n",
            "이중 리스트를 출력합니다.\n",
            "0 0 0 0 0 \n",
            "0 0 0 0 0 \n",
            "0 0 1 0 0 \n",
            "0 0 0 0 0 \n",
            "0 0 0 0 0 \n",
            "이중 리스트의 출력이 끝났습니다.\n",
            "\n"
          ],
          "name": "stdout"
        }
      ]
    },
    {
      "cell_type": "code",
      "metadata": {
        "id": "VsY8hJa6etor"
      },
      "source": [
        "# 테두리에 닿았다면?\n",
        "# 내가 왼쪽 끝까지 왔는데, 또 왼쪽으로 간다고 하면\n",
        "# 못가게 막는 것!\n",
        "\n",
        "def check(dir, y, x):\n",
        "  # 현재 좌표가 테두리를 벗어난다면\n",
        "  if x < 0 or x >= 5 or y < 0 or y >= 5:\n",
        "    \n",
        "    # 다시 고쳐주고\n",
        "    if dir == \"왼쪽\":\n",
        "      x = 0\n",
        "    elif dir == \"오른쪽\":\n",
        "      x = 4\n",
        "    elif dir == \"위쪽\":\n",
        "      y = 0\n",
        "    elif dir == \"아래쪽\":\n",
        "      y = 4\n",
        "\n",
        "    # 사용자에게 알려줍니다.\n",
        "    print(\"더 이상 \", dir, \"으로 갈 수 없습니다!\")\n",
        "\n",
        "  # 그리고 그 좌표를 리턴합니다.\n",
        "  return y, x\n"
      ],
      "execution_count": 64,
      "outputs": []
    },
    {
      "cell_type": "code",
      "metadata": {
        "id": "7PlVT_gMZoPB",
        "outputId": "9b1a67fb-39fe-4001-a9eb-435ca4c08044",
        "colab": {
          "base_uri": "https://localhost:8080/",
          "height": 1000
        }
      },
      "source": [
        "# 3. 여러 동작 수행하기 - 반복문 (while문 등..)\n",
        "\n",
        "y = 2\n",
        "x = 2\n",
        "\n",
        "while True:\n",
        "  dir = input(\"방향 입력: \")\n",
        "\n",
        "  #lists 업데이트 : 이동하기 전 위치의 좌표는 0으로 만든다.\n",
        "  lists[y][x] = 0\n",
        "\n",
        "  # 왼쪽으로 1칸 간다면? (2,2) -> (2,1)\n",
        "  if dir == \"왼쪽\" :\n",
        "    x = x - 1\n",
        "    y, x = check(dir, y, x)\n",
        "    # 테두리에 닿았다면?\n",
        "    #if x < 0:\n",
        "    #  x = 0\n",
        "    #  print(\"더 이상 왼쪽으로 갈 수 없습니다!\")\n",
        "\n",
        "  # 오른쪽으로 1칸 간다면? (2,2) -> (2,3)\n",
        "  elif dir == \"오른쪽\":\n",
        "    x = x + 1\n",
        "    y, x = check(dir, y, x)\n",
        "    # 테두리에 닿았다면?\n",
        "    #if x >= 5:\n",
        "    #  x = 4\n",
        "    #  print(\"더 이상 오른쪽으로 갈 수 없습니다!\")\n",
        "\n",
        "  # 위로 1칸 간다면? (2,2) -> (1,2)\n",
        "  elif dir == \"위쪽\":\n",
        "    y = y - 1\n",
        "    y, x = check(dir, y, x)\n",
        "    # 테두리에 닿았다면?\n",
        "    #if y < 0:\n",
        "    #  y = 0\n",
        "    #  print(\"더 이상 위쪽으로 갈 수 없습니다!\")\n",
        "\n",
        "  # 아래로 1칸 간다면? (2,2) -> (3,2)\n",
        "  elif dir == \"아래쪽\":\n",
        "    y = y + 1\n",
        "    y, x = check(dir, y, x)\n",
        "    # 테두리에 닿았다면?\n",
        "    #if y > 5:\n",
        "    #  y = 4\n",
        "    #  print(\"더 이상 아래쪽으로 갈 수 없습니다!\")\n",
        "\n",
        "  elif dir == \"그만\":\n",
        "    break\n",
        "\n",
        "  print(y, x)\n",
        "\n",
        "  # lists 업데이트 : 이동한 후의 좌표는 1로 만든다.\n",
        "  lists[y][x] = 1\n",
        "\n",
        "  print_doublelist(lists)"
      ],
      "execution_count": 65,
      "outputs": [
        {
          "output_type": "stream",
          "text": [
            "방향 입력: 왼쪽\n",
            "2 1\n",
            "이중 리스트를 출력합니다.\n",
            "0 0 0 0 0 \n",
            "0 0 0 0 0 \n",
            "0 1 0 0 0 \n",
            "0 0 0 0 0 \n",
            "0 0 0 0 0 \n",
            "이중 리스트의 출력이 끝났습니다.\n",
            "\n",
            "방향 입력: 왼쪽\n",
            "2 0\n",
            "이중 리스트를 출력합니다.\n",
            "0 0 0 0 0 \n",
            "0 0 0 0 0 \n",
            "1 0 0 0 0 \n",
            "0 0 0 0 0 \n",
            "0 0 0 0 0 \n",
            "이중 리스트의 출력이 끝났습니다.\n",
            "\n",
            "방향 입력: 왼쪽\n",
            "더 이상  왼쪽 으로 갈 수 없습니다!\n",
            "2 0\n",
            "이중 리스트를 출력합니다.\n",
            "0 0 0 0 0 \n",
            "0 0 0 0 0 \n",
            "1 0 0 0 0 \n",
            "0 0 0 0 0 \n",
            "0 0 0 0 0 \n",
            "이중 리스트의 출력이 끝났습니다.\n",
            "\n",
            "방향 입력: 위쪽\n",
            "1 0\n",
            "이중 리스트를 출력합니다.\n",
            "0 0 0 0 0 \n",
            "1 0 0 0 0 \n",
            "0 0 0 0 0 \n",
            "0 0 0 0 0 \n",
            "0 0 0 0 0 \n",
            "이중 리스트의 출력이 끝났습니다.\n",
            "\n",
            "방향 입력: 위쪽\n",
            "0 0\n",
            "이중 리스트를 출력합니다.\n",
            "1 0 0 0 0 \n",
            "0 0 0 0 0 \n",
            "0 0 0 0 0 \n",
            "0 0 0 0 0 \n",
            "0 0 0 0 0 \n",
            "이중 리스트의 출력이 끝났습니다.\n",
            "\n",
            "방향 입력: 위쪽\n",
            "더 이상  위쪽 으로 갈 수 없습니다!\n",
            "0 0\n",
            "이중 리스트를 출력합니다.\n",
            "1 0 0 0 0 \n",
            "0 0 0 0 0 \n",
            "0 0 0 0 0 \n",
            "0 0 0 0 0 \n",
            "0 0 0 0 0 \n",
            "이중 리스트의 출력이 끝났습니다.\n",
            "\n",
            "방향 입력: 그만\n"
          ],
          "name": "stdout"
        }
      ]
    },
    {
      "cell_type": "code",
      "metadata": {
        "id": "ajcsFeBgc9__"
      },
      "source": [
        ""
      ],
      "execution_count": null,
      "outputs": []
    },
    {
      "cell_type": "markdown",
      "metadata": {
        "id": "F_dN4hM2Dbig"
      },
      "source": [
        "# 내가 나를 부르는 재귀함수"
      ]
    },
    {
      "cell_type": "code",
      "metadata": {
        "id": "k8RmGzK3Ddr4"
      },
      "source": [
        ""
      ],
      "execution_count": null,
      "outputs": []
    },
    {
      "cell_type": "markdown",
      "metadata": {
        "id": "CG0K8iYaDeGM"
      },
      "source": [
        "# 여러가지 정렬 방법"
      ]
    },
    {
      "cell_type": "code",
      "metadata": {
        "id": "zdwEHza5DgZ3"
      },
      "source": [
        ""
      ],
      "execution_count": null,
      "outputs": []
    }
  ]
}