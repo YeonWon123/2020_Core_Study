{
  "nbformat": 4,
  "nbformat_minor": 0,
  "metadata": {
    "colab": {
      "name": "4장 연습문제_final.ipynb",
      "provenance": [],
      "authorship_tag": "ABX9TyO/z00kGeBcG9nnOhS/I3EF",
      "include_colab_link": true
    },
    "kernelspec": {
      "name": "python3",
      "display_name": "Python 3"
    }
  },
  "cells": [
    {
      "cell_type": "markdown",
      "metadata": {
        "id": "view-in-github",
        "colab_type": "text"
      },
      "source": [
        "<a href=\"https://colab.research.google.com/github/YeonWon123/2020_Core_Study/blob/main/4%EC%9E%A5_%EC%97%B0%EC%8A%B5%EB%AC%B8%EC%A0%9C_final.ipynb\" target=\"_parent\"><img src=\"https://colab.research.google.com/assets/colab-badge.svg\" alt=\"Open In Colab\"/></a>"
      ]
    },
    {
      "cell_type": "markdown",
      "metadata": {
        "id": "oObuLopcj3-q"
      },
      "source": [
        "# 연습문제 4.9\r\n"
      ]
    },
    {
      "cell_type": "code",
      "metadata": {
        "colab": {
          "base_uri": "https://localhost:8080/"
        },
        "id": "7TgFCG_Xj0Ii",
        "outputId": "4ecc150d-00a0-4836-e1bc-084e36d82aac"
      },
      "source": [
        "# 방법 1\r\n",
        "nums = input(\"정수를 여러 개 입력하시오 : \").split(' ')\r\n",
        "\r\n",
        "# 문자열 리스트를 정수형 리스트로 변경\r\n",
        "for i in range(0, len(nums), 1):\r\n",
        "  nums[i] = int(nums[i])\r\n",
        "\r\n",
        "def min_of_n(*nums):\r\n",
        "  list1 = []\r\n",
        "\r\n",
        "  # for ~ in 반복문을 통해서 nums 안의 요소를 하나씩 살펴본다.\r\n",
        "  for i in nums:\r\n",
        "    list1.append(i)\r\n",
        "\r\n",
        "  print(list1)\r\n",
        "\r\n",
        "  y = list1[0]\r\n",
        "  for j in list1:\r\n",
        "    if j < y:\r\n",
        "      y = j\r\n",
        "  return y\r\n",
        "\r\n",
        "print('최솟값은 ', min_of_n(*nums))"
      ],
      "execution_count": 1,
      "outputs": [
        {
          "output_type": "stream",
          "text": [
            "정수를 여러 개 입력하시오 : 3 42 32 5 7 8 4 44 5 90 17\n",
            "[3, 42, 32, 5, 7, 8, 4, 44, 5, 90, 17]\n",
            "최솟값은  3\n"
          ],
          "name": "stdout"
        }
      ]
    },
    {
      "cell_type": "code",
      "metadata": {
        "colab": {
          "base_uri": "https://localhost:8080/"
        },
        "id": "AjCveXqFj2VT",
        "outputId": "77178a0e-a95c-4967-fc9d-9785b1a20276"
      },
      "source": [
        "# 방법 2\r\n",
        "nums = input(\"정수를 여러 개 입력하시오 : \").split(' ')\r\n",
        "\r\n",
        "def min_of_n(*nums):\r\n",
        "  list1 = []\r\n",
        "\r\n",
        "  # for ~ in 반복문을 통해서 nums 안의 요소를 하나씩 살펴본다.\r\n",
        "  for i in nums:\r\n",
        "    # 먼저 문자열을 정수로 바꾸고\r\n",
        "    i = int(i)\r\n",
        "    # list1에 append한다.\r\n",
        "    list1.append(i)\r\n",
        "\r\n",
        "  print(list1)\r\n",
        "\r\n",
        "  y = list1[0]\r\n",
        "  for j in list1:\r\n",
        "    if j < y:\r\n",
        "      y = j\r\n",
        "  return y\r\n",
        "\r\n",
        "print('최솟값은 ', min_of_n(*nums))"
      ],
      "execution_count": 2,
      "outputs": [
        {
          "output_type": "stream",
          "text": [
            "정수를 여러 개 입력하시오 : 3 45 32 5 7 8 4 44 90 5 17\n",
            "[3, 45, 32, 5, 7, 8, 4, 44, 90, 5, 17]\n",
            "최솟값은  3\n"
          ],
          "name": "stdout"
        }
      ]
    },
    {
      "cell_type": "markdown",
      "metadata": {
        "id": "hbKXR7Qhj6MV"
      },
      "source": [
        "# 연습문제 4.16"
      ]
    },
    {
      "cell_type": "code",
      "metadata": {
        "id": "zfhGiRcPfwnR"
      },
      "source": [
        "def sum(result, a, b):\r\n",
        "  a = 300\r\n",
        "  b = 400\r\n",
        "  result = a + b\r\n",
        "  print(\"함수 안입니다.\")\r\n",
        "  print(a)\r\n",
        "  print(b)\r\n",
        "  print(result)\r\n",
        "  print(\"함수 안 끝\")\r\n",
        "  print()\r\n",
        "\r\n",
        "  # 인자를 하나만 리턴? 여러 개 리턴할수도 있다!\r\n",
        "  return a, b, result\r\n"
      ],
      "execution_count": 3,
      "outputs": []
    },
    {
      "cell_type": "code",
      "metadata": {
        "colab": {
          "base_uri": "https://localhost:8080/"
        },
        "id": "oQFPZVXIjajB",
        "outputId": "41c561c7-5c05-411c-d105-e058e2109708"
      },
      "source": [
        "a = 3\r\n",
        "b = 4\r\n",
        "result = 0\r\n",
        "\r\n",
        "print(\"함수 밖입니다.\")\r\n",
        "print(a)\r\n",
        "print(b)\r\n",
        "print(result)\r\n",
        "print(\"함수 밖 끝\")\r\n",
        "\r\n",
        "a, b, result = sum(result, a, b)\r\n",
        "\r\n",
        "print(\"함수 밖입니다.\")\r\n",
        "print(a)\r\n",
        "print(b)\r\n",
        "print(result)\r\n",
        "print(\"함수 밖 끝\")\r\n"
      ],
      "execution_count": 4,
      "outputs": [
        {
          "output_type": "stream",
          "text": [
            "함수 밖입니다.\n",
            "3\n",
            "4\n",
            "0\n",
            "함수 밖 끝\n",
            "함수 안입니다.\n",
            "300\n",
            "400\n",
            "700\n",
            "함수 안 끝\n",
            "\n",
            "함수 밖입니다.\n",
            "300\n",
            "400\n",
            "700\n",
            "함수 밖 끝\n"
          ],
          "name": "stdout"
        }
      ]
    },
    {
      "cell_type": "code",
      "metadata": {
        "colab": {
          "base_uri": "https://localhost:8080/"
        },
        "id": "yMDdSIVljbzk",
        "outputId": "100963fa-b6bf-4e8b-cc01-2b5d3cdf100e"
      },
      "source": [
        "def fibonacci(n):\r\n",
        "  if n == 1:\r\n",
        "    return 1\r\n",
        "  elif n == 0:\r\n",
        "    return 0\r\n",
        "  else:\r\n",
        "    return (fibonacci(n-1) + fibonacci(n-2))\r\n",
        "\r\n",
        "for i in range(16):\r\n",
        "  print('fibo({0}) = {1}'.format(i, fibonacci(i+1)))"
      ],
      "execution_count": 5,
      "outputs": [
        {
          "output_type": "stream",
          "text": [
            "fibo(0) = 1\n",
            "fibo(1) = 1\n",
            "fibo(2) = 2\n",
            "fibo(3) = 3\n",
            "fibo(4) = 5\n",
            "fibo(5) = 8\n",
            "fibo(6) = 13\n",
            "fibo(7) = 21\n",
            "fibo(8) = 34\n",
            "fibo(9) = 55\n",
            "fibo(10) = 89\n",
            "fibo(11) = 144\n",
            "fibo(12) = 233\n",
            "fibo(13) = 377\n",
            "fibo(14) = 610\n",
            "fibo(15) = 987\n"
          ],
          "name": "stdout"
        }
      ]
    },
    {
      "cell_type": "code",
      "metadata": {
        "colab": {
          "base_uri": "https://localhost:8080/"
        },
        "id": "-RY-k5sEjg8P",
        "outputId": "bea2cce1-b4d0-4f49-af13-c0dfec59af07"
      },
      "source": [
        "# 연습문제 4.16\r\n",
        "# 사용자로부터 입력을 받아서 문자열 리스트 생성\r\n",
        "inputList = input('쉼표로 구분된 정수를 임의의 개수 입력하시오: ').split(',')\r\n",
        "\r\n",
        "print(inputList)\r\n",
        "\r\n",
        "# 문자열 리스트를 정수로 바꾸자\r\n",
        "for i in range(0, len(inputList), 1):\r\n",
        "  inputList[i] = int(inputList[i])\r\n",
        "\r\n",
        "print(inputList)\r\n",
        "\r\n",
        "# 정수 리스트를 정렬하자\r\n",
        "print('입력된 정수의 리스트: ', inputList)\r\n",
        "inputList.sort()\r\n",
        "print(inputList)\r\n"
      ],
      "execution_count": 6,
      "outputs": [
        {
          "output_type": "stream",
          "text": [
            "쉼표로 구분된 정수를 임의의 개수 입력하시오: 56,67,89,34,24,300,99\n",
            "['56', '67', '89', '34', '24', '300', '99']\n",
            "[56, 67, 89, 34, 24, 300, 99]\n",
            "입력된 정수의 리스트:  [56, 67, 89, 34, 24, 300, 99]\n",
            "[24, 34, 56, 67, 89, 99, 300]\n"
          ],
          "name": "stdout"
        }
      ]
    },
    {
      "cell_type": "markdown",
      "metadata": {
        "id": "nOZzcaKAkCHR"
      },
      "source": [
        "# 연습문제 4.18"
      ]
    },
    {
      "cell_type": "code",
      "metadata": {
        "colab": {
          "base_uri": "https://localhost:8080/"
        },
        "id": "8xcUSiGijdDO",
        "outputId": "aac13475-b4fd-4f12-99f2-3bc36b2443c5"
      },
      "source": [
        "'''\r\n",
        "2, 3, 4, 5, 6, 7, 8의 최소공배수를 구한다고 가정해 봅시다.\r\n",
        "\r\n",
        "(1) 2, 3의 최소공배수 : 6\r\n",
        "\r\n",
        "(2) 6, 4의 최소공배수 : 12\r\n",
        "  => (2, 3), 4의 최소공배수 : 12\r\n",
        "\r\n",
        "(3) 12, 5의 최소공배수 : 60\r\n",
        "  => (2, 3, 4), 5의 최소공배수 : 60\r\n",
        "\r\n",
        "(4) 60, 6의 최소공배수 : 60\r\n",
        "  => (2, 3, 4, 5), 6의 최소공배수 : 60\r\n",
        "\r\n",
        "(5) 60, 7의 최소공배수 : 420\r\n",
        "  => (2, 3, 4, 5, 6), 7의 최소공배수 : 420\r\n",
        "\r\n",
        "(6) 420, 8의 최소공배수 : 840\r\n",
        "  => (2, 3, 4, 5, 6, 7), 8의 최소공배수 : 840\r\n",
        "\r\n",
        "이는 수학적으로 증명이 가능합니다.\r\n",
        "2 = 2\r\n",
        "3 = 3      최소공배수 2*3\r\n",
        "4 = 2*2    최소공배수 2*2*3\r\n",
        "5 = 5      최소공배수 2*2*3*5\r\n",
        "6 = 2*3    최소공배수 2*2*3*5\r\n",
        "7 = 7      최소공배수 2*2*3*5*7\r\n",
        "8 = 2*2*2  최소공배수 2*2*2*3*5*7\r\n",
        "\r\n",
        "즉 최소공배수(이전 수들의 최소공배수, 현재 수)를 하시면 누적해서 최소공배수를 구하실 수 있습니다.\r\n",
        "\r\n",
        "'''\r\n",
        "\r\n",
        "# a, b 두 수의 최소공배수를 구하는 코드 -> 송혜민님 코드\r\n",
        "def 최소공배수(a,b):\r\n",
        "  i = 1\r\n",
        "  while True:\r\n",
        "    for k in range(a,b+1,1):\r\n",
        "      if i % a == 0 and i % b == 0:\r\n",
        "        return i\r\n",
        "      i = i + 1\r\n",
        "\r\n",
        "# 사용자로부터 입력받는 부분 -> 송혜민님 코드\r\n",
        "a = int(input('범위의 시작 정수 : '))\r\n",
        "b = int(input('범위의 마지막 정수 : '))\r\n",
        "\r\n",
        "# 처음 앞의 두 수에 대한 최소공배수를 구한다. -> 필요한 부분, 적절히 수정하세요\r\n",
        "start = a\r\n",
        "next = a + 1\r\n",
        "end = b\r\n",
        "\r\n",
        "p = 최소공배수(start, next)\r\n",
        "\r\n",
        "# 구한 최소공배수와 그 다음 수에 대한 최소공배수를 구하여 업데이트한다. -> 필요한 부분, 적절히 수정하세요\r\n",
        "while True:\r\n",
        "  next = next + 1\r\n",
        "  if next > end:\r\n",
        "    break\r\n",
        "\r\n",
        "  if p > next:\r\n",
        "    p = 최소공배수(next, p)\r\n",
        "  else:\r\n",
        "    p = 최소공배수(p, next)\r\n",
        "\r\n",
        "print(start, \"에서\", end, \"까지의 정수들의 최소 공배수는 : \", p)"
      ],
      "execution_count": 7,
      "outputs": [
        {
          "output_type": "stream",
          "text": [
            "범위의 시작 정수 : 3\n",
            "범위의 마지막 정수 : 5\n",
            "3 에서 5 까지의 정수들의 최소 공배수는 :  60\n"
          ],
          "name": "stdout"
        }
      ]
    },
    {
      "cell_type": "markdown",
      "metadata": {
        "id": "uNIYQFj5kD_W"
      },
      "source": [
        "# 연습문제 4.27"
      ]
    },
    {
      "cell_type": "code",
      "metadata": {
        "colab": {
          "base_uri": "https://localhost:8080/"
        },
        "id": "fkAw9TILjgBm",
        "outputId": "37c53638-e859-43e5-d79e-e241167a990a"
      },
      "source": [
        "def unit_fraction(frac):\r\n",
        "  i = 2\r\n",
        "  while True:\r\n",
        "    # print(abs(1/i - frac), \" \", abs(1/(i+1)-frac))\r\n",
        "    if (abs(1/i - frac) > abs(1/(i+1) - frac)):\r\n",
        "      i = i + 1\r\n",
        "      continue\r\n",
        "    else:\r\n",
        "      return i\r\n",
        "\r\n",
        "a = float(input('1보다 작고 0보다 큰 소수를 입력하세요:'))\r\n",
        "p = unit_fraction(a)\r\n",
        "print('가장 가까운 단위 분수는 1/', p, \"이며, 이 값은 \", 1/p, \"입니다.\")"
      ],
      "execution_count": 8,
      "outputs": [
        {
          "output_type": "stream",
          "text": [
            "1보다 작고 0보다 큰 소수를 입력하세요:0.0732\n",
            "가장 가까운 단위 분수는 1/ 14 이며, 이 값은  0.07142857142857142 입니다.\n"
          ],
          "name": "stdout"
        }
      ]
    },
    {
      "cell_type": "code",
      "metadata": {
        "colab": {
          "base_uri": "https://localhost:8080/"
        },
        "id": "yaO0NwIFjtt5",
        "outputId": "8565e43e-bfa5-4ede-9d69-92f5c21ddb3c"
      },
      "source": [
        "def unit_function(frac):\r\n",
        "  i = 2\r\n",
        "  while (abs((1/i)-frac) > abs((1/(i+1)-frac))):\r\n",
        "    i = i + 1\r\n",
        "\r\n",
        "    # 확인하기 위한 print문입니다.\r\n",
        "    # print(abs((1/i)-frac) , abs((1/(i+1)-frac)))\r\n",
        "\r\n",
        "    if abs((1/i)-frac) < abs((1/(i+1)-frac)):\r\n",
        "      print('가장 가까운 단위분수는 1/{0}이며, 이 값은 {1}입니다.'.format(i, 1/i))\r\n",
        "      break\r\n",
        "\r\n",
        "frac = float(input('1보다 작고 0보다 큰 소수를 입력하세요: '))\r\n",
        "unit_function(frac)"
      ],
      "execution_count": 9,
      "outputs": [
        {
          "output_type": "stream",
          "text": [
            "1보다 작고 0보다 큰 소수를 입력하세요: 0.0732\n",
            "가장 가까운 단위분수는 1/14이며, 이 값은 0.07142857142857142입니다.\n"
          ],
          "name": "stdout"
        }
      ]
    },
    {
      "cell_type": "code",
      "metadata": {
        "colab": {
          "base_uri": "https://localhost:8080/"
        },
        "id": "Mw_p8yy3ju8h",
        "outputId": "cbd1ab6a-b1fb-4394-ec14-86e1d2db3ba8"
      },
      "source": [
        "# 1/x = 0.035이면, x = 1/0.035이다. 그러나 x가 정수이므로 양쪽 두 수를 비교한다.\r\n",
        "# ex) x = 28.57이면, 1/28.57 = 0.035인데, 1/28과 1/29 중 하나가 0.035와 제일 가까울 것이라는 아이디어이다.\r\n",
        "\r\n",
        "def unit_fraction(frac): # frac이 0.035라고 가정\r\n",
        "  p = int(1/frac)        # 1/0.035 = 28.57 -> 28 (int연산은 버림 연산)\r\n",
        "\r\n",
        "  # 1/0.035 = 28.57이므로, \r\n",
        "  case1 = frac - 1/(p+1) # 0.035 - 1/29 (단위분수 : 1/29)\r\n",
        "  case2 = 1/p - frac     # 1/28 - 0.035 (단위분수 : 1/28)\r\n",
        "  if case1 < case2:\r\n",
        "      print('가장 가까운 단위분수는 1/{0}이며, 이 값은 {1}입니다.'.format(p+1, 1/(p+1)))\r\n",
        "  else:\r\n",
        "      print('가장 가까운 단위분수는 1/{0}이며, 이 값은 {1}입니다.'.format(p, 1/p))\r\n",
        "\r\n",
        "frac = float(input('1보다 작고 0보다 큰 소수를 입력하세요: '))\r\n",
        "unit_fraction(frac)"
      ],
      "execution_count": 10,
      "outputs": [
        {
          "output_type": "stream",
          "text": [
            "1보다 작고 0보다 큰 소수를 입력하세요: 0.000000000000003452\n",
            "가장 가까운 단위분수는 1/289687137891078이며, 이 값은 3.4519999999999957e-15입니다.\n"
          ],
          "name": "stdout"
        }
      ]
    }
  ]
}