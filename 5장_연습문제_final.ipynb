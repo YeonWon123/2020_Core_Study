{
  "nbformat": 4,
  "nbformat_minor": 0,
  "metadata": {
    "colab": {
      "name": "5장 연습문제_final.ipynb",
      "provenance": [],
      "authorship_tag": "ABX9TyPjzEKHJ9DrUdSq7tofeRpE",
      "include_colab_link": true
    },
    "kernelspec": {
      "name": "python3",
      "display_name": "Python 3"
    }
  },
  "cells": [
    {
      "cell_type": "markdown",
      "metadata": {
        "id": "view-in-github",
        "colab_type": "text"
      },
      "source": [
        "<a href=\"https://colab.research.google.com/github/YeonWon123/2020_Core_Study/blob/main/5%EC%9E%A5_%EC%97%B0%EC%8A%B5%EB%AC%B8%EC%A0%9C_final.ipynb\" target=\"_parent\"><img src=\"https://colab.research.google.com/assets/colab-badge.svg\" alt=\"Open In Colab\"/></a>"
      ]
    },
    {
      "cell_type": "code",
      "metadata": {
        "colab": {
          "base_uri": "https://localhost:8080/"
        },
        "id": "NNXHqJnkf6rp",
        "outputId": "a4c305c7-f33f-4cab-b1b7-de89d8bad89d"
      },
      "source": [
        "# 연습문제 5.4번\r\n",
        "a = [2,3,4,5,6]\r\n",
        "rev_a = []\r\n",
        "\r\n",
        "for i in range(len(a)):\r\n",
        "  k = a.pop()\r\n",
        "  rev_a.append(k)\r\n",
        "  print(i, \"일때 a는 : \", a, \", k는 : \", k)\r\n",
        "  print(\"rev_a는, \", rev_a)\r\n",
        "\r\n",
        "print(rev_a)"
      ],
      "execution_count": 1,
      "outputs": [
        {
          "output_type": "stream",
          "text": [
            "0 일때 a는 :  [2, 3, 4, 5] , k는 :  6\n",
            "rev_a는,  [6]\n",
            "1 일때 a는 :  [2, 3, 4] , k는 :  5\n",
            "rev_a는,  [6, 5]\n",
            "2 일때 a는 :  [2, 3] , k는 :  4\n",
            "rev_a는,  [6, 5, 4]\n",
            "3 일때 a는 :  [2] , k는 :  3\n",
            "rev_a는,  [6, 5, 4, 3]\n",
            "4 일때 a는 :  [] , k는 :  2\n",
            "rev_a는,  [6, 5, 4, 3, 2]\n",
            "[6, 5, 4, 3, 2]\n"
          ],
          "name": "stdout"
        }
      ]
    },
    {
      "cell_type": "code",
      "metadata": {
        "colab": {
          "base_uri": "https://localhost:8080/"
        },
        "id": "m0Zgd83jjLn9",
        "outputId": "131cdfa9-4b3f-4920-bbdc-7d927b935e8f"
      },
      "source": [
        "# 연습문제 5.11번\r\n",
        "b = list(map(int, input('5개의 수를 입력하세요').split()))\r\n",
        "print(b)\r\n",
        "\r\n",
        "print('합:', sum(b))\r\n",
        "print('평균:', sum(b)/len(b))\r\n",
        "print('최댓값:', max(b))\r\n",
        "print('최솟값:', min(b))"
      ],
      "execution_count": 2,
      "outputs": [
        {
          "output_type": "stream",
          "text": [
            "5개의 수를 입력하세요45 67 20 34 2\n",
            "[45, 67, 20, 34, 2]\n",
            "합: 168\n",
            "평균: 33.6\n",
            "최댓값: 67\n",
            "최솟값: 2\n"
          ],
          "name": "stdout"
        }
      ]
    },
    {
      "cell_type": "code",
      "metadata": {
        "colab": {
          "base_uri": "https://localhost:8080/"
        },
        "id": "R4izK35XjM4-",
        "outputId": "e131ae95-ffef-4606-ef7d-2a3047a2ecdb"
      },
      "source": [
        "# 연습문제 5.13번\r\n",
        "import math\r\n",
        "\r\n",
        "number = input('10개의 수를 입력하세요: ').split(' ')\r\n",
        "\r\n",
        "for i in range(len(number)):\r\n",
        "  number[i] = int(number[i])\r\n",
        "\r\n",
        "n = []\r\n",
        "for j in number:\r\n",
        "  n.append(j)\r\n",
        "\r\n",
        "total = 0\r\n",
        "for k in number:\r\n",
        "  total = total + (k- sum(n)/len(n))**2\r\n",
        "\r\n",
        "print('합 :', sum(n))\r\n",
        "print('평균 :', sum(n)/len(n))\r\n",
        "print('표준편차 :', math.sqrt(total/len(n)))\r\n"
      ],
      "execution_count": 4,
      "outputs": [
        {
          "output_type": "stream",
          "text": [
            "10개의 수를 입력하세요: 45 67 20 34 2 100 23 45 67 89\n",
            "합 : 492\n",
            "평균 : 49.2\n",
            "표준편차 : 29.71800800861323\n"
          ],
          "name": "stdout"
        }
      ]
    },
    {
      "cell_type": "code",
      "metadata": {
        "colab": {
          "base_uri": "https://localhost:8080/"
        },
        "id": "voPkfrOpjNhr",
        "outputId": "ca30db4a-0513-4058-cc87-68e3e1793b4c"
      },
      "source": [
        "# 연습문제 5.19번\r\n",
        "s_list = ['abc', 'bcd', 'abc', 'abba', 'cddc', 'opq', 'opq']\r\n",
        "\r\n",
        "new_s_list = []\r\n",
        "new_s_list.append(s_list[0])\r\n",
        "\r\n",
        "for i in range(1, len(s_list)):\r\n",
        "  p = s_list[i]\r\n",
        "  print(p)\r\n",
        "  print(new_s_list)\r\n",
        "  print(p not in new_s_list)\r\n",
        "  if (p not in new_s_list) == True:\r\n",
        "    print(\"append해야 함\")\r\n",
        "    new_s_list.append(s_list[i])\r\n",
        "\r\n",
        "print(new_s_list)"
      ],
      "execution_count": 5,
      "outputs": [
        {
          "output_type": "stream",
          "text": [
            "bcd\n",
            "['abc']\n",
            "True\n",
            "append해야 함\n",
            "abc\n",
            "['abc', 'bcd']\n",
            "False\n",
            "abba\n",
            "['abc', 'bcd']\n",
            "True\n",
            "append해야 함\n",
            "cddc\n",
            "['abc', 'bcd', 'abba']\n",
            "True\n",
            "append해야 함\n",
            "opq\n",
            "['abc', 'bcd', 'abba', 'cddc']\n",
            "True\n",
            "append해야 함\n",
            "opq\n",
            "['abc', 'bcd', 'abba', 'cddc', 'opq']\n",
            "False\n",
            "['abc', 'bcd', 'abba', 'cddc', 'opq']\n"
          ],
          "name": "stdout"
        }
      ]
    },
    {
      "cell_type": "code",
      "metadata": {
        "id": "6ijSbqgmjOiu"
      },
      "source": [
        "# 연습문제 5.20번\r\n",
        "\r\n",
        "# 입력을 받습니다.\r\n",
        "\r\n",
        "# 정답을 저장할 문자열을 만듭니다.\r\n",
        "\r\n",
        "# for문으로 입력된 문자열의 길이만큼 탐색합니다.\r\n",
        "  # 이전의 문자열을 저장하는 변수와 이전 문자열이 얼마나 나왔는지 저장하는 변수를 만듭니다.\r\n",
        "  # i = 0일 경우 이전 문자를 저장하는 변수에 저장하고 count = 1로 둡니다.\r\n",
        "  # i != 0일 경우 이전 문자와 비교합니다.\r\n",
        "    # 같다면, count를 1 증가시킵니다.\r\n",
        "    # 다르다면, count = 1로 초기화하고 이전 문자 + count 횟수만큼을 정답 문자열에 누적시킵니다."
      ],
      "execution_count": 6,
      "outputs": []
    },
    {
      "cell_type": "code",
      "metadata": {
        "colab": {
          "base_uri": "https://localhost:8080/"
        },
        "id": "ws_Sr2mijPQA",
        "outputId": "c68cd12a-fd20-4f78-bfdd-af2ec47ffdc6"
      },
      "source": [
        "# 연습문제 5.20번\r\n",
        "src = ['a', 'a', 'a', 'a', 'b', 'b', 'b']\r\n",
        "output = []\r\n",
        "count = 0\r\n",
        "\r\n",
        "for i in range(len(src)):\r\n",
        "  if i == 0:\r\n",
        "    output.append(src[i])\r\n",
        "    count = count + 1\r\n",
        "  else:\r\n",
        "    if src[i-1] == src[i]:\r\n",
        "      count = count + 1\r\n",
        "    else:\r\n",
        "      output.append(count)\r\n",
        "      output.append(src[i])\r\n",
        "      count = 1\r\n",
        "\r\n",
        "output.append(count)\r\n",
        "\r\n",
        "# 리스트 output을 문자열로 만들어 봅시다\r\n",
        "output_str = \"\"\r\n",
        "for i in output:\r\n",
        "  output_str += str(i) # 정수도 섞여 있으니 문자로 바꾸기 위해 str을 붙여 강제 형변환을 시킵니다.\r\n",
        "\r\n",
        "print(output)     # 리스트 출력\r\n",
        "print(output_str) # 문자열 출력"
      ],
      "execution_count": 7,
      "outputs": [
        {
          "output_type": "stream",
          "text": [
            "['a', 4, 'b', 3]\n",
            "a4b3\n"
          ],
          "name": "stdout"
        }
      ]
    },
    {
      "cell_type": "code",
      "metadata": {
        "colab": {
          "base_uri": "https://localhost:8080/"
        },
        "id": "hoZm_ERak8al",
        "outputId": "f9eb2658-8df3-496a-f2a1-e5974958a83f"
      },
      "source": [
        "# 연습문제 5.20 다른 풀이\r\n",
        "\r\n",
        "# 주의사항 : 문자열과 리스트를 사용해서 풀어보기\r\n",
        "\r\n",
        "src_str = input(\"문자열을 입력하세요: \")\r\n",
        "src_strs = \"aaaabbb\"\r\n",
        "# src_list = ['a', 'a', 'a', 'a', 'b', 'b', 'b']\r\n",
        "output = ''\r\n",
        "\r\n",
        "# 핵심은 이전에 문자를 기억해야 한다.\r\n",
        "left = ''\r\n",
        "counts = 0\r\n",
        "for i in range(0, len(src_str), 1):\r\n",
        "  # src_list의 첫번째 원소는 자동으로 저장하자.\r\n",
        "  if i == 0:\r\n",
        "    left = src_str[i];\r\n",
        "    counts = 1\r\n",
        "  else:\r\n",
        "    # 이전에 나왔던 문자랑 현재 조사중인 문자가 같다면, count를 1 증가\r\n",
        "    if left == src_str[i]:\r\n",
        "      counts = counts + 1\r\n",
        "    else:\r\n",
        "      # 지금까지 기록한 left와 counts를 output에 넣고\r\n",
        "      output += left\r\n",
        "      output += str(counts)  # 정수형을 문자열에 넣기 위해서 str로 강제 형변환 수행\r\n",
        "\r\n",
        "      # left와 counts를 초기화한다.\r\n",
        "      left = src_str[i]\r\n",
        "      counts = 1\r\n",
        "\r\n",
        "# 맨 마지막에 남아 있는 left의 값과 counts의 값을 output에 넣어 준다.\r\n",
        "if len(src_str) != 0:\r\n",
        "  output += left\r\n",
        "  output += str(counts)\r\n",
        "\r\n",
        "print(\"output = \\'\", end = '')\r\n",
        "print(output, end='')\r\n",
        "print('\\'')\r\n",
        "\r\n"
      ],
      "execution_count": 8,
      "outputs": [
        {
          "output_type": "stream",
          "text": [
            "문자열을 입력하세요: aaaabbb\n",
            "output = 'a4b3'\n"
          ],
          "name": "stdout"
        }
      ]
    },
    {
      "cell_type": "code",
      "metadata": {
        "colab": {
          "base_uri": "https://localhost:8080/"
        },
        "id": "W73x_a_GjP4h",
        "outputId": "9a99a805-a3f0-4f9e-e1ab-82da81a3391e"
      },
      "source": [
        "# 연습문제 5.21번\r\n",
        "scr = ['a', 2, 'b', 3, 'c', 6, 'a', 2, 'c', 3, 'f', 1, 'g', 1]\r\n",
        "print('scr = {}'.format(scr))\r\n",
        "\r\n",
        "print('output = ', end = '')\r\n",
        "for i in range(0, len(scr), 2):\r\n",
        "  print(scr[i] * scr[i+1], end = '')"
      ],
      "execution_count": 9,
      "outputs": [
        {
          "output_type": "stream",
          "text": [
            "scr = ['a', 2, 'b', 3, 'c', 6, 'a', 2, 'c', 3, 'f', 1, 'g', 1]\n",
            "output = aabbbccccccaacccfg"
          ],
          "name": "stdout"
        }
      ]
    },
    {
      "cell_type": "code",
      "metadata": {
        "colab": {
          "base_uri": "https://localhost:8080/"
        },
        "id": "X429QGmBnlXV",
        "outputId": "948e0889-8430-4808-bda8-d23feb518f66"
      },
      "source": [
        "# 연습문제 5.21 다른 풀이\r\n",
        "src = input('src = ')\r\n",
        "src_list = list(src)\r\n",
        "\r\n",
        "# 문자, 숫자, 문자, 숫자, ...\r\n",
        "# '문자'를 '숫자'번 만큼 반복해 보자!\r\n",
        "\r\n",
        "# output 문자열을 만들지 않고 바로 출력하는 방법도 있음!\r\n",
        "print('output = ', end = '')\r\n",
        "for i in range(0, len(src_list), 2):\r\n",
        "  s = src_list[i]   # 문자가 있음 ('a', 'b', 'c', ...)\r\n",
        "  n = src_list[i+1] # 숫자가 있음 ('2', '3', '6', ...)\r\n",
        "  print(s*int(n), end = '') # aa / bbb / cccccc"
      ],
      "execution_count": 11,
      "outputs": [
        {
          "output_type": "stream",
          "text": [
            "src = a2b3c4\n",
            "output = aabbbcccc"
          ],
          "name": "stdout"
        }
      ]
    },
    {
      "cell_type": "code",
      "metadata": {
        "colab": {
          "base_uri": "https://localhost:8080/"
        },
        "id": "jG_U-uQnnfEC",
        "outputId": "f24e98b3-0c94-4019-98d4-9a6f46b05eb2"
      },
      "source": [
        "# 연습문제 5.21 다른 풀이\r\n",
        "src = input('src = ')\r\n",
        "src_list = list(src)\r\n",
        "# print(src_list)\r\n",
        "\r\n",
        "# output 문자열에 답을 저장해서 푸는 방법!\r\n",
        "output = ''\r\n",
        "# 문자, 숫자, 문자, 숫자, ...\r\n",
        "# '문자'를 '숫자'번 만큼 반복해 보자!\r\n",
        "for i in range(0, len(src_list), 2):\r\n",
        "  s = src_list[i]   # 문자가 있음 ('a', 'b', 'c', ...)\r\n",
        "  n = src_list[i+1] # 숫자가 있음 ('2', '3', '6', ...)\r\n",
        "  num = int(n)\r\n",
        "  \r\n",
        "  output += s*num\r\n",
        "\r\n",
        "print('output = ', output)"
      ],
      "execution_count": 12,
      "outputs": [
        {
          "output_type": "stream",
          "text": [
            "src = a3b4c3d5\n",
            "output =  aaabbbbcccddddd\n"
          ],
          "name": "stdout"
        }
      ]
    },
    {
      "cell_type": "code",
      "metadata": {
        "colab": {
          "base_uri": "https://localhost:8080/"
        },
        "id": "BjQUUYRGne97",
        "outputId": "a8282777-7998-4804-a965-61bf242bad2b"
      },
      "source": [
        "# 연습문제 5.22\r\n",
        "# 반드시 리스트 슬라이싱을 이용해서 풀어라\r\n",
        "# 리스트가 있어야 슬라이싱을 하지!\r\n",
        "\r\n",
        "# 리스트를 만들자!\r\n",
        "'''\r\n",
        "어떤 리스트?\r\n",
        "n = 5\r\n",
        "lists = [1,2,3,4,5,...,23,24,25]\r\n",
        "'''\r\n",
        "\r\n",
        "n = int(input('n을 입력하시오 : '))\r\n",
        "list_arr = []\r\n",
        "for i in range(1, n*n+1, 1):\r\n",
        "  list_arr.append(i)\r\n",
        "\r\n",
        "print(list_arr)\r\n",
        "\r\n",
        "\r\n",
        "list_ans = []\r\n",
        "for i in range(1, n+1, 1): # i = 1, 2, 3, 4, 5\r\n",
        "  list_1 = list_arr[(i-1)*n:i*n]\r\n",
        "  # 짝수 줄이면 reverse 수행\r\n",
        "  if i % 2 == 0:\r\n",
        "    list_1.reverse()\r\n",
        "  list_ans.append(list_1)\r\n",
        "\r\n",
        "for i in list_ans:\r\n",
        "  print(i)\r\n",
        "\r\n",
        "\r\n"
      ],
      "execution_count": 13,
      "outputs": [
        {
          "output_type": "stream",
          "text": [
            "n을 입력하시오 : 5\n",
            "[1, 2, 3, 4, 5, 6, 7, 8, 9, 10, 11, 12, 13, 14, 15, 16, 17, 18, 19, 20, 21, 22, 23, 24, 25]\n",
            "[1, 2, 3, 4, 5]\n",
            "[10, 9, 8, 7, 6]\n",
            "[11, 12, 13, 14, 15]\n",
            "[20, 19, 18, 17, 16]\n",
            "[21, 22, 23, 24, 25]\n"
          ],
          "name": "stdout"
        }
      ]
    },
    {
      "cell_type": "markdown",
      "metadata": {
        "id": "8kwQ476apWsf"
      },
      "source": [
        "연습문제 5.22 유도과정"
      ]
    },
    {
      "cell_type": "code",
      "metadata": {
        "colab": {
          "base_uri": "https://localhost:8080/"
        },
        "id": "wixyW69Woo0k",
        "outputId": "d4d906d5-8ff5-4172-826d-83d707256dff"
      },
      "source": [
        "# 반드시 리스트 슬라이싱을 이용해서 풀어라\r\n",
        "# 리스트가 있어야 슬라이싱을 하지!\r\n",
        "\r\n",
        "# 리스트를 만들자!\r\n",
        "'''\r\n",
        "어떤 리스트?\r\n",
        "n = 5\r\n",
        "lists = [1,2,3,4,5,...,23,24,25]\r\n",
        "'''\r\n",
        "\r\n",
        "n = int(input('n을 입력하시오 : '))\r\n",
        "list_arr = []\r\n",
        "for i in range(1, n*n+1, 1):\r\n",
        "  list_arr.append(i)\r\n",
        "\r\n",
        "print(list_arr)\r\n",
        "\r\n",
        "# 1 ~ 5부분을 잘라서 새롭게 만들어 보자!\r\n",
        "list_1 = list_arr[0:5:1]\r\n",
        "print(list_1)\r\n",
        "\r\n",
        "# 6 ~ 10부분을 잘라서 새롭게 만들어 보자!\r\n",
        "list_2 = list_arr[9:4:-1]\r\n",
        "print(list_2)\r\n",
        "\r\n",
        "# 11 ~ 15부분을 잘라서 새롭게 만들어 보자!\r\n",
        "list_3 = list_arr[10:15:1]\r\n",
        "print(list_3)\r\n",
        "\r\n",
        "# 16 ~ 20부분을 잘라서 새롭게 만들어 보자!\r\n",
        "list_4 = list_arr[19:14:-1]\r\n",
        "print(list_4)\r\n",
        "\r\n",
        "# 20 ~ 25부분을 잘라서 새롭게 만들어 보자!\r\n",
        "list_5 = list_arr[20:25:1]\r\n",
        "print(list_5)\r\n"
      ],
      "execution_count": 14,
      "outputs": [
        {
          "output_type": "stream",
          "text": [
            "n을 입력하시오 : 5\n",
            "[1, 2, 3, 4, 5, 6, 7, 8, 9, 10, 11, 12, 13, 14, 15, 16, 17, 18, 19, 20, 21, 22, 23, 24, 25]\n",
            "[1, 2, 3, 4, 5]\n",
            "[10, 9, 8, 7, 6]\n",
            "[11, 12, 13, 14, 15]\n",
            "[20, 19, 18, 17, 16]\n",
            "[21, 22, 23, 24, 25]\n"
          ],
          "name": "stdout"
        }
      ]
    },
    {
      "cell_type": "code",
      "metadata": {
        "colab": {
          "base_uri": "https://localhost:8080/"
        },
        "id": "XhcsQWS1opyz",
        "outputId": "0d96411c-ba91-468c-c34c-6ddef93e1184"
      },
      "source": [
        "a_list = [10, 20, 30, 40, 50, 60, 70, 80]\r\n",
        "print(a_list[0:8:1])\r\n",
        "print(a_list[5:3:-1])\r\n"
      ],
      "execution_count": 15,
      "outputs": [
        {
          "output_type": "stream",
          "text": [
            "[10, 20, 30, 40, 50, 60, 70, 80]\n",
            "[60, 50]\n"
          ],
          "name": "stdout"
        }
      ]
    },
    {
      "cell_type": "code",
      "metadata": {
        "colab": {
          "base_uri": "https://localhost:8080/"
        },
        "id": "KEQOMP1boqgv",
        "outputId": "643b7072-7ea8-4625-fdb7-f10ed482995a"
      },
      "source": [
        "# 반드시 리스트 슬라이싱을 이용해서 풀어라\r\n",
        "# 리스트가 있어야 슬라이싱을 하지!\r\n",
        "\r\n",
        "# 리스트를 만들자!\r\n",
        "'''\r\n",
        "어떤 리스트?\r\n",
        "n = 5\r\n",
        "lists = [1,2,3,4,5,...,23,24,25]\r\n",
        "'''\r\n",
        "n = int(input('n을 입력하시오 : '))\r\n",
        "list_arr = []\r\n",
        "for i in range(1, n*n+1, 1):\r\n",
        "  list_arr.append(i)\r\n",
        "\r\n",
        "print(list_arr)\r\n",
        "\r\n",
        "# 정답을 만드는 부분\r\n",
        "list_ans = []\r\n",
        "for i in range(1, n+1, 1): # i = 1, 2, 3, 4, 5\r\n",
        "  list_1 = list_arr[(i-1)*n:i*n]\r\n",
        "\r\n",
        "  list_ans.append(list_1)\r\n",
        "\r\n",
        "for i in list_ans:\r\n",
        "  print(i)\r\n",
        "\r\n"
      ],
      "execution_count": 18,
      "outputs": [
        {
          "output_type": "stream",
          "text": [
            "n을 입력하시오 : 4\n",
            "[1, 2, 3, 4, 5, 6, 7, 8, 9, 10, 11, 12, 13, 14, 15, 16]\n",
            "[1, 2, 3, 4]\n",
            "[5, 6, 7, 8]\n",
            "[9, 10, 11, 12]\n",
            "[13, 14, 15, 16]\n"
          ],
          "name": "stdout"
        }
      ]
    },
    {
      "cell_type": "code",
      "metadata": {
        "colab": {
          "base_uri": "https://localhost:8080/"
        },
        "id": "iJbKlg8MoSKE",
        "outputId": "06e828b4-b195-4960-ac6a-d7511636bb34"
      },
      "source": [
        "lists = [1,2,3,4,5]\r\n",
        "print(lists.reverse())\r\n",
        "print(lists)"
      ],
      "execution_count": 19,
      "outputs": [
        {
          "output_type": "stream",
          "text": [
            "None\n",
            "[5, 4, 3, 2, 1]\n"
          ],
          "name": "stdout"
        }
      ]
    },
    {
      "cell_type": "code",
      "metadata": {
        "colab": {
          "base_uri": "https://localhost:8080/"
        },
        "id": "ZzHJxX8XoUKc",
        "outputId": "dd59a14f-c8dc-4225-ffb0-05f1e0d8225b"
      },
      "source": [
        "# 리스트를 하나 만들자!\r\n",
        "# n = 5일때\r\n",
        "\r\n",
        "# 1 ~ 5까지 들어가 있는 리스트\r\n",
        "list_1 = []\r\n",
        "for i in range(1, n+1, 1):\r\n",
        "  list_1.append(i)\r\n",
        "\r\n",
        "print(list_1)\r\n",
        "\r\n",
        "# 10 ~ 6이 거꾸로 들어가 있는 리스트\r\n",
        "list_2 = []\r\n",
        "for i in range(n*2, n, -1):\r\n",
        "  list_2.append(i)\r\n",
        "\r\n",
        "print(list_2)\r\n",
        "\r\n",
        "# 11 ~ 15까지 들어가 있는 리스트\r\n",
        "list_3 = []\r\n",
        "# 11 = 5 * 2 + 1, 16 = 5 * 3 + 1\r\n",
        "for i in range(n*2+1, n*3+1, 1):\r\n",
        "  list_3.append(i)\r\n",
        "\r\n",
        "print(list_3)\r\n",
        "\r\n",
        "# 20 ~ 16까지 거꾸로 들어가 있는 리스트\r\n",
        "list_4 = []\r\n",
        "for i in range(n*4, n*3, -1):\r\n",
        "  list_4.append(i)\r\n",
        "\r\n",
        "print(list_4)\r\n",
        "\r\n",
        "\r\n",
        "#list_arr.append(list_1)\r\n",
        "#list_arr.append(list_2)\r\n",
        "#list_arr.append(list_3)\r\n",
        "#list_arr.append(list_4)\r\n",
        "#print(list_arr)"
      ],
      "execution_count": 21,
      "outputs": [
        {
          "output_type": "stream",
          "text": [
            "[1, 2, 3, 4]\n",
            "[8, 7, 6, 5]\n",
            "[9, 10, 11, 12]\n",
            "[16, 15, 14, 13]\n"
          ],
          "name": "stdout"
        }
      ]
    }
  ]
}