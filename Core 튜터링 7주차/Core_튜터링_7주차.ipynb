{
  "nbformat": 4,
  "nbformat_minor": 0,
  "metadata": {
    "colab": {
      "name": "Core 튜터링 7주차.ipynb",
      "provenance": [],
      "collapsed_sections": [],
      "authorship_tag": "ABX9TyPHWnYvG07tS/bO44iiNwjs",
      "include_colab_link": true
    },
    "kernelspec": {
      "name": "python3",
      "display_name": "Python 3"
    }
  },
  "cells": [
    {
      "cell_type": "markdown",
      "metadata": {
        "id": "view-in-github",
        "colab_type": "text"
      },
      "source": [
        "<a href=\"https://colab.research.google.com/github/YeonWon123/2020_Core_Study/blob/main/Core_%ED%8A%9C%ED%84%B0%EB%A7%81_7%EC%A3%BC%EC%B0%A8.ipynb\" target=\"_parent\"><img src=\"https://colab.research.google.com/assets/colab-badge.svg\" alt=\"Open In Colab\"/></a>"
      ]
    },
    {
      "cell_type": "markdown",
      "metadata": {
        "id": "-YNoVJC1KH8i"
      },
      "source": [
        "# 2020 카카오 신입 공채 코딩테스트 문제 완성하기 - 문자열 압축 (연습문제 5.20)"
      ]
    },
    {
      "cell_type": "code",
      "metadata": {
        "id": "BdmLFvTBJv-P"
      },
      "source": [
        "def solution(s):\n",
        "    answer = 100000\n",
        "    \n",
        "    # 코너 케이스(극단적인 케이스, 경계값)의 경우 예외처리를 해 주자\n",
        "    # s의 길이가 1인 경우 (입력값이 \"a\"인 경우)\n",
        "    if len(s) == 1:\n",
        "      return 1\n",
        "\n",
        "    # j개 단위로 문자열을 잘라 봅시다.\n",
        "    # j의 범위 : 1 ~ '문자열 s의 전체 길이 / 2' 만큼\n",
        "    for j in range(1,int(len(s)/2) + 1 ,1):\n",
        "        output = ''       # 결과 문자열\n",
        "        left =''          # 이전 문자열을 보관하는 곳\n",
        "        now = ''          # 현재 문자열을 보관하는 곳\n",
        "        counts = 1        # 이전 문자열이 나온 횟수\n",
        "        for i in range(0,len(s),1):\n",
        "            now += s[i]\n",
        "            \n",
        "            if (i % j) == (j - 1):  # 비교를 해야하는 곳인지 찾자               \n",
        "              # 이전 문자열과의 비교를 수행\n",
        "              # 이전 문자열과 지금 문자열이 같으면, counts를 1 증가\n",
        "              # 지금 문자열은 초기화\n",
        "                if left == now:\n",
        "                    counts = counts + 1        \n",
        "                else:\n",
        "                    # 이전 문자열이 비어 있으면, 이전 문자열에 지금 문자열을 넣고\n",
        "                    # 다음으로 넘어간다.\n",
        "                    if left == '':\n",
        "                          # 값을 하나씩 복사해서, left와 now가 같은 곳을 보지 못하게 한다.\n",
        "                        for i in range(0,len(now),1):\n",
        "                            left += now[i]\n",
        "                    else:\n",
        "                        # 이전 문자열과 지금 문자열이 다르다면, output에 추가\n",
        "                        # 숫자가 먼저 나오게 한다.\n",
        "                        # 반복 횟수가 1보다 크면 반복 횟수를 output에 추가\n",
        "                        if counts > 1:\n",
        "                            output += str(counts)\n",
        "\n",
        "                        # 그리고 문자 추가\n",
        "                        output += left\n",
        "\n",
        "                        left = ''\n",
        "                        for i in range(0,len(now),1):\n",
        "                            left += now[i]\n",
        "                        counts = 1\n",
        "                        \n",
        "                # 지금 문자열은 초기화한다.\n",
        "                now = ''\n",
        "                    \n",
        "        if counts > 1:\n",
        "            output += str(counts)\n",
        "        output += left\n",
        "        output += now\n",
        "        # print(\"결과:\",output)\n",
        "\n",
        "        # 현재 내가 가지고 있는 답안보다 새롭게 만든 문자열의 길이가 더 짧으면\n",
        "        # 답안을 갱신\n",
        "        #if answer > len(output):\n",
        "        #  answer = len(output)\n",
        "        answer = min(answer, len(output))\n",
        "        print(output)      \n",
        "        \n",
        "    return answer"
      ],
      "execution_count": null,
      "outputs": []
    },
    {
      "cell_type": "code",
      "metadata": {
        "id": "4XEyb-65W2SI",
        "outputId": "a9d0073b-0685-45b8-ae09-cec7e86a0a1b",
        "colab": {
          "base_uri": "https://localhost:8080/"
        }
      },
      "source": [
        "a_str = input()\n",
        "print(solution(a_str))"
      ],
      "execution_count": null,
      "outputs": [
        {
          "output_type": "stream",
          "text": [
            "abcabcabc\n",
            "abcabcabc\n",
            "abcabcabc\n",
            "3abc\n",
            "abcabcabc\n",
            "4\n"
          ],
          "name": "stdout"
        }
      ]
    },
    {
      "cell_type": "markdown",
      "metadata": {
        "id": "J4rqFGx8Kf7I"
      },
      "source": [
        "# sort 함수 알아보고 이와 관련된 문제 풀어보기 "
      ]
    },
    {
      "cell_type": "code",
      "metadata": {
        "id": "d4F6CfpKNdyX",
        "outputId": "80bd351d-714c-41f6-a3ce-3f2eb0463528",
        "colab": {
          "base_uri": "https://localhost:8080/"
        }
      },
      "source": [
        "# 숫자를 보관하는 리스트\n",
        "l = []\n",
        "\n",
        "# 숫자 개수 입력받기\n",
        "n = int(input())\n",
        "\n",
        "\n",
        "# N개의 수 입력받기\n",
        "for i in range(n):\n",
        "  a = int(input())\n",
        "  l.append(a)\n",
        "\n",
        "print(l)\n",
        "\n",
        "# sort 함수를 사용해서, l 리스트를 오름차순 정렬해보기??\n",
        "# sort 함수는 자신의 리스트 자체를 바꾼다. (함수의 리턴값이 없이 자기 리스트를 바꿈)\n",
        "l.sort()\n",
        "print(l)\n",
        "\n",
        "# 내림차순 정렬 (큰 수부터 작은 수 순으로 나열)\n",
        "l.sort(reverse=True)\n",
        "print(l)"
      ],
      "execution_count": null,
      "outputs": [
        {
          "output_type": "stream",
          "text": [
            "5\n",
            "4\n",
            "2\n",
            "3\n",
            "5\n",
            "1\n",
            "[4, 2, 3, 5, 1]\n",
            "[1, 2, 3, 4, 5]\n",
            "[5, 4, 3, 2, 1]\n"
          ],
          "name": "stdout"
        }
      ]
    },
    {
      "cell_type": "code",
      "metadata": {
        "id": "0h9WoqNAdTEf",
        "outputId": "c953f456-73d2-4d02-d818-80c64d9ba05f",
        "colab": {
          "base_uri": "https://localhost:8080/"
        }
      },
      "source": [
        "# 숫자를 보관하는 리스트\n",
        "l = []\n",
        "\n",
        "# 숫자 개수 입력받기\n",
        "n = int(input())\n",
        "\n",
        "\n",
        "# N개의 수 입력받기\n",
        "for i in range(n):\n",
        "  a = int(input())\n",
        "  l.append(a)\n",
        "\n",
        "print(l)\n",
        "\n",
        "# sorted 함수를 사용해서, l 리스트를 오름차순 정렬\n",
        "# sorted 함수는 원본 리스트를 그대로 두고, 정렬된 리스트를 반환해서 새 리스트에 넣는다.\n",
        "p = sorted(l)\n",
        "print(p)\n",
        "\n",
        "g = sorted(l, reverse=True)\n",
        "print(g) "
      ],
      "execution_count": null,
      "outputs": [
        {
          "output_type": "stream",
          "text": [
            "5\n",
            "4\n",
            "2\n",
            "3\n",
            "5\n",
            "1\n",
            "[4, 2, 3, 5, 1]\n",
            "[1, 2, 3, 4, 5]\n",
            "[5, 4, 3, 2, 1]\n"
          ],
          "name": "stdout"
        }
      ]
    },
    {
      "cell_type": "markdown",
      "metadata": {
        "id": "b-91d-gpKlXd"
      },
      "source": [
        "# sort 함수를 사용하지 않고 정렬하는 방법?"
      ]
    },
    {
      "cell_type": "code",
      "metadata": {
        "id": "18Vex1VbKlCL",
        "outputId": "96462fd8-53e7-45a2-83bd-687b8610f631",
        "colab": {
          "base_uri": "https://localhost:8080/"
        }
      },
      "source": [
        "# list_1을 오름차순 정렬해보자 (작은 수부터 큰 수대로)\n",
        "list_1 = [5, 3, 8, 1, 2, 7]\n",
        "\n",
        "# 어떤 리스트에서 i번째 위치의 원소와 j번째 위치의 원소를 바꾸는 함수\n",
        "def swap(i, j):\n",
        "    a = list_1[i]\n",
        "    list_1[i] = list_1[j]\n",
        "    list_1[j] = a\n",
        "\n",
        "# 선택 정렬 : 제일 작은 값을 찾아서, 맨 앞에서부터 나열해서 오름차순 정렬을 하는 방식\n",
        "for i in range(len(list_1)):\n",
        "  a = min(list_1[i:])        # 제일 작은 값을 찾는 과정      (min(리스트) 함수 사용)\n",
        "  m_index = list_1.index(a)  # 그 값이 어디에 있는지를 찾는 과정 (index(원소) 메소드 사용)\n",
        "  swap(i, m_index)\n",
        "\n",
        "print(list_1)\n",
        "\n",
        "# 3-1 자료구조 시간에 자세히 배우게 됩니다!\n",
        "# 컴퓨터학부에서는 2-1 자료구조 시간에 배우게 됩니다 :)"
      ],
      "execution_count": null,
      "outputs": [
        {
          "output_type": "stream",
          "text": [
            "[1, 2, 3, 5, 7, 8]\n"
          ],
          "name": "stdout"
        }
      ]
    },
    {
      "cell_type": "markdown",
      "metadata": {
        "id": "i47mwi4fKoLR"
      },
      "source": [
        "# 으뜸파이썬 6장 : 리스트, 딕셔너리, 튜플, 집합"
      ]
    },
    {
      "cell_type": "code",
      "metadata": {
        "id": "tOrP_mn8Koo3",
        "outputId": "a26d770c-869d-4a1d-efa1-6afe48211315",
        "colab": {
          "base_uri": "https://localhost:8080/"
        }
      },
      "source": [
        "a = ['국어', 90, '수학', 80]   # 대괄호 : 리스트\n",
        "\n",
        " # { key : value, key : value }\n",
        "b = {'국어' : 90, '수학' : 80} # 중괄호 : 딕셔너리(dictionary)\n",
        "c = () # 소괄호 : 튜플(tuple)\n",
        "\n",
        "print(a)\n",
        "\n",
        "# 딕셔너리는 key(키)와 value(값)로 이루어져 있다.\n",
        "# 왜 쓸까? 일단 쌍으로 묶여 있으니 특정 상황에서 좋을 수 있음\n",
        "print(b)\n",
        "\n",
        "# b[key값] = value\n",
        "print(b['국어'])\n",
        "print(b['수학'])\n",
        "\n",
        "# 딕셔너리에 원소 추가하기\n",
        "# 딕셔너리 원소 : key와 value으로 이루어져 있다.\n",
        "# 플밍, 100\n",
        "# b[key값] = value값 : 이렇게 쓰면 딕셔너리에 원소가 추가됩니다!\n",
        "b['플밍'] = 100\n",
        "\n",
        "print(b)\n",
        "print(b['플밍'])\n",
        "\n",
        "# 딕셔너리 원소 수정하기\n",
        "b['수학'] = 50\n",
        "print(b)\n",
        "\n",
        "####### 중요한 성질 : 딕셔너리에서 key값은 중복될 수 없다!!!!\n",
        "####### 중요한 성질 : value값은 상관없다.\n",
        "d = {'국어' : 40, '국어' : 50, '수학' : 50, '과학' : 60}\n",
        "\n",
        "print(d) # 결과\n",
        "# 1. 오류가 난다. <- 요거에 낚이지 말자!\n",
        "# 2. {'국어' : 40, '국어' : 50, '수학' : 50, '과학' : 60}\n",
        "# 3. {'국어' : 40, '수학' : 50, '과학' : 60}\n",
        "# 4. {'국어' : 50, '수학' : 50, '과학' : 60} <- 요게 정답!\n",
        "\n",
        "# print(d['사회']) # 해당하는 key값이 없을 때는 KeyError가 난다.\n",
        "\n",
        "# 딕셔너리 원소 삭제\n",
        "# del 딕셔너리이름[key값]\n",
        "del d['수학']\n",
        "print(d)\n",
        "\n",
        "# 딕셔너리에 이 키값이 있을까? 를 판정하고 싶을 때 (value값과는 상관 없음)\n",
        "# ex) 너네 학교에 플밍과목이 있니?\n",
        "# (key값 in 딕서녀리이름)\n",
        "if '수학' in d:\n",
        "  print(\"수학이 d에 있다.\")\n",
        "else:\n",
        "  print(\"수학은 d에 없다.\")\n",
        "\n",
        "if 50 in d:\n",
        "  print(\"50이 d에 있다.\")\n",
        "else:\n",
        "  print(\"50은 d에 없다.\")"
      ],
      "execution_count": null,
      "outputs": [
        {
          "output_type": "stream",
          "text": [
            "['국어', 90, '수학', 80]\n",
            "{'국어': 90, '수학': 80}\n",
            "90\n",
            "80\n",
            "{'국어': 90, '수학': 80, '플밍': 100}\n",
            "100\n",
            "{'국어': 90, '수학': 50, '플밍': 100}\n",
            "{'국어': 50, '수학': 50, '과학': 60}\n",
            "{'국어': 50, '과학': 60}\n",
            "수학은 d에 없다.\n",
            "50은 d에 없다.\n"
          ],
          "name": "stdout"
        }
      ]
    },
    {
      "cell_type": "code",
      "metadata": {
        "id": "2UlfFbwmocvo",
        "outputId": "bbab242c-53f9-4fad-b8bb-c0dbeb978427",
        "colab": {
          "base_uri": "https://localhost:8080/"
        }
      },
      "source": [
        "# 딕셔너리에 이 value값이 있을까? 를 판정하고 싶을 때\n",
        "\n",
        "# for i in 딕셔너리이름:\n",
        "   # i는 딕셔너리 키값\n",
        "\n",
        "for i in d:\n",
        "  print(i) # 딕셔너리 키값을 모두 추출하는 경우\n",
        "\n",
        "# value값 중에 50점이 있는가?\n",
        "for i in d:\n",
        "  print(d[i]) # 딕셔너리 value값을 모두 추출하는 경우\n",
        "  if 50 == d[i]:\n",
        "    print(\"50점 있어요!\")\n"
      ],
      "execution_count": 52,
      "outputs": [
        {
          "output_type": "stream",
          "text": [
            "국어\n",
            "과학\n",
            "50\n",
            "50점 있어요!\n",
            "60\n"
          ],
          "name": "stdout"
        }
      ]
    },
    {
      "cell_type": "code",
      "metadata": {
        "id": "YTeRuk30okwP"
      },
      "source": [
        ""
      ],
      "execution_count": null,
      "outputs": []
    }
  ]
}