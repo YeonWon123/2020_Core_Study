{
  "nbformat": 4,
  "nbformat_minor": 0,
  "metadata": {
    "colab": {
      "name": "Core 튜터링 2주차.ipynb",
      "provenance": []
    },
    "kernelspec": {
      "name": "python3",
      "display_name": "Python 3"
    }
  },
  "cells": [
    {
      "cell_type": "markdown",
      "metadata": {
        "id": "qORaXGpxBa4H"
      },
      "source": [
        "오늘의 목표\n",
        "- 백준 15953번 상금 헌터 (카카오 코드 페스티벌 2018 1번 문제) 문제 풀기\n",
        "\n",
        "오늘 배울 사항\n",
        "- 파이썬으로 입출력하는 기본적인 방법에 대해 알 수 있다. (input함수 파헤치기)\n",
        "- 파이썬으로 조건문(if ~ else / if ~ elif ~ else)을 작성할 수 있다.\n",
        "- 파이썬으로 반복문(for / while)을 작성하고 \n",
        "  어느 상황에 for문을 쓰는지, 어느 상황에 while문을 쓰는 것이 좋은지 말할 수 있다. \n",
        "  (면접 \"기본\" 문제 - \"기본기의 중요성\"이죠. 그러나 뚜렷한 정답은 없습니다.\n",
        "   자기 생각/경험을 어떻게 잘 말하는지가 핵심!)\n",
        "- 파이썬으로 리스트를 작성해보고 왜 리스트를 써야 하는지 말할 수 있다.\n",
        "\n",
        "기본기 다지기\n",
        "- 백준 1000번 A + B \t\t: int를 2개 받는 방법\n",
        "- 백준 1330번 두 수 비교하기 \t: if ~ elif ~ else문 사용해 보기\n",
        "- 백준 8393번 합\t\t\t: for문 사용해보기 / for문을 안쓰고 푸는 방법?\n",
        "- 백준 10952 A+B - 5\t\t: while문 사용해보기\n",
        "- 백준 10871 X보다 작은 수 \t\t: 리스트 사용해보기\n",
        "\n",
        "실전 문제\n",
        "- 백준 14681 사분면 고르기 (Canadian Computing Competition > 2017 Junior Division 1번 문제)\n",
        "- 백준 8958 OX퀴즈 (ICPC > Asia Regional > Seoul 2005 > A번 문제)\n",
        "- 백준 2577 숫자의 개수 (한국정보올림피아드 > 지역본선 2006 > 초등부 2번 문제)\n",
        "- 백준 15953 상금 헌터 (카카오 코드 페스티벌 2018 > 1번 문제)\n"
      ]
    },
    {
      "cell_type": "markdown",
      "metadata": {
        "id": "ng_ju-9S9s0F"
      },
      "source": [
        "백준 8393 합"
      ]
    },
    {
      "cell_type": "code",
      "metadata": {
        "id": "BSYxFI2L9g_0",
        "outputId": "29762011-533f-4582-f924-e208c6cbd193",
        "colab": {
          "base_uri": "https://localhost:8080/",
          "height": 34
        }
      },
      "source": [
        "a = int(input())"
      ],
      "execution_count": 7,
      "outputs": [
        {
          "output_type": "stream",
          "text": [
            "3\n"
          ],
          "name": "stdout"
        }
      ]
    },
    {
      "cell_type": "code",
      "metadata": {
        "id": "e1e_PC09BwjC",
        "outputId": "1b9b6c4a-3ea1-4742-f84d-a48af4f99851",
        "colab": {
          "base_uri": "https://localhost:8080/",
          "height": 34
        }
      },
      "source": [
        "print(a)"
      ],
      "execution_count": 8,
      "outputs": [
        {
          "output_type": "stream",
          "text": [
            "3\n"
          ],
          "name": "stdout"
        }
      ]
    },
    {
      "cell_type": "code",
      "metadata": {
        "id": "Lqpb4JT2ByKL",
        "outputId": "698ba0dc-f5b4-40a1-8954-801029bb07f9",
        "colab": {
          "base_uri": "https://localhost:8080/",
          "height": 34
        }
      },
      "source": [
        "type(a)"
      ],
      "execution_count": 9,
      "outputs": [
        {
          "output_type": "execute_result",
          "data": {
            "text/plain": [
              "int"
            ]
          },
          "metadata": {
            "tags": []
          },
          "execution_count": 9
        }
      ]
    },
    {
      "cell_type": "code",
      "metadata": {
        "id": "iYEJYtwzCLGt",
        "outputId": "a0576dcf-94e4-4bbf-defa-cb9b8c82b425",
        "colab": {
          "base_uri": "https://localhost:8080/",
          "height": 51
        }
      },
      "source": [
        "# 1부터 n까지 합을 출력\n",
        "# 1. for 반복문 사용\n",
        "# 1 + 2 + 3\n",
        "\n",
        "a = int(input())\n",
        "sum = 0\n",
        "for i in range(1, a+1):\n",
        "  sum += i\n",
        "\n",
        "print(sum)\n"
      ],
      "execution_count": 20,
      "outputs": [
        {
          "output_type": "stream",
          "text": [
            "3\n",
            "6\n"
          ],
          "name": "stdout"
        }
      ]
    },
    {
      "cell_type": "markdown",
      "metadata": {
        "id": "DfLicVJlEpsP"
      },
      "source": [
        "for문의 형태\n",
        "for 변수 in range(끝나는 값)\n",
        "for 변수 in range(시작값, 끝나는 값, 증가하는 값)\n",
        "\n",
        "for i in range(3): # 시작값 : 0, 끝나는 값: 3, 증가하는 값 : 1\n",
        "  \n",
        "   print(i)\n",
        "\n",
        "for i in range(1, 3): # 시작값 : 1, 끝나는 값 : 3, 증가하는 값 : 1\n",
        "  \n",
        "   print(i)\n",
        "\n",
        "for i in range(0, 3, 2): # 시작값 : 0, 끝나는 값 : 3, 증가하는 값 : 2\n",
        "  \n",
        "   print(i)\n",
        "\n",
        "for i in range(start, stop)\n",
        "for i in range(start, stop, 1)\n"
      ]
    },
    {
      "cell_type": "code",
      "metadata": {
        "id": "DRqyrmoqEodH",
        "outputId": "e73ab267-d5bf-4a4d-a3a0-90236c98a384",
        "colab": {
          "base_uri": "https://localhost:8080/",
          "height": 51
        }
      },
      "source": [
        "# 2. 다른 방법으로 풀어보기\n",
        "# for문 / while문 -> 반복문\n",
        "# 반복문을 안 쓰고 푸는 방법? -> 수학\n",
        "\n",
        "# 1 ~ n = n * (n+1) / 2 \n",
        "\n",
        "a = int(input())\n",
        "sum = a * (a+1) / 2\n",
        "print(int(sum)) # 강제 형변환 : 컴퓨터가 임의로 형을 바꿨을 때, 코더가 원하는 형으로 바꾸는 것\n"
      ],
      "execution_count": 23,
      "outputs": [
        {
          "output_type": "stream",
          "text": [
            "3\n",
            "6\n"
          ],
          "name": "stdout"
        }
      ]
    },
    {
      "cell_type": "markdown",
      "metadata": {
        "id": "hmN_D97SGYdE"
      },
      "source": [
        "백준 1000 A + B"
      ]
    },
    {
      "cell_type": "code",
      "metadata": {
        "id": "C46pFzSNGZ51",
        "outputId": "356184d0-299b-4576-b0dc-3fb7ec87e3ab",
        "colab": {
          "base_uri": "https://localhost:8080/",
          "height": 232
        }
      },
      "source": [
        "# 두 정수 A와 B를 입력받은 다음, A + B를 출력하는 프로그램 작성하기\n",
        "a = int(input())\n",
        "b = int(input())\n",
        "print(a+b)"
      ],
      "execution_count": 25,
      "outputs": [
        {
          "output_type": "stream",
          "text": [
            "1 2\n"
          ],
          "name": "stdout"
        },
        {
          "output_type": "error",
          "ename": "ValueError",
          "evalue": "ignored",
          "traceback": [
            "\u001b[0;31m---------------------------------------------------------------------------\u001b[0m",
            "\u001b[0;31mValueError\u001b[0m                                Traceback (most recent call last)",
            "\u001b[0;32m<ipython-input-25-5553100e4334>\u001b[0m in \u001b[0;36m<module>\u001b[0;34m()\u001b[0m\n\u001b[1;32m      1\u001b[0m \u001b[0;31m# 두 정수 A와 B를 입력받은 다음, A + B를 출력하는 프로그램 작성하기\u001b[0m\u001b[0;34m\u001b[0m\u001b[0;34m\u001b[0m\u001b[0;34m\u001b[0m\u001b[0m\n\u001b[0;32m----> 2\u001b[0;31m \u001b[0ma\u001b[0m \u001b[0;34m=\u001b[0m \u001b[0mint\u001b[0m\u001b[0;34m(\u001b[0m\u001b[0minput\u001b[0m\u001b[0;34m(\u001b[0m\u001b[0;34m)\u001b[0m\u001b[0;34m)\u001b[0m\u001b[0;34m\u001b[0m\u001b[0;34m\u001b[0m\u001b[0m\n\u001b[0m\u001b[1;32m      3\u001b[0m \u001b[0mb\u001b[0m \u001b[0;34m=\u001b[0m \u001b[0mint\u001b[0m\u001b[0;34m(\u001b[0m\u001b[0minput\u001b[0m\u001b[0;34m(\u001b[0m\u001b[0;34m)\u001b[0m\u001b[0;34m)\u001b[0m\u001b[0;34m\u001b[0m\u001b[0;34m\u001b[0m\u001b[0m\n\u001b[1;32m      4\u001b[0m \u001b[0mprint\u001b[0m\u001b[0;34m(\u001b[0m\u001b[0ma\u001b[0m\u001b[0;34m+\u001b[0m\u001b[0mb\u001b[0m\u001b[0;34m)\u001b[0m\u001b[0;34m\u001b[0m\u001b[0;34m\u001b[0m\u001b[0m\n",
            "\u001b[0;31mValueError\u001b[0m: invalid literal for int() with base 10: '1 2'"
          ]
        }
      ]
    },
    {
      "cell_type": "markdown",
      "metadata": {
        "id": "yue_ImuPHTVz"
      },
      "source": [
        "* input() 특징\n",
        " 1. 한줄 전체를 입력받는다.\n",
        "    (enter키가 나오기 전까지 입력을 받는다.)\n",
        " 2. str형으로 입력받는다. (문자열의 형태로 입력받는다.)"
      ]
    },
    {
      "cell_type": "markdown",
      "metadata": {
        "id": "9RdgVE5lIJUc"
      },
      "source": [
        "* input().split( 구분자 )\n",
        "  1. 한 줄에 여러 개의 정수가 떨어져 있을 때 그거를 list로 입력받는 방법\n",
        "  2. 구분자 : ' ', ',' , '.', ...\n",
        "  3. 근데 list로 입력을 따로따로 받는데 문제는 str로 받는다 ㅜㅜ"
      ]
    },
    {
      "cell_type": "code",
      "metadata": {
        "id": "xPlVas0JGwT8",
        "outputId": "f9b805d1-8776-44e3-a814-6920a16a6f80",
        "colab": {
          "base_uri": "https://localhost:8080/",
          "height": 34
        }
      },
      "source": [
        "a = input().split(' ')"
      ],
      "execution_count": 38,
      "outputs": [
        {
          "output_type": "stream",
          "text": [
            "1,2,3,4,5\n"
          ],
          "name": "stdout"
        }
      ]
    },
    {
      "cell_type": "code",
      "metadata": {
        "id": "rlPmL58gHPC9",
        "outputId": "66043551-c285-4dcb-aa02-7b8b97640a4f",
        "colab": {
          "base_uri": "https://localhost:8080/",
          "height": 34
        }
      },
      "source": [
        "print(a)"
      ],
      "execution_count": 39,
      "outputs": [
        {
          "output_type": "stream",
          "text": [
            "['1', '2', '3', '4', '5']\n"
          ],
          "name": "stdout"
        }
      ]
    },
    {
      "cell_type": "code",
      "metadata": {
        "id": "zI5GDkd5HRQw",
        "outputId": "6b29d0e9-e3fe-44da-babf-dd9b03a2a15a",
        "colab": {
          "base_uri": "https://localhost:8080/",
          "height": 34
        }
      },
      "source": [
        "type(a)"
      ],
      "execution_count": 40,
      "outputs": [
        {
          "output_type": "execute_result",
          "data": {
            "text/plain": [
              "list"
            ]
          },
          "metadata": {
            "tags": []
          },
          "execution_count": 40
        }
      ]
    },
    {
      "cell_type": "markdown",
      "metadata": {
        "id": "n4JVsnAvI1A9"
      },
      "source": [
        "* Python에서 map이라는 함수 사용하기\n",
        "  1. 형태 : map(자료형, 데이터)\n"
      ]
    },
    {
      "cell_type": "code",
      "metadata": {
        "id": "hRBs26VBIlth",
        "outputId": "58d5792a-1320-403e-919a-e92a5a81e3e0",
        "colab": {
          "base_uri": "https://localhost:8080/",
          "height": 119
        }
      },
      "source": [
        "a, b = map(int, input().split(' '))\n",
        "print(a)\n",
        "print(b)\n",
        "print(type(a))\n",
        "print(type(b))\n",
        "print(a + b)"
      ],
      "execution_count": 43,
      "outputs": [
        {
          "output_type": "stream",
          "text": [
            "1 2\n",
            "1\n",
            "2\n",
            "<class 'int'>\n",
            "<class 'int'>\n",
            "3\n"
          ],
          "name": "stdout"
        }
      ]
    },
    {
      "cell_type": "markdown",
      "metadata": {
        "id": "sSgwH0JJKV2w"
      },
      "source": [
        "* 한줄에 정수를 여러 개 입력받는데\n",
        " 1. 정수들이 ' '로 구분되어 있고\n",
        " 2. 입력받는 정수의 개수를 알 경우 and 그 개수가 적을 경우"
      ]
    },
    {
      "cell_type": "code",
      "metadata": {
        "id": "rngHk5OyJQpW",
        "outputId": "a7e9c40c-d83c-406a-bdc9-eb09859eec5e",
        "colab": {
          "base_uri": "https://localhost:8080/",
          "height": 51
        }
      },
      "source": [
        "a, b = map(int, input().split(' '))\n",
        "print(a+b)"
      ],
      "execution_count": 44,
      "outputs": [
        {
          "output_type": "stream",
          "text": [
            "1 2\n",
            "3\n"
          ],
          "name": "stdout"
        }
      ]
    },
    {
      "cell_type": "markdown",
      "metadata": {
        "id": "XtjC15ZVKhu-"
      },
      "source": [
        "* 한줄에 정수를 여러 개 입력받는데\n",
        "  1. 정수들이 ' '(space bar)로 구분되어 있고\n",
        "  2. 입력받는 정수의 개수를 모르거나 너무 많은 경우"
      ]
    },
    {
      "cell_type": "markdown",
      "metadata": {
        "id": "gdm5yFrTLU7b"
      },
      "source": [
        "* list?"
      ]
    },
    {
      "cell_type": "code",
      "metadata": {
        "id": "szjgDS2vLiAu"
      },
      "source": [
        "ls = []\n",
        "lis = [1,2,3]"
      ],
      "execution_count": 59,
      "outputs": []
    },
    {
      "cell_type": "code",
      "metadata": {
        "id": "xYZdnMWQLjVA",
        "outputId": "1ae21081-4939-4e6d-9b23-244474794c69",
        "colab": {
          "base_uri": "https://localhost:8080/",
          "height": 34
        }
      },
      "source": [
        "print(ls)"
      ],
      "execution_count": 60,
      "outputs": [
        {
          "output_type": "stream",
          "text": [
            "[]\n"
          ],
          "name": "stdout"
        }
      ]
    },
    {
      "cell_type": "code",
      "metadata": {
        "id": "WCwtt9vTLlR6",
        "outputId": "e3d0d168-457f-433a-8c13-1e0fe11e266b",
        "colab": {
          "base_uri": "https://localhost:8080/",
          "height": 34
        }
      },
      "source": [
        "type(ls)"
      ],
      "execution_count": 61,
      "outputs": [
        {
          "output_type": "execute_result",
          "data": {
            "text/plain": [
              "list"
            ]
          },
          "metadata": {
            "tags": []
          },
          "execution_count": 61
        }
      ]
    },
    {
      "cell_type": "code",
      "metadata": {
        "id": "PbEn8joDLmxV",
        "outputId": "ff6d5491-15b6-4ebe-a698-77131407ab79",
        "colab": {
          "base_uri": "https://localhost:8080/",
          "height": 34
        }
      },
      "source": [
        "print(lis)"
      ],
      "execution_count": 62,
      "outputs": [
        {
          "output_type": "stream",
          "text": [
            "[1, 2, 3]\n"
          ],
          "name": "stdout"
        }
      ]
    },
    {
      "cell_type": "code",
      "metadata": {
        "id": "agwk5UkDLosB",
        "outputId": "b2017818-2d45-442f-958b-fd3f0172fc35",
        "colab": {
          "base_uri": "https://localhost:8080/",
          "height": 34
        }
      },
      "source": [
        "type(lis)"
      ],
      "execution_count": 63,
      "outputs": [
        {
          "output_type": "execute_result",
          "data": {
            "text/plain": [
              "list"
            ]
          },
          "metadata": {
            "tags": []
          },
          "execution_count": 63
        }
      ]
    },
    {
      "cell_type": "markdown",
      "metadata": {
        "id": "rsyBZtqaL5Zl"
      },
      "source": [
        "* list에서 각 요소에 접근할 때\n",
        "\n",
        " ex) lis = [1, 2, 3]\n",
        "\n",
        " ex) lis[0] # lis에서 첫번째 위치 (0부터 시작, 위치는 index라고도 한다.)\n",
        "\n",
        " ex) print(lis[0]) # 1이 출력됨\n",
        "\n",
        " ex) lis[1] # lis에서 두번째 위치\n",
        "\n",
        " ex) print(lis[1]) # 2가 출력됨\n",
        "\n",
        " ex) lis[2] # lis에서 세번째 위치\n",
        "\n",
        " ex) print(lis[2]) # 3이 출력됨\n",
        "\n",
        " ex) lis[3] # list index out of range(오류!)"
      ]
    },
    {
      "cell_type": "code",
      "metadata": {
        "id": "zCMy_3maLtbI",
        "outputId": "dab8374d-ecba-43f6-aee4-bddd3a29d737",
        "colab": {
          "base_uri": "https://localhost:8080/",
          "height": 164
        }
      },
      "source": [
        "print(lis[3])"
      ],
      "execution_count": 67,
      "outputs": [
        {
          "output_type": "error",
          "ename": "IndexError",
          "evalue": "ignored",
          "traceback": [
            "\u001b[0;31m---------------------------------------------------------------------------\u001b[0m",
            "\u001b[0;31mIndexError\u001b[0m                                Traceback (most recent call last)",
            "\u001b[0;32m<ipython-input-67-8f406677d131>\u001b[0m in \u001b[0;36m<module>\u001b[0;34m()\u001b[0m\n\u001b[0;32m----> 1\u001b[0;31m \u001b[0mprint\u001b[0m\u001b[0;34m(\u001b[0m\u001b[0mlis\u001b[0m\u001b[0;34m[\u001b[0m\u001b[0;36m3\u001b[0m\u001b[0;34m]\u001b[0m\u001b[0;34m)\u001b[0m\u001b[0;34m\u001b[0m\u001b[0;34m\u001b[0m\u001b[0m\n\u001b[0m",
            "\u001b[0;31mIndexError\u001b[0m: list index out of range"
          ]
        }
      ]
    },
    {
      "cell_type": "markdown",
      "metadata": {
        "id": "QK8PFSgEMpAo"
      },
      "source": [
        "* 한줄에 정수를 여러 개 입력받는데\n",
        "  1. 정수들이 ' '(space bar)로 구분되어 있고\n",
        "  2. 입력받는 정수의 개수를 모르거나 너무 많은 경우"
      ]
    },
    {
      "cell_type": "markdown",
      "metadata": {
        "id": "rfu_LYzGMxwb"
      },
      "source": [
        "* for문의 다른 형태\n",
        "1. for 변수 in 순회할 리스트 이름\n",
        "\n",
        "이렇게 쓰면\n",
        "\n",
        "변수 = 리스트[순서]"
      ]
    },
    {
      "cell_type": "code",
      "metadata": {
        "id": "sg7WlE8WND6a",
        "outputId": "a3d4f5a9-fa3f-46dc-e77b-646bad3d3e2c",
        "colab": {
          "base_uri": "https://localhost:8080/",
          "height": 34
        }
      },
      "source": [
        "a = input().split()"
      ],
      "execution_count": 71,
      "outputs": [
        {
          "output_type": "stream",
          "text": [
            "123 485 398 3048 2838 19283 3948 5984 2928 17 238\n"
          ],
          "name": "stdout"
        }
      ]
    },
    {
      "cell_type": "code",
      "metadata": {
        "id": "b_dvhr3aNGr3",
        "outputId": "47146830-7d71-4bfd-8f84-a27cd8723e02",
        "colab": {
          "base_uri": "https://localhost:8080/",
          "height": 34
        }
      },
      "source": [
        "print(a)"
      ],
      "execution_count": 72,
      "outputs": [
        {
          "output_type": "stream",
          "text": [
            "['123', '485', '398', '3048', '2838', '19283', '3948', '5984', '2928', '17', '238']\n"
          ],
          "name": "stdout"
        }
      ]
    },
    {
      "cell_type": "code",
      "metadata": {
        "id": "zwLiSsR3NTom",
        "outputId": "616b036c-833d-4152-d023-34c7a0847005",
        "colab": {
          "base_uri": "https://localhost:8080/",
          "height": 204
        }
      },
      "source": [
        "for x in a:\n",
        "  print(x)"
      ],
      "execution_count": 73,
      "outputs": [
        {
          "output_type": "stream",
          "text": [
            "123\n",
            "485\n",
            "398\n",
            "3048\n",
            "2838\n",
            "19283\n",
            "3948\n",
            "5984\n",
            "2928\n",
            "17\n",
            "238\n"
          ],
          "name": "stdout"
        }
      ]
    },
    {
      "cell_type": "code",
      "metadata": {
        "id": "tjynWgVlKMvv",
        "outputId": "e38439c0-7723-4f86-c009-65e651d10f41",
        "colab": {
          "base_uri": "https://localhost:8080/",
          "height": 34
        }
      },
      "source": [
        "l = [ int(x) for x in input().split() ]"
      ],
      "execution_count": 74,
      "outputs": [
        {
          "output_type": "stream",
          "text": [
            "1 2 3 4 5\n"
          ],
          "name": "stdout"
        }
      ]
    },
    {
      "cell_type": "code",
      "metadata": {
        "id": "KQszRwKLK10W",
        "outputId": "839a0be8-e4b3-4e13-b5d1-7e9dc69e20d9",
        "colab": {
          "base_uri": "https://localhost:8080/",
          "height": 34
        }
      },
      "source": [
        "print(l)"
      ],
      "execution_count": 75,
      "outputs": [
        {
          "output_type": "stream",
          "text": [
            "[1, 2, 3, 4, 5]\n"
          ],
          "name": "stdout"
        }
      ]
    },
    {
      "cell_type": "markdown",
      "metadata": {
        "id": "oN6TZIZ9ON2J"
      },
      "source": [
        "input().split()\n",
        "\n",
        "input().split(' ')\n",
        "\n",
        "이 둘은 동일하다."
      ]
    },
    {
      "cell_type": "code",
      "metadata": {
        "id": "dBAuLtGxLNLC",
        "outputId": "ee01edc9-cdbd-4d64-e120-bc18bf7e6df4",
        "colab": {
          "base_uri": "https://localhost:8080/",
          "height": 51
        }
      },
      "source": [
        "# 1000번 문제 다시풀어보기\n",
        "l = [int(x) for x in input().split(' ')]\n",
        "\n",
        "sum = 0\n",
        "for x in l:\n",
        "  sum += x\n",
        "\n",
        "print(sum)"
      ],
      "execution_count": 78,
      "outputs": [
        {
          "output_type": "stream",
          "text": [
            "1 2\n",
            "3\n"
          ],
          "name": "stdout"
        }
      ]
    },
    {
      "cell_type": "code",
      "metadata": {
        "id": "tCtcTK7uOVSz",
        "outputId": "adaf70ac-dff1-4b25-dbf7-a0d4de99cf12",
        "colab": {
          "base_uri": "https://localhost:8080/",
          "height": 34
        }
      },
      "source": [
        "print(l)"
      ],
      "execution_count": 77,
      "outputs": [
        {
          "output_type": "stream",
          "text": [
            "[1, 2]\n"
          ],
          "name": "stdout"
        }
      ]
    },
    {
      "cell_type": "markdown",
      "metadata": {
        "id": "xgEVD6hfO_yk"
      },
      "source": [
        "백준 1330 두 수 비교하기"
      ]
    },
    {
      "cell_type": "code",
      "metadata": {
        "id": "pEXcHq1aO8o7",
        "outputId": "0925884b-4076-418a-d974-20e372bc75c9",
        "colab": {
          "base_uri": "https://localhost:8080/",
          "height": 51
        }
      },
      "source": [
        "a, b = map(int, input().split(' '))\n",
        "\n",
        "# if ~ else // if ~ elif(else if) ~ else\n",
        "if a > b:\n",
        "  print(\">\")\n",
        "elif a < b:\n",
        "  print(\"<\")\n",
        "else:                     # a == b\n",
        "  print(\"==\")"
      ],
      "execution_count": 85,
      "outputs": [
        {
          "output_type": "stream",
          "text": [
            "5 5\n",
            "==\n"
          ],
          "name": "stdout"
        }
      ]
    },
    {
      "cell_type": "code",
      "metadata": {
        "id": "WbLETELVPhLf",
        "outputId": "7dd6cf5f-fc89-4006-c823-e83ed7bbce09",
        "colab": {
          "base_uri": "https://localhost:8080/",
          "height": 51
        }
      },
      "source": [
        "print(a)\n",
        "print(b)"
      ],
      "execution_count": 80,
      "outputs": [
        {
          "output_type": "stream",
          "text": [
            "1\n",
            "2\n"
          ],
          "name": "stdout"
        }
      ]
    },
    {
      "cell_type": "markdown",
      "metadata": {
        "id": "LStjr_OEQiaw"
      },
      "source": [
        "백준 15953 상금 헌터 (카카오 코드 페스티벌 2018 1번 문제)"
      ]
    },
    {
      "cell_type": "code",
      "metadata": {
        "id": "KcJliR3oQm6v",
        "outputId": "f40fe22a-4b0b-47ee-8c14-f3c8f2ef809b",
        "colab": {
          "base_uri": "https://localhost:8080/",
          "height": 238
        }
      },
      "source": [
        "# 첫 번째 줄에 제이지가 상상력을 발휘하여 가정한 횟수 T가 주어진다.\n",
        "# -> 한줄에 정수 1개 주어져서 int(input()) 사용 가능\n",
        "T = int(input())\n",
        "\n",
        "# 다음 T개 줄에는 한 줄에 하나씩 제이지가 해본 가정에 대한 정보가 주어진다.\n",
        "# -> 반복문이 필요하다. (for문 사용해야겠구나)\n",
        "# for i in range(0, T, 1) 과 for i in range(T)는 동일\n",
        "for i in range(0, T, 1):\n",
        "  a, b = map(int, input().split(' '))\n",
        "\n",
        "  sum = 0\n",
        "  if a == 0:    # 진출하지 못했을 경우\n",
        "    sum += 0\n",
        "  elif a == 1:  # 1명만 1등 (1등)\n",
        "    sum += 500\n",
        "  elif a < 4:   # 2명이 2등 (2등, 3등)\n",
        "    sum += 300\n",
        "  elif a < 7:   # 3명이 3등 (4등, 5등, 6등)\n",
        "    sum += 200\n",
        "  elif a < 11:  # 4명이 4등 (7등, 8등, 9등, 10등)\n",
        "    sum += 50\n",
        "  elif a < 16:  # 5명이 5등 (11등, 12등, 13등, 14등, 15등)\n",
        "    sum += 30\n",
        "  elif a < 22:  # 6명이 6등 (16등, 17등, 18등, 19등, 20등, 21등)\n",
        "    sum += 10\n",
        "  else:          # 22등 아래일 경우\n",
        "    sum += 0\n",
        "\n",
        "  if b == 0:    # 진출하지 못했을 경우\n",
        "    sum += 0\n",
        "  elif b == 1:  # 1명만 1등 (1등)\n",
        "    sum += 512\n",
        "  elif b < 4:   # 2명이 2등 (2등, 3등)\n",
        "    sum += 256\n",
        "  elif b < 8:   # 4명이 3등 (4등, 5등, 6등, 7등)\n",
        "    sum += 128\n",
        "  elif b < 16:   # 8명이 4등 (8등, 9등, 10등, 11등, 12등, 13등, 14등, 15등)\n",
        "    sum += 64\n",
        "  elif b < 32:   # 16명이 5등 (16등 ~ 32등)\n",
        "    sum += 32\n",
        "  else:\n",
        "    sum += 0\n",
        "\n",
        "  print(sum * 10000)\n"
      ],
      "execution_count": 90,
      "outputs": [
        {
          "output_type": "stream",
          "text": [
            "6\n",
            "8 4\n",
            "1780000\n",
            "13 19\n",
            "620000\n",
            "8 10\n",
            "1140000\n",
            "18 18\n",
            "420000\n",
            "8 25\n",
            "820000\n",
            "13 16\n",
            "620000\n"
          ],
          "name": "stdout"
        }
      ]
    },
    {
      "cell_type": "code",
      "metadata": {
        "id": "v_DrWWUdRL3D",
        "outputId": "dbe3d82e-c436-4999-e2b3-4199653e8353",
        "colab": {
          "base_uri": "https://localhost:8080/",
          "height": 34
        }
      },
      "source": [
        "print(T)"
      ],
      "execution_count": 87,
      "outputs": [
        {
          "output_type": "stream",
          "text": [
            "6\n"
          ],
          "name": "stdout"
        }
      ]
    },
    {
      "cell_type": "markdown",
      "metadata": {
        "id": "YTmJr_W4Wi2i"
      },
      "source": [
        "* While문 사용해보기\n",
        "\n",
        "while 조건1:\n",
        "\n",
        "    ....\n",
        "\n",
        "    ....\n",
        "\n",
        "    if 조건2:\n",
        "\n",
        "      break      #조건1을 만족하지 않아도 조건2가 만족되면 바로 while문을 벗어난다\n",
        "\n",
        "    ....\n",
        "\n",
        ",,,,"
      ]
    },
    {
      "cell_type": "code",
      "metadata": {
        "id": "8N_xmHU5X_F7",
        "outputId": "7643edd5-03b5-4000-bf0e-65b01f6761f3",
        "colab": {
          "base_uri": "https://localhost:8080/",
          "height": 68
        }
      },
      "source": [
        "# 무한 루프를 쓰지 않은 코드\n",
        "a = 1\n",
        "b = 1\n",
        "\n",
        "while a != 0 and b != 0:             \n",
        "  a, b = map(int, input().split(' '))\n",
        "  if a != 0 and b != 0:\n",
        "    print(a+b)\n"
      ],
      "execution_count": 97,
      "outputs": [
        {
          "output_type": "stream",
          "text": [
            "1 2\n",
            "3\n",
            "0 0\n"
          ],
          "name": "stdout"
        }
      ]
    },
    {
      "cell_type": "code",
      "metadata": {
        "id": "NdP0UHg6XUZo",
        "outputId": "bbc01afa-38a9-4e5f-9ac0-3a8e1bb5a16b",
        "colab": {
          "base_uri": "https://localhost:8080/",
          "height": 136
        }
      },
      "source": [
        "# 무한 루프를 사용한 코드\n",
        "while True:                           # 무한 루프 (무조건 참인 문장이 조건이어서 while문이 끝나지 않음)\n",
        "  a, b = map(int, input().split(' '))\n",
        "  if a != 0 and b != 0:\n",
        "    print(a+b)\n",
        "  else:\n",
        "    break                             # while문을 벗어나는 명령어 break - while문이 무한루프이든 아니든 사용 가능\n",
        "  "
      ],
      "execution_count": 99,
      "outputs": [
        {
          "output_type": "stream",
          "text": [
            "1 1\n",
            "2\n",
            "2 3\n",
            "5\n",
            "3 4\n",
            "7\n",
            "0 0\n"
          ],
          "name": "stdout"
        }
      ]
    },
    {
      "cell_type": "markdown",
      "metadata": {
        "id": "0FgR82zMW7ls"
      },
      "source": [
        "for i in range(0, 5, 1):\n",
        "\n",
        "for i in 리스트:\n",
        "\n",
        "\n",
        "\n"
      ]
    },
    {
      "cell_type": "code",
      "metadata": {
        "id": "rKcSmYo0Wir0"
      },
      "source": [
        ""
      ],
      "execution_count": null,
      "outputs": []
    }
  ]
}