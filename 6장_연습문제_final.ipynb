{
  "nbformat": 4,
  "nbformat_minor": 0,
  "metadata": {
    "colab": {
      "name": "6장 연습문제_final.ipynb",
      "provenance": [],
      "authorship_tag": "ABX9TyMeilaw1OtoHAJDVpcEVu6u",
      "include_colab_link": true
    },
    "kernelspec": {
      "name": "python3",
      "display_name": "Python 3"
    }
  },
  "cells": [
    {
      "cell_type": "markdown",
      "metadata": {
        "id": "view-in-github",
        "colab_type": "text"
      },
      "source": [
        "<a href=\"https://colab.research.google.com/github/YeonWon123/2020_Core_Study/blob/main/6%EC%9E%A5_%EC%97%B0%EC%8A%B5%EB%AC%B8%EC%A0%9C_final.ipynb\" target=\"_parent\"><img src=\"https://colab.research.google.com/assets/colab-badge.svg\" alt=\"Open In Colab\"/></a>"
      ]
    },
    {
      "cell_type": "code",
      "metadata": {
        "colab": {
          "base_uri": "https://localhost:8080/"
        },
        "id": "puQFwxW6gIwE",
        "outputId": "3cc662c0-ecfa-4a44-da1e-e2a834c934c9"
      },
      "source": [
        "# 연습문제 6.8\r\n",
        "# 합집합 연산을 써서 구현하기\r\n",
        "# 문제 오타 : 한번 이상 -> 두번 이상 (한번 이상이면 한번 등장한 원소도 포함이니깐요)\r\n",
        "\r\n",
        "tup = (1,2,5,4,3,2,9,1,4,7,8,9,9)\r\n",
        "print('주어진 튜플은 : ', tup)\r\n",
        "\r\n",
        "# 비어있는 집합을 만듭니다.\r\n",
        "dup = set()\r\n",
        "\r\n",
        "# 이 dup 집합에 tup의 원소를 하나하나 추출합니다.\r\n",
        "# 단, 튜플 메소드 중 count()를 이용해서 시도해 봅시다.\r\n",
        "for i in tup:\r\n",
        "  # 두 번 이상 등장했다면\r\n",
        "  if tup.count(i) > 1:\r\n",
        "    # 집합에 넣어 봅시다.\r\n",
        "    # 방법은 두 가지입니다. 집합 중 add 메소드를 이용하거나, 합집합을 이용하는 방법이죠!\r\n",
        "    dup.add(i) # add 메소드를 이용하는 경우\r\n",
        "    dup.union({i}) # 합집합을 이용하는 경우, {} 를 이용하여 집합을 만들 수 있습니다. ( {}의 경우 딕셔너리 또는 집합을 만들 수가 있습니다! )\r\n",
        "\r\n",
        "print('중복 원소는', dup)"
      ],
      "execution_count": 1,
      "outputs": [
        {
          "output_type": "stream",
          "text": [
            "주어진 튜플은 :  (1, 2, 5, 4, 3, 2, 9, 1, 4, 7, 8, 9, 9)\n",
            "중복 원소는 {1, 2, 4, 9}\n"
          ],
          "name": "stdout"
        }
      ]
    },
    {
      "cell_type": "code",
      "metadata": {
        "colab": {
          "base_uri": "https://localhost:8080/"
        },
        "id": "vmxLJ_EEgTHE",
        "outputId": "6620245c-cb28-434c-f99e-c8c7b9202d41"
      },
      "source": [
        "# 연습문제 6.10\r\n",
        "\r\n",
        "#tup = (1,2,5,4,3,2,1,4,7,8,9,9,3,7,3)\r\n",
        "tup = (1,1,1,1,1,1,2,2,2)\r\n",
        "\r\n",
        "k = tup[0] # 가장 많이 나타나는 요소를 우선 tup[0]으로 둡니다. 저희는 k값을 계속 갱신하는 것으로 하고, 이 k값을 비교에 계속 사용할 것입니다.\r\n",
        "for i in range(1, len(tup), 1): # tup[0]은 이미 k로 정의하였으므로 우리는 tup[1]부터 탐색합시다.\r\n",
        "  if (tup.count(k) < tup.count(tup[i])):\r\n",
        "      k = tup[i]\r\n",
        "  elif tup.count(k) == tup.count(tup[i]):\r\n",
        "    if k < tup[i]: # 크기 비교를 시행해서 더 큰 값을 k값으로 지정합니다.\r\n",
        "      k = tup[i]\r\n",
        "  # tup.count(k) > tup.count(tup[i])인 경우는 k의 값을 그대로 두면 됩니다.\r\n",
        "\r\n",
        "print('가장 많이 나타나는 요소는 : ', k)"
      ],
      "execution_count": 2,
      "outputs": [
        {
          "output_type": "stream",
          "text": [
            "가장 많이 나타나는 요소는 :  1\n"
          ],
          "name": "stdout"
        }
      ]
    },
    {
      "cell_type": "code",
      "metadata": {
        "id": "Q9AU7hmCgXE0"
      },
      "source": [
        "# 연습문제 6.12, 6.13, 6.14 응용\r\n",
        "# 버블 정렬\r\n",
        "# 1. 첫번쨰 원소와 두번째 원소를 비교\r\n",
        "# 2. 두번째 원소(오른쪽에 있는 원소)가 더 크면, 두 원소를 서로 바꿉니다.(교환, swap)\r\n",
        "# 3. 맨 오른쪽에 있는 원소를 만날 때까지 수행\r\n",
        "# 4. 1,2,3을 다 마치면, 맨 오른쪽에 있는 원소는 가장 큰 원소가 됩니다.\r\n",
        "# 5. 1,2,3,4를 다시 수행하는데, 맨 오른쪽에 있는 원소(가장 큰 원소)는 제외하고 반복합니다."
      ],
      "execution_count": 3,
      "outputs": []
    },
    {
      "cell_type": "code",
      "metadata": {
        "colab": {
          "base_uri": "https://localhost:8080/"
        },
        "id": "pri5bNR0gXiT",
        "outputId": "0242c93a-321a-49dc-c1dd-1ff9de58768a"
      },
      "source": [
        "# 6.12\r\n",
        "\r\n",
        "# 어떤 리스트에서 i번째 위치의 원소와 j번째 위치의 원소를 바꾸는 함수\r\n",
        "# 1. 임시변수를 사용할 경우\r\n",
        "def swap(i, j):\r\n",
        "    a = list_1[i]\r\n",
        "    list_1[i] = list_1[j]\r\n",
        "    list_1[j] = a\r\n",
        "\r\n",
        "# 2. 임시변수를 사용하지 않는 경우\r\n",
        "lists = [4,23,49,12,30,48,32,12,4]\r\n",
        "print(\"주어진 리스트는 : \", lists)\r\n",
        "\r\n",
        "# 가장 큰 값이 어느 위치에 있는지를 알면, 문제가 없죠!\r\n",
        "\r\n",
        "# (1) 가장 큰 값이 어떤 값인지 : max(리스트)\r\n",
        "max_value = max(lists)\r\n",
        "\r\n",
        "# (2) 그 값이 어느 위치에 있는지 \r\n",
        "#   리스트.index(찾고자 하는 값, 검색 시작점, 검색 끝점)\r\n",
        "max_index = lists.index(max_value)\r\n",
        "print(max_value, max_index)\r\n",
        "\r\n",
        "# (3) 그 위치에 있는 값과 맨 오른쪽에 있는 값을 바꾸는 코드\r\n",
        "# 가장 큰 값이 위치하는 곳 : max_index\r\n",
        "# 리스트에서 맨 오른쪽에 있는 값 : lists[-1]\r\n",
        "lists[-1], lists[max_index] = (lists[max_index], lists[-1])\r\n",
        "\r\n",
        "print(\"가장 큰 수를 마지막으로 옮긴 결과 : \", lists)"
      ],
      "execution_count": 4,
      "outputs": [
        {
          "output_type": "stream",
          "text": [
            "주어진 리스트는 :  [4, 23, 49, 12, 30, 48, 32, 12, 4]\n",
            "49 2\n",
            "가장 큰 수를 마지막으로 옮긴 결과 :  [4, 23, 4, 12, 30, 48, 32, 12, 49]\n"
          ],
          "name": "stdout"
        }
      ]
    },
    {
      "cell_type": "code",
      "metadata": {
        "colab": {
          "base_uri": "https://localhost:8080/"
        },
        "id": "eT7V_DtEgXt7",
        "outputId": "dd14aa40-09fb-4c6b-9af9-d332ed48e174"
      },
      "source": [
        "# 6.12 다른 풀이\r\n",
        "lists = [4,23,49,12,30,48,32,12,4]\r\n",
        "print(\"주어진 리스트는 : \", lists)\r\n",
        "\r\n",
        "# index로 리스트 접근하는 방법 사용\r\n",
        "# 다른 풀이 : for i in lists:\r\n",
        "for i in range(len(lists)-1): # -1에 유의!\r\n",
        "  # 왼쪽에 있는 값이 더 크다면?\r\n",
        "  if lists[i] > lists[i+1]:\r\n",
        "    # 두 값을 바꾼다.(swap한다.)\r\n",
        "    lists[i+1], lists[i] = (lists[i], lists[i+1])    # lists[i], lists[i+1] = lists[i+1], lists[i]\r\n",
        "\r\n",
        "print(lists)"
      ],
      "execution_count": 5,
      "outputs": [
        {
          "output_type": "stream",
          "text": [
            "주어진 리스트는 :  [4, 23, 49, 12, 30, 48, 32, 12, 4]\n",
            "[4, 23, 12, 30, 48, 32, 12, 4, 49]\n"
          ],
          "name": "stdout"
        }
      ]
    },
    {
      "cell_type": "code",
      "metadata": {
        "colab": {
          "base_uri": "https://localhost:8080/"
        },
        "id": "S0W4Ke8TgX4F",
        "outputId": "b9dd4d7b-50f5-441c-ea6f-e954b42da6b7"
      },
      "source": [
        "# 6.13\r\n",
        "# 6.14 : 리스트 슬라이싱 이용?!\r\n",
        "lists = [4,23,49,12,30,48,32,12,4]\r\n",
        "print(\"주어진 리스트는 : \", lists)\r\n",
        "\r\n",
        "# 이중 for문 사용\r\n",
        "for j in range(len(lists), 1, -1):\r\n",
        "  #print(\"j값은 : \", j)\r\n",
        "  for i in range(0, j-1, 1): \r\n",
        "    #print(\" i값은 : \", i)\r\n",
        "    # 왼쪽에 있는 값이 더 크다면?\r\n",
        "    if lists[i] > lists[i+1]:\r\n",
        "      # 두 값을 바꾼다.(swap한다.)\r\n",
        "      lists[i+1], lists[i] = (lists[i], lists[i+1])\r\n",
        "\r\n",
        "  #print(lists)\r\n",
        "  # 정렬이 된 부분   : 맨 마지막 부분\r\n",
        "  # 정렬이 안된 부분 : 0 ~ 맨 마지막 부분을 제외한 부분\r\n",
        "  print(lists[0:j-1], end = ', ') # 정렬이 안된 부분\r\n",
        "  print(lists[j-1:]) # 정렬이 된 부분\r\n",
        "print(lists)"
      ],
      "execution_count": 6,
      "outputs": [
        {
          "output_type": "stream",
          "text": [
            "주어진 리스트는 :  [4, 23, 49, 12, 30, 48, 32, 12, 4]\n",
            "[4, 23, 12, 30, 48, 32, 12, 4], [49]\n",
            "[4, 12, 23, 30, 32, 12, 4], [48, 49]\n",
            "[4, 12, 23, 30, 12, 4], [32, 48, 49]\n",
            "[4, 12, 23, 12, 4], [30, 32, 48, 49]\n",
            "[4, 12, 12, 4], [23, 30, 32, 48, 49]\n",
            "[4, 12, 4], [12, 23, 30, 32, 48, 49]\n",
            "[4, 4], [12, 12, 23, 30, 32, 48, 49]\n",
            "[4], [4, 12, 12, 23, 30, 32, 48, 49]\n",
            "[4, 4, 12, 12, 23, 30, 32, 48, 49]\n"
          ],
          "name": "stdout"
        }
      ]
    },
    {
      "cell_type": "code",
      "metadata": {
        "colab": {
          "base_uri": "https://localhost:8080/"
        },
        "id": "8zc0iAZ1kyQD",
        "outputId": "a97e2e15-4581-444d-cafb-92128003b8d7"
      },
      "source": [
        "# tup의 성질(리턴)을 이용한 swap\r\n",
        "a = 300\r\n",
        "b = 400\r\n",
        "print(a, b)\r\n",
        "a, b = (b, a) # a, b = b, a와 동일\r\n",
        "print(a, b)"
      ],
      "execution_count": 7,
      "outputs": [
        {
          "output_type": "stream",
          "text": [
            "300 400\n",
            "400 300\n"
          ],
          "name": "stdout"
        }
      ]
    },
    {
      "cell_type": "code",
      "metadata": {
        "colab": {
          "base_uri": "https://localhost:8080/"
        },
        "id": "YtzcTuCqgb8-",
        "outputId": "12b765ea-de6d-490c-d24d-9d429468a958"
      },
      "source": [
        "# 연습문제 6.22\r\n",
        "# 마지막 이름이 vic로 끝나는 것을 표현해봤는데 적용되지 않는 문제?\r\n",
        "name = input('이름을 입력하세요 : ')\r\n",
        "\r\n",
        "if name[-3:] == 'vic':\r\n",
        "  print('안녕하세요?', name, '님. 발칸 반도에서 오셨나요?')\r\n",
        "else:\r\n",
        "  print('안녕하세요?', name, '님.')"
      ],
      "execution_count": 8,
      "outputs": [
        {
          "output_type": "stream",
          "text": [
            "이름을 입력하세요 : Sinisa Mihajlovic\n",
            "안녕하세요? Sinisa Mihajlovic 님. 발칸 반도에서 오셨나요?\n"
          ],
          "name": "stdout"
        }
      ]
    },
    {
      "cell_type": "code",
      "metadata": {
        "colab": {
          "base_uri": "https://localhost:8080/"
        },
        "id": "tGGGKNVCgcW-",
        "outputId": "909e8537-4ab9-4a92-f574-4078b3b93ba8"
      },
      "source": [
        "import string\r\n",
        "\r\n",
        "# 연습문제 6.24 암호 문제\r\n",
        "# (1)\r\n",
        "src_str = string.ascii_uppercase\r\n",
        "print(src_str)\r\n",
        "\r\n",
        "dst_str = src_str[3:] + src_str[0:3]\r\n",
        "print(dst_str)\r\n",
        "\r\n",
        "# (2) 리스트이름.index(\"찾고자 하는 값\", \"시작 지점\", \"끝 지점\") -> 찾고자 하는 값이 어느 위치에 있는가?\r\n",
        "A_index = src_str.index('A')\r\n",
        "print('src_str의 A 인덱스 : ', A_index)\r\n",
        "print('dst_str의 0번째 알파벳 : ', dst_str[A_index]) # A_index = 0\r\n",
        "\r\n",
        "B_index = src_str.index('B')\r\n",
        "print('src_str의 B 인덱스 : ', B_index)\r\n",
        "print('dst_str의 1번째 알파벳 : ', dst_str[B_index]) # B_index = 1"
      ],
      "execution_count": 9,
      "outputs": [
        {
          "output_type": "stream",
          "text": [
            "ABCDEFGHIJKLMNOPQRSTUVWXYZ\n",
            "DEFGHIJKLMNOPQRSTUVWXYZABC\n",
            "src_str의 A 인덱스 :  0\n",
            "dst_str의 0번째 알파벳 :  D\n",
            "src_str의 B 인덱스 :  1\n",
            "dst_str의 1번째 알파벳 :  E\n"
          ],
          "name": "stdout"
        }
      ]
    },
    {
      "cell_type": "code",
      "metadata": {
        "colab": {
          "base_uri": "https://localhost:8080/"
        },
        "id": "D5P5ftzbgdlZ",
        "outputId": "7cd6a38d-d6eb-42ec-8e3d-908ea7b37524"
      },
      "source": [
        "# (3)\r\n",
        "def ciper(a):\r\n",
        "  ans_str = \"\"\r\n",
        "  for i in range(len(a)):\r\n",
        "    if (a[i].isalpha()) == True:\r\n",
        "      a_index = src_str.index(a[i])\r\n",
        "      #print('src_str의', a[i], '인덱스 : ', a_index)\r\n",
        "      #print('dst_str의', a_index, \"번째 알파벳 : \", dst_str[a_index])\r\n",
        "      ans_str += dst_str[a_index]\r\n",
        "    else:\r\n",
        "      ans_str += a[i]\r\n",
        "\r\n",
        "  print(\"암호화된 문장\", ans_str)\r\n",
        "  #return ans_str\r\n",
        "\r\n",
        "ciper(\"ATTACK THIS!\")"
      ],
      "execution_count": 10,
      "outputs": [
        {
          "output_type": "stream",
          "text": [
            "암호화된 문장 DWWDFN WKLV!\n"
          ],
          "name": "stdout"
        }
      ]
    },
    {
      "cell_type": "code",
      "metadata": {
        "colab": {
          "base_uri": "https://localhost:8080/"
        },
        "id": "-PNavqdSgemL",
        "outputId": "a0f557a3-5fbe-4dfd-9992-f553cd3983dc"
      },
      "source": [
        "# (4)\r\n",
        "# src_str -> dst_str (암호화)\r\n",
        "\r\n",
        "src_str = string.ascii_uppercase\r\n",
        "print(src_str)\r\n",
        "\r\n",
        "dst_str = src_str[3:] + src_str[0:3]\r\n",
        "print(dst_str)\r\n",
        "\r\n",
        "# dst_str -> src_str (해독)\r\n",
        "unlock_str = dst_str[-3:] + dst_str[:-3]\r\n",
        "print(unlock_str)\r\n",
        "\r\n",
        "input_str = \"DWWDFN WRQLJKW!\"\r\n",
        "ans_str = \"\"\r\n",
        "for i in range(len(input_str)):\r\n",
        "  # 지금 내가 보고 있는 부분이 알파벳인가?\r\n",
        "  if input_str[i].isalpha(): # <- 이게 알파벳인가?\r\n",
        "    a_index = dst_str.index(input_str[i])\r\n",
        "    print('dst_str의', input_str[i], '인덱스 : ', a_index)\r\n",
        "    print('src_str의', a_index, \"번째 알파벳 : \", src_str[a_index])\r\n",
        "    ans_str += src_str[a_index]\r\n",
        "  else:\r\n",
        "    ans_str += input_str[i]\r\n",
        "\r\n",
        "print(\"해독된 문장\", ans_str)"
      ],
      "execution_count": 11,
      "outputs": [
        {
          "output_type": "stream",
          "text": [
            "ABCDEFGHIJKLMNOPQRSTUVWXYZ\n",
            "DEFGHIJKLMNOPQRSTUVWXYZABC\n",
            "ABCDEFGHIJKLMNOPQRSTUVWXYZ\n",
            "dst_str의 D 인덱스 :  0\n",
            "src_str의 0 번째 알파벳 :  A\n",
            "dst_str의 W 인덱스 :  19\n",
            "src_str의 19 번째 알파벳 :  T\n",
            "dst_str의 W 인덱스 :  19\n",
            "src_str의 19 번째 알파벳 :  T\n",
            "dst_str의 D 인덱스 :  0\n",
            "src_str의 0 번째 알파벳 :  A\n",
            "dst_str의 F 인덱스 :  2\n",
            "src_str의 2 번째 알파벳 :  C\n",
            "dst_str의 N 인덱스 :  10\n",
            "src_str의 10 번째 알파벳 :  K\n",
            "dst_str의 W 인덱스 :  19\n",
            "src_str의 19 번째 알파벳 :  T\n",
            "dst_str의 R 인덱스 :  14\n",
            "src_str의 14 번째 알파벳 :  O\n",
            "dst_str의 Q 인덱스 :  13\n",
            "src_str의 13 번째 알파벳 :  N\n",
            "dst_str의 L 인덱스 :  8\n",
            "src_str의 8 번째 알파벳 :  I\n",
            "dst_str의 J 인덱스 :  6\n",
            "src_str의 6 번째 알파벳 :  G\n",
            "dst_str의 K 인덱스 :  7\n",
            "src_str의 7 번째 알파벳 :  H\n",
            "dst_str의 W 인덱스 :  19\n",
            "src_str의 19 번째 알파벳 :  T\n",
            "해독된 문장 ATTACK TONIGHT!\n"
          ],
          "name": "stdout"
        }
      ]
    },
    {
      "cell_type": "code",
      "metadata": {
        "colab": {
          "base_uri": "https://localhost:8080/"
        },
        "id": "0RqvrS1MgjHC",
        "outputId": "038914c2-717a-4d6a-f342-530f3b7f7117"
      },
      "source": [
        "# 연습문제 6.24 다른 풀이\r\n",
        "\r\n",
        "# (1) ascii_uppercase를 사용하여 src_str을 만들고\r\n",
        "# 리스트 슬라이싱 기능을 사용하여, 3칸 이동한 dst_str 문자열을 만들어서 출력하기\r\n",
        "\r\n",
        "# src_str = ABCDEFGHIJK...WXYZ\r\n",
        "# dst_str = DEFGHIJKLMN...ZABC\r\n",
        "\r\n",
        "import string\r\n",
        "\r\n",
        "src_str = string.ascii_uppercase\r\n",
        "dst_str = src_str[3:] + src_str[0:3]\r\n",
        "print(\"src_str =\", src_str)\r\n",
        "print(\"dst_str =\", dst_str)"
      ],
      "execution_count": 12,
      "outputs": [
        {
          "output_type": "stream",
          "text": [
            "src_str = ABCDEFGHIJKLMNOPQRSTUVWXYZ\n",
            "dst_str = DEFGHIJKLMNOPQRSTUVWXYZABC\n"
          ],
          "name": "stdout"
        }
      ]
    },
    {
      "cell_type": "code",
      "metadata": {
        "colab": {
          "base_uri": "https://localhost:8080/"
        },
        "id": "LNmEnoi-g64w",
        "outputId": "4af2dad7-6312-42b3-b178-d03321c1e149"
      },
      "source": [
        "# (2) 'A' 문자열, 'B' 문자열에 대해서 src_str 내의 인덱스를 index()를 사용하여 구한후 인덱스 출력\r\n",
        "# 그리고 이 인덱스 0과 1에 해당되는 dst_str의 문자열의 문자를 출력\r\n",
        "# 이 작업을 하는 함수 ciper(a)를 구현\r\n",
        "\r\n",
        "a = src_str.index('A')\r\n",
        "print(\"src_str의 {} 인덱스 : {}\".format('A', a))\r\n",
        "print(\"dst_str의 {}번째 알파벳 : {}\".format(a, dst_str[a]))\r\n",
        "b = src_str.index('B')\r\n",
        "print(\"src_str의 {} 인덱스 : {}\".format('B', b))\r\n",
        "print(\"dst_str의 {}번째 알파벳 : {}\".format(b, dst_str[b]))\r\n",
        "\r\n",
        "def ciper(a):\r\n",
        "  i = src_str.index(a)\r\n",
        "  print(\"src_str의 {} 인덱스 : {}\".format(a, i))\r\n",
        "  print(\"dst_str의 {}번째 알파벳 : {}\".format(i, dst_str[i]))\r\n",
        "\r\n",
        "ciper('A')\r\n",
        "ciper('B')\r\n",
        "ciper('S')"
      ],
      "execution_count": 13,
      "outputs": [
        {
          "output_type": "stream",
          "text": [
            "src_str의 A 인덱스 : 0\n",
            "dst_str의 0번째 알파벳 : D\n",
            "src_str의 B 인덱스 : 1\n",
            "dst_str의 1번째 알파벳 : E\n",
            "src_str의 A 인덱스 : 0\n",
            "dst_str의 0번째 알파벳 : D\n",
            "src_str의 B 인덱스 : 1\n",
            "dst_str의 1번째 알파벳 : E\n",
            "src_str의 S 인덱스 : 18\n",
            "dst_str의 18번째 알파벳 : V\n"
          ],
          "name": "stdout"
        }
      ]
    },
    {
      "cell_type": "code",
      "metadata": {
        "colab": {
          "base_uri": "https://localhost:8080/"
        },
        "id": "-zT8yAk0g78N",
        "outputId": "760c1d90-8275-461d-843d-4b07fd154f09"
      },
      "source": [
        "# (3) ciper(a) 함수 이용해서 사용자로부터 입력받은 문자열을 암호화하여 출력\r\n",
        "# 알파벳을 제외한 부분은 입력된 바와 동일하게 출력\r\n",
        "\r\n",
        "def ciper2(a):\r\n",
        "  i = src_str.index(a)\r\n",
        "  return dst_str[i]\r\n",
        "\r\n",
        "src = input('문장을 입력하시오: ')\r\n",
        "des = ''\r\n",
        "for i in src:\r\n",
        "  # 알파벳이면 암호화해서 des에 저장\r\n",
        "  if str.isalpha(i):\r\n",
        "    d = ciper2(i)\r\n",
        "    des += d\r\n",
        "  # 알파벳이 아니면 기존의 상태로 des에 저장\r\n",
        "  else:\r\n",
        "    des += i\r\n",
        "\r\n",
        "print(\"암호화된 문장:\", des)"
      ],
      "execution_count": 14,
      "outputs": [
        {
          "output_type": "stream",
          "text": [
            "문장을 입력하시오: ATTACK TONIGHT!\n",
            "암호화된 문장: DWWDFN WRQLJKW!\n"
          ],
          "name": "stdout"
        }
      ]
    },
    {
      "cell_type": "code",
      "metadata": {
        "colab": {
          "base_uri": "https://localhost:8080/"
        },
        "id": "euFgqBVag-aY",
        "outputId": "6ce9e9bd-4607-47c9-e116-d002cb7c4403"
      },
      "source": [
        "print(dst_str)\r\n",
        "print(src_str)"
      ],
      "execution_count": 15,
      "outputs": [
        {
          "output_type": "stream",
          "text": [
            "DEFGHIJKLMNOPQRSTUVWXYZABC\n",
            "ABCDEFGHIJKLMNOPQRSTUVWXYZ\n"
          ],
          "name": "stdout"
        }
      ]
    },
    {
      "cell_type": "code",
      "metadata": {
        "colab": {
          "base_uri": "https://localhost:8080/"
        },
        "id": "jZP1jucOg8xU",
        "outputId": "5ac660cc-bb7a-4930-e113-87a8997b97f8"
      },
      "source": [
        "# (4) 암호화된 문장을 입력으로 받아서 이를 해독하는 프로그램\r\n",
        "des = input(\"암호화된 문장을 입력하시오: \")\r\n",
        "src = ''\r\n",
        "for i in des:\r\n",
        "  if str.isalpha(i):\r\n",
        "    a = dst_str.index(i)\r\n",
        "    src += src_str[a]\r\n",
        "  else:\r\n",
        "    src += i\r\n",
        "\r\n",
        "print(\"해독된 문장: \", src)"
      ],
      "execution_count": 16,
      "outputs": [
        {
          "output_type": "stream",
          "text": [
            "암호화된 문장을 입력하시오: DWWDFN WRQLJKW!\n",
            "해독된 문장:  ATTACK TONIGHT!\n"
          ],
          "name": "stdout"
        }
      ]
    },
    {
      "cell_type": "code",
      "metadata": {
        "colab": {
          "base_uri": "https://localhost:8080/"
        },
        "id": "e9hV32xtg_Z_",
        "outputId": "1327e018-da24-4e46-ff6d-27b40589b5ac"
      },
      "source": [
        "# (5) 앞의 사항을 대문자와 소문자 모두에 대해 적용해 보기\r\n",
        "import string\r\n",
        "src_str = string.ascii_uppercase + string.ascii_lowercase\r\n",
        "dst_str = src_str[3:] + src_str[0:3]\r\n",
        "print(\"src_str : \",src_str)\r\n",
        "print(\"dst_str : \",dst_str)"
      ],
      "execution_count": 17,
      "outputs": [
        {
          "output_type": "stream",
          "text": [
            "src_str :  ABCDEFGHIJKLMNOPQRSTUVWXYZabcdefghijklmnopqrstuvwxyz\n",
            "dst_str :  DEFGHIJKLMNOPQRSTUVWXYZabcdefghijklmnopqrstuvwxyzABC\n"
          ],
          "name": "stdout"
        }
      ]
    },
    {
      "cell_type": "code",
      "metadata": {
        "colab": {
          "base_uri": "https://localhost:8080/"
        },
        "id": "hEssIoLIhABV",
        "outputId": "c91ef76a-ae23-4831-a3fa-34e591c2a2cd"
      },
      "source": [
        "# ciper(a) 함수 이용해서 사용자로부터 입력받은 문자열을 암호화하여 출력\r\n",
        "# 알파벳을 제외한 부분은 입력된 바와 동일하게 출력\r\n",
        "\r\n",
        "def ciper2(a):\r\n",
        "  i = src_str.index(a)\r\n",
        "  return dst_str[i]\r\n",
        "\r\n",
        "src = input('문장을 입력하시오: ')\r\n",
        "des = ''\r\n",
        "for i in src:\r\n",
        "  # 알파벳이면 암호화해서 des에 저장\r\n",
        "  if str.isalpha(i):\r\n",
        "    d = ciper2(i)\r\n",
        "    des += d\r\n",
        "  # 알파벳이 아니면 기존의 상태로 des에 저장\r\n",
        "  else:\r\n",
        "    des += i\r\n",
        "\r\n",
        "print(\"암호화된 문장:\", des)"
      ],
      "execution_count": 18,
      "outputs": [
        {
          "output_type": "stream",
          "text": [
            "문장을 입력하시오: Attack tonight!\n",
            "암호화된 문장: Dwwdfn wrqljkw!\n"
          ],
          "name": "stdout"
        }
      ]
    },
    {
      "cell_type": "code",
      "metadata": {
        "colab": {
          "base_uri": "https://localhost:8080/"
        },
        "id": "AOrxm-TIhBYa",
        "outputId": "8e3430d0-60d7-4f01-a300-96a16a211ec3"
      },
      "source": [
        "# 암호화된 문장을 입력으로 받아서 이를 해독하는 프로그램\r\n",
        "des = input(\"암호화된 문장을 입력하시오: \")\r\n",
        "src = ''\r\n",
        "for i in des:\r\n",
        "  if str.isalpha(i):\r\n",
        "    a = dst_str.index(i)\r\n",
        "    src += src_str[a]\r\n",
        "  else:\r\n",
        "    src += i\r\n",
        "\r\n",
        "print(\"해독된 문장: \", src)"
      ],
      "execution_count": 19,
      "outputs": [
        {
          "output_type": "stream",
          "text": [
            "암호화된 문장을 입력하시오: Veni, vidi, vici.\n",
            "해독된 문장:  Sbkf, sfaf, sfZf.\n"
          ],
          "name": "stdout"
        }
      ]
    },
    {
      "cell_type": "code",
      "metadata": {
        "colab": {
          "base_uri": "https://localhost:8080/"
        },
        "id": "cEN8KFtlgfuD",
        "outputId": "7d7069a3-9721-4e68-c93a-a945edd2e116"
      },
      "source": [
        "# 연습문제 6.20 (3)\r\n",
        "\r\n",
        "a = ('박동규', 91.00)\r\n",
        "b = [3,4,5,6,7,8,9]\r\n",
        "print(*a, sep=\"\\t\")\r\n",
        "print(*b, sep=\":\")\r\n",
        "print(*b, sep=\"   \")\r\n",
        "\r\n",
        "#print(a[0], '\\t', a[1])\r\n",
        "#'\\n', "
      ],
      "execution_count": 20,
      "outputs": [
        {
          "output_type": "stream",
          "text": [
            "박동규\t91.0\n",
            "3:4:5:6:7:8:9\n",
            "3   4   5   6   7   8   9\n"
          ],
          "name": "stdout"
        }
      ]
    },
    {
      "cell_type": "code",
      "metadata": {
        "colab": {
          "base_uri": "https://localhost:8080/"
        },
        "id": "Fgf1tRK_g3hx",
        "outputId": "7692700d-d2f6-486c-b465-314fcba37d77"
      },
      "source": [
        "# 연습문제 6.25\r\n",
        "print(\"사전 프로그램 시작... 종류는 q를 입력\")\r\n",
        "\r\n",
        "# 빈 딕셔너리 만들기\r\n",
        "dicts = {}\r\n",
        "\r\n",
        "# while 반복문, 무한 루프\r\n",
        "while True:\r\n",
        "  # 사용자로부터 입력 받기\r\n",
        "  a = input('$ ')\r\n",
        "\r\n",
        "  # 사전 프로그램 종료하기\r\n",
        "  if a == 'q':\r\n",
        "    print('사전 프로그램을 종료합니다.')\r\n",
        "    break\r\n",
        "\r\n",
        "  # 입력 명령이 들어올 때\r\n",
        "  # key값과 value값으로 나눠서 딕셔너리에 저장하기\r\n",
        "  elif a[0] == '<':\r\n",
        "    b = a[2:]\r\n",
        "    i = b.index(\":\")\r\n",
        "    key = b[:i]\r\n",
        "    value = b[i+1:]\r\n",
        "    dicts[key] = value\r\n",
        "\r\n",
        "  # 검색 명령이 들어올 때\r\n",
        "  elif a[0] == '>':\r\n",
        "    key = a[2:]\r\n",
        "    # 딕셔너리에 이 키값이 있는가? 를 판정해야 함\r\n",
        "    if (key in dicts) == True:\r\n",
        "      # 키가 있으면 value값을 출력\r\n",
        "      print(dicts[key])\r\n",
        "    else:\r\n",
        "      # 키가 없으면\r\n",
        "      print(key, '가 사전에 없습니다.')\r\n",
        "\r\n",
        "  # 잘못된 입력이 들어올 때\r\n",
        "  else:\r\n",
        "    print(\"입력오류가 발생했습니다.\")"
      ],
      "execution_count": 22,
      "outputs": [
        {
          "output_type": "stream",
          "text": [
            "사전 프로그램 시작... 종류는 q를 입력\n",
            "$ < boy:소년\n",
            "$ < girl:소녀\n",
            "$ < man:남자, 사람\n",
            "$ < woman:여자\n",
            "$ < house:집\n",
            "$ < Korea:한국\n",
            "$ > boy\n",
            "소년\n",
            "$ > body\n",
            "body 가 사전에 없습니다.\n",
            "$ man\n",
            "입력오류가 발생했습니다.\n",
            "$ > man\n",
            "남자, 사람\n",
            "$ q\n",
            "사전 프로그램을 종료합니다.\n"
          ],
          "name": "stdout"
        }
      ]
    },
    {
      "cell_type": "code",
      "metadata": {
        "colab": {
          "base_uri": "https://localhost:8080/"
        },
        "id": "zwe8Q5ozgg0w",
        "outputId": "5a10b47c-08a3-4a45-f502-351f108f261b"
      },
      "source": [
        "# 연습문제 6.26 접근하기\r\n",
        "mylist = [(1,2), (4,5), (4,2), (3,1), (9,4)]\r\n",
        "\r\n",
        "a, b = input('두 정수를 입력하시오: ').split(' ')\r\n",
        "a = int(a)\r\n",
        "b = int(b)\r\n",
        "num = (a,b)\r\n",
        "num_ex = (b,a)\r\n",
        "\r\n",
        "print(num in mylist)\r\n",
        "\r\n",
        "# d가 출력이 안되는 이유?\r\n",
        "if (num in mylist) == 'True': \r\n",
        "  print('d')"
      ],
      "execution_count": 23,
      "outputs": [
        {
          "output_type": "stream",
          "text": [
            "두 정수를 입력하시오: 4 9\n",
            "False\n"
          ],
          "name": "stdout"
        }
      ]
    },
    {
      "cell_type": "code",
      "metadata": {
        "colab": {
          "base_uri": "https://localhost:8080/"
        },
        "id": "V94Aj70Jgzem",
        "outputId": "0b18f0c1-2af9-4aab-bb8c-99d9e9d0f31a"
      },
      "source": [
        "# 연습문제 6.26  풀이\r\n",
        "mylist = [(1,2), (4,5), (4,2), (3,1), (9,4)]\r\n",
        "\r\n",
        "a, b = map(int, input('두 정수를 입력하시오:').split(' '))\r\n",
        "\r\n",
        "# 초기화\r\n",
        "sw = 0\r\n",
        "\r\n",
        "# (a,b)가 있는지 확인\r\n",
        "index = 1\r\n",
        "for i in mylist:\r\n",
        "  if i == (a, b):\r\n",
        "    print('{}번째에 {} 요소가 있습니다.'.format(index, (a,b)))\r\n",
        "    sw = 1    # (a,b)가 있다는 신호를 보냄\r\n",
        "  index += 1\r\n",
        "\r\n",
        "# (a,b)가 없으면, (b, a)가 있는지 확인\r\n",
        "if sw == 0:\r\n",
        "  index = 1\r\n",
        "  for i in mylist:\r\n",
        "    if i == (b, a):\r\n",
        "      sw = 1   # (b,a)가 있다는 신호를 보냄\r\n",
        "      print('{} 요소는 없으나 {}번째에 {}요소가 있습니다.'.format((a,b), index, (b,a)))\r\n",
        "    index += 1\r\n",
        "\r\n",
        "  # (b,a)도 없으면, 이 요소는 없는 것이다.\r\n",
        "  if sw == 0:\r\n",
        "    print(\"이 요소는 없습니다.\")\r\n"
      ],
      "execution_count": 24,
      "outputs": [
        {
          "output_type": "stream",
          "text": [
            "두 정수를 입력하시오:4 9\n",
            "(4, 9) 요소는 없으나 5번째에 (9, 4)요소가 있습니다.\n"
          ],
          "name": "stdout"
        }
      ]
    }
  ]
}