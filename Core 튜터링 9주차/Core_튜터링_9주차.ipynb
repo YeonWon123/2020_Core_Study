{
  "nbformat": 4,
  "nbformat_minor": 0,
  "metadata": {
    "colab": {
      "name": "Core 튜터링 9주차.ipynb",
      "provenance": [],
      "collapsed_sections": [],
      "authorship_tag": "ABX9TyNeFVAC8Pr029d5diT+mr1D",
      "include_colab_link": true
    },
    "kernelspec": {
      "name": "python3",
      "display_name": "Python 3"
    }
  },
  "cells": [
    {
      "cell_type": "markdown",
      "metadata": {
        "id": "view-in-github",
        "colab_type": "text"
      },
      "source": [
        "<a href=\"https://colab.research.google.com/github/YeonWon123/2020_Core_Study/blob/main/Core_%ED%8A%9C%ED%84%B0%EB%A7%81_9%EC%A3%BC%EC%B0%A8.ipynb\" target=\"_parent\"><img src=\"https://colab.research.google.com/assets/colab-badge.svg\" alt=\"Open In Colab\"/></a>"
      ]
    },
    {
      "cell_type": "code",
      "metadata": {
        "colab": {
          "base_uri": "https://localhost:8080/"
        },
        "id": "CSo38YlVhp-w",
        "outputId": "ae68a968-55c5-491c-eb37-9188e525b1f6"
      },
      "source": [
        "# 연습문제 9.8\n",
        "\n",
        "def func(number):\n",
        "  a = number + 3\n",
        "  return a\n",
        "\n",
        "# 클래스 정의\n",
        "class Counter:\n",
        "  # 초기화 메소드, 생성자\n",
        "  def __init__(self, number = 0):\n",
        "    # 이 클래스는 __number라는 속성 값을 가짐 -> self.__number\n",
        "    # __init__() 안에서 생성된 변수 : 인스턴스 변수\n",
        "    if number >= 100 or number <= -1:\n",
        "      self.__number = 0\n",
        "    else:\n",
        "      self.__number = number\n",
        "\n",
        "  # __number를 0으로 초기화하는 reset() 메소드를 가짐\n",
        "  def reset(self):\n",
        "    self.__number = 0\n",
        "\n",
        "  # __number를 1 증가시키는 inc() 메소드를 가짐\n",
        "  def inc(self):\n",
        "    self.__number += 1\n",
        "    if self.__number >= 100:\n",
        "      self.__number = 0\n",
        "\n",
        "  # __number를 1 감소시키는 dec() 매소드를 가짐\n",
        "  def dec(self):\n",
        "    self.__number -= 1\n",
        "    if self.__number <= -1:\n",
        "      self.__number = 0\n",
        "\n",
        "  # C(n)과 같이 n을 출력하는 특수 메소드를 가짐\n",
        "  def __str__(self):\n",
        "    # 이 함수에서 print를 하는 게 아니고, return을 한다.\n",
        "    # 출력하고자 하는 값을 return한다.\n",
        "    return \"C({})\".format(self.__number)\n",
        "\n",
        "# 인스턴스 c1, c2 생성\n",
        "c1 = Counter(10)\n",
        "c1.inc()\n",
        "print('c1 = ', c1)\n",
        "\n",
        "c2 = Counter()\n",
        "c2.inc()\n",
        "c2.inc()\n",
        "c2.dec()\n",
        "print('c2 = ', c2)\n",
        "c2.reset()\n",
        "print('c2 = ', c2)"
      ],
      "execution_count": null,
      "outputs": [
        {
          "output_type": "stream",
          "text": [
            "c1 =  C(11)\n",
            "c2 =  C(1)\n",
            "c2 =  C(0)\n"
          ],
          "name": "stdout"
        }
      ]
    },
    {
      "cell_type": "code",
      "metadata": {
        "colab": {
          "base_uri": "https://localhost:8080/"
        },
        "id": "vH_wzzzVnErD",
        "outputId": "5aa5c7cb-3a69-4240-b3c2-27ab0524624f"
      },
      "source": [
        "# 왜 캡슐화를 하는가?\n",
        "\n",
        "class 남윤원:\n",
        "  # 클래스 변수 : 클래스 안에 선언된 변수\n",
        "  SUBJECT = 4\n",
        "\n",
        "  # 생성자(초기화 메소드) : 인스턴스가 생성될 때 처음으로 호출되는 함수(메소드)\n",
        "  def __init__(self):\n",
        "    # 인스턴스 변수 : 생성자 안에서 선언된 변수\n",
        "    # 인스턴스 변수는 보통 앞에 __을 붙여서, (외부에 공개하고 싶지 않음)\n",
        "    # 클래스 밖에서 호출되지 못하게 합니다.\n",
        "    self.__height = 178\n",
        "    self.__kg = 78\n",
        "\n",
        "  # get, set함수\n",
        "  # get함수 : 인스턴스 변수를 클래스 밖에서 알고 싶을 때 사용\n",
        "  def get_height(self):\n",
        "    return self.__height\n",
        "\n",
        "  # set함수 : 인스턴스 변수를 클래스 밖에서 수정하고 싶을 때 사용\n",
        "  def set_height(self, height):\n",
        "    self.__height = height\n",
        "\n",
        "# a라는 인스턴스 생성\n",
        "a = 남윤원()  \n",
        "\n",
        "print(a.SUBJECT)\n",
        "#print(a.__height) # 오류! 민감한 정보를 __로 감싸서, 클래스 밖에서 그대로 부르지 못함\n",
        "#print(a.kg)  # 오류!\n",
        "\n",
        "print(a.get_height()) # get, set 함수를 사용하여 간접적으로 사용 가능\n",
        "a.set_height(75)\n",
        "print(a.get_height())\n",
        "\n"
      ],
      "execution_count": null,
      "outputs": [
        {
          "output_type": "stream",
          "text": [
            "4\n",
            "178\n",
            "75\n"
          ],
          "name": "stdout"
        }
      ]
    },
    {
      "cell_type": "code",
      "metadata": {
        "id": "fT2Rzbdio10h"
      },
      "source": [
        "# 연습문제 9.12 : TV 클래스 구현하기\n",
        "# 클래스 : 속성(변수)과 동작(메소드)을 가지는 것\n",
        "\n",
        "class TV:\n",
        "  # 클래스 변수\n",
        "  MIN_VOLUME = 0\n",
        "  MAX_VOLUME = 20\n",
        "  MIN_CHANNEL = 0\n",
        "  MAX_CHANNEL = 200\n",
        "\n",
        "  # 생성자(초기화 메소드)\n",
        "  def __init__(self, volume = 5, channel = 0):\n",
        "    # 인스턴스 변수\n",
        "    self.__volume = volume\n",
        "    self.__channel = channel\n",
        "    self.__is_on = False\n",
        "\n",
        "  # TV의 볼륨, 채널 상태를 문자열로 반환\n",
        "  def __str__(self):\n",
        "    # TV가 꺼진 상태인지 확인\n",
        "    if self.__is_on == False:\n",
        "      return \"TV가 꺼진 상태입니다\"\n",
        "    else:\n",
        "      return \"볼륨 = {}, 채널 = {}\".format(self.__volume, self.__channel)\n",
        "\n",
        "  def toggle_power(self):\n",
        "    if self.__is_on == True:\n",
        "      self.__is_on = False\n",
        "    else:\n",
        "      self.__is_on = True\n",
        "  \n",
        "  # get함수, set함수\n",
        "\n",
        "  # 채널 값을 반환하는 메소드\n",
        "  def get_channel(self):\n",
        "    return self.__channel\n",
        "\n",
        "  # 인자를 받아 이 값으로 채널을 설정하는 메소드\n",
        "  # 인자가 0에서 200 사이의 값이 아닐 경우 \"채널 오류\"를 출력(print)\n",
        "  def set_channel(self, channel):\n",
        "    if channel < 0 or channel > 200:\n",
        "      print(\"채널 오류\")\n",
        "    else:\n",
        "      self.__channel = channel\n",
        "\n",
        "  # 볼륨 값을 반환하는 메소드\n",
        "  def get_volume(self):\n",
        "    return self.__volume\n",
        "\n",
        "  # 인자를 받아 이 값으로 볼륨을 설정하는 메소드\n",
        "  # 인자가 0에서 20 사이의 값이 아닐 경우 \"볼륨 오류\"를 출력\n",
        "  def set_volume(self, volume):\n",
        "    if self.MIN_VOLUME <= volume and self.MAX_VOLUME >= volume:  \n",
        "      self.__volume = volume\n",
        "    else:\n",
        "      print(\"볼륨 오류\")\n",
        "\n",
        "  # 볼륨 값을 1 증가시키는 메소드, 최댓값은 MAX_VOLUME\n",
        "  def volume_up(self):\n",
        "    # 내 볼륨 값이 최댓값이면\n",
        "    if self.__volume >= self.MAX_VOLUME:\n",
        "      # 그대로 최댓값 유지\n",
        "      self.__volume = self.MAX_VOLUME\n",
        "    # 아니라면 1 증가\n",
        "    else:\n",
        "      self.__volume += 1\n",
        "\n",
        "  # 볼륨 값을 1 감소시키는 메소드, 최솟값은 MIN_VOLUME\n",
        "  def volume_down(self):\n",
        "    if self.__volume <= self.MIN_VOLUME:\n",
        "      self.__volume = self.MIN_VOLUME\n",
        "    else:\n",
        "      self.__volume -= 1\n",
        "\n",
        "  # 채널 값을 1 증가시키는 메소드\n",
        "  # 201 이상이 되면 MIN_CHANNEL(0)이 됨\n",
        "  def channel_up(self):\n",
        "    self.__channel += 1\n",
        "    if self.__channel >= 201:      # self.__channel > self.MAX_CHANNEL\n",
        "      self.__channel = self.MIN_CHANNEL # self.__channel = 0\n",
        "\n",
        "  # 채널 값을 1 감소시키는 메소드\n",
        "  def channel_down(self):\n",
        "    self.__channel -= 1\n",
        "    if self.__channel < 0:         # self.__channel < self.MIN_CHANNEL\n",
        "      self.__channel = 200         # self.__channel = self.MAX_CHANNEL\n"
      ],
      "execution_count": null,
      "outputs": []
    },
    {
      "cell_type": "code",
      "metadata": {
        "colab": {
          "base_uri": "https://localhost:8080/"
        },
        "id": "UovZI7GMvAbQ",
        "outputId": "3ec6524f-32c7-4f47-b8af-2fd4a3a2f9f2"
      },
      "source": [
        "my_tv = TV() # my_tv 인스턴스 생성\n",
        "print(my_tv)\n",
        "my_tv.toggle_power() # my_tv의 전원을 켬\n",
        "print(my_tv)\n",
        "my_tv.set_channel(45)\n",
        "print(my_tv)\n",
        "my_tv.volume_up()\n",
        "my_tv.channel_up()\n",
        "print(my_tv)"
      ],
      "execution_count": null,
      "outputs": [
        {
          "output_type": "stream",
          "text": [
            "TV가 꺼진 상태입니다\n",
            "볼륨 = 5, 채널 = 0\n",
            "볼륨 = 5, 채널 = 45\n",
            "볼륨 = 6, 채널 = 46\n"
          ],
          "name": "stdout"
        }
      ]
    },
    {
      "cell_type": "code",
      "metadata": {
        "id": "rWO7Nki1qGIY"
      },
      "source": [
        "\n",
        "# ex) list 클래스\n",
        "\n",
        "'''\n",
        "class list:\n",
        "  기존에 정의가 되어 있으니\n",
        "\n",
        "# a, b, c라는 객체를 선언\n",
        "a = [3,4,5,6] # 리스트형 객체\n",
        "b = 3         # 정수형 객체\n",
        "c = \"나는\"    # 문자형 객체\n",
        "\n",
        "a는 리스트형 객체(인스턴스)\n",
        "a의 속성? -> 3,4,5,6 (정수형 변수)\n",
        "a의 동작? -> append(), sort(), ...\n",
        "\n",
        "b는 정수형 객체(인스턴스)\n",
        "b의 속성 -> 3 (정수형 변수)\n",
        "b의 동작 -> __add__() ex) b.__add__()\n",
        "\n",
        "c는 문자형 객체(인스턴스)\n",
        "c의 속성 -> \"나는\"\n",
        "c의 동작 -> index(), erase(), .. \n",
        "'''"
      ],
      "execution_count": null,
      "outputs": []
    },
    {
      "cell_type": "code",
      "metadata": {
        "colab": {
          "base_uri": "https://localhost:8080/"
        },
        "id": "S01kIFDCpvQI",
        "outputId": "d9f21bd5-f8e5-414d-e0e1-65f93860b3ce"
      },
      "source": [
        "b = 3\n",
        "print(b.__add__(4))"
      ],
      "execution_count": null,
      "outputs": [
        {
          "output_type": "stream",
          "text": [
            "7\n"
          ],
          "name": "stdout"
        }
      ]
    },
    {
      "cell_type": "code",
      "metadata": {
        "id": "IAtZ6kftwq5S"
      },
      "source": [
        "# 연습문제 9.13\n",
        "\n",
        "# 클래스 구현\n",
        "class Rectangle:\n",
        "  # 클래스 변수 : 없음\n",
        "\n",
        "  # 생성자(초기화 메소드)\n",
        "  def __init__(self, x, y, width, height):\n",
        "    # 인스턴스 변수 : 생성자 안에 정의된 변수\n",
        "    self.__x = x\n",
        "    self.__y = y\n",
        "    self.__width = width\n",
        "    self.__height = height\n",
        "\n",
        "  # 사각형의 좌표와 너비, 높이, 면적을 문자열로 반환\n",
        "  def __str__(self):\n",
        "    return \"Rectangle : (x = {0}, y = {1}, w = {2}, h = {3}), 면적 : {4}\" \\\n",
        "           .format(self.__x, self.__y, self.__width, self.__height, self.area())\n",
        "\n",
        "  # get, set 함수\n",
        "\n",
        "  # 사각형의 x좌표 값을 \"지정\"함\n",
        "  def set_x(self, x):\n",
        "    self.__x = x\n",
        "  \n",
        "  # 사각형의 x좌표 값을 \"반환\"함\n",
        "  def get_x(self):\n",
        "    return self.__x\n",
        "\n",
        "  # 사각형의 y좌표 값을 지정함\n",
        "  def set_y(self, y):\n",
        "    self.__y = y\n",
        "\n",
        "  # 사각형의 y좌표 값을 반환함\n",
        "  def get_y(self):\n",
        "    return self.__y\n",
        "\n",
        "  # 사각형의 width 값을 지정함\n",
        "  def set_width(self, width):\n",
        "    self.__width = width\n",
        "\n",
        "  # 사각형의 width 값을 반환함\n",
        "  def get_width(self):\n",
        "    return self.__width\n",
        "\n",
        "  # 사각형의 height 값을 지정함\n",
        "  def set_height(self, height):\n",
        "    self.__height = height\n",
        "\n",
        "  # 사각형의 height 값을 반환함\n",
        "  def get_height(self):\n",
        "    return self.__height\n",
        "\n",
        "  # 현재 사각형(self)의 면적을 반환\n",
        "  def area(self):\n",
        "    # 사각형의 면적 = 너비(width) * 높이(height)\n",
        "    return self.__width * self.__height\n",
        "\n",
        "  # 매개변수 r 사각형이 현재 사각형(self)과 겹치는 부분이 있으면 True 반환\n",
        "  # 겹치는 부분이 없으면 False 반환\n",
        "  def overlaps(self, r):\n",
        "    # 겹치는 걸 어떻게 아나요?\n",
        "    # 우선 self 사각형의 네 좌표\n",
        "    s1 = (self.__x, self.__y)\n",
        "    s2 = (self.__x, self.__y - self.__height) # y값은 - 방향으로 이동\n",
        "    s3 = (self.__x + self.__width, self.__y - self.__height)\n",
        "    s4 = (self.__x + self.__width, self.__y)\n",
        "    s_point = [s1, s2, s3, s4]\n",
        "\n",
        "    # r 사각형의 네 좌표\n",
        "    r1 = (r.__x, r.__y)\n",
        "    r2 = (r.__x, r.__y - r.__height)\n",
        "    r3 = (r.__x + r.__width, r.__y - r.__height)\n",
        "    r4 = (r.__x + r.__width, r.__y)\n",
        "    r_point = [r1, r2, r3, r4]\n",
        "\n",
        "    # r 사각형의 네 점 중 하나가 self 사각형 안에 들어갈까?\n",
        "    for i in r_point:\n",
        "      # self 사각형의 x좌표 <= r 사각형의 한 점의 x좌표 \n",
        "      # <= self 사각형의 x좌표 + self 사각형의 너비\n",
        "      if i[0] >= self.__x and i[0] <= self.__x + self.__width:\n",
        "        # self 사각형의 y좌표 - self 사각형의 높이\n",
        "        # <= r 사각형의 한 점의 y좌표 <= self 사각형의 y좌표\n",
        "        if i[1] <= self.__y and i[1] >= self.__y - self.__height:\n",
        "          return True\n",
        "\n",
        "    # self 사각형의 네 점 중 하나가 r 사각형 안에 들어갈까?\n",
        "    for i in s_point:\n",
        "      if i[0] >= r.__x and i[0] <= r.__x + r.__width:\n",
        "        if i[1] <= r.__y and i[1] >= r.__y - r.__height:\n",
        "          return True\n",
        "\n",
        "    return False\n",
        "\n",
        "  # 매개변수 r 사각형이 현재 사각형에 포함되어 있으면 True, 아니면 False\n",
        "  def contains(self, r):\n",
        "    # self, r 사각형의 네 좌표를 찾아봅시다.\n",
        "    # 우선 self 사각형의 네 좌표\n",
        "    s1 = (self.__x, self.__y)\n",
        "    s2 = (self.__x, self.__y - self.__height) # y값은 - 방향으로 이동\n",
        "    s3 = (self.__x + self.__width, self.__y - self.__height)\n",
        "    s4 = (self.__x + self.__width, self.__y)\n",
        "    s_point = [s1, s2, s3, s4]\n",
        "\n",
        "    # r 사각형의 네 좌표\n",
        "    r1 = (r.__x, r.__y)\n",
        "    r2 = (r.__x, r.__y - r.__height)\n",
        "    r3 = (r.__x + r.__width, r.__y - r.__height)\n",
        "    r4 = (r.__x + r.__width, r.__y)\n",
        "    r_point = [r1, r2, r3, r4]\n",
        "\n",
        "    sw = 0\n",
        "    # r 사각형의 네 점 모두가 self 사각형 안에 들어갈까?\n",
        "    for i in r_point:\n",
        "      #print(\"a\", i[0], i[1])\n",
        "      # self 사각형의 x좌표 <= r 사각형의 한 점의 x좌표 \n",
        "      # <= self 사각형의 x좌표 + self 사각형의 너비\n",
        "      if i[0] >= self.__x and i[0] <= self.__x + self.__width:\n",
        "        # self 사각형의 y좌표 - self 사각형의 높이\n",
        "        # <= r 사각형의 한 점의 y좌표 <= self 사각형의 y좌표\n",
        "        if i[1] <= self.__y and i[1] >= self.__y - self.__height:\n",
        "          #print(i[0], i[1])\n",
        "          sw += 1\n",
        "\n",
        "    #print(sw)\n",
        "    if sw == 4:\n",
        "      return True\n",
        "    else:\n",
        "      return False"
      ],
      "execution_count": null,
      "outputs": []
    },
    {
      "cell_type": "code",
      "metadata": {
        "colab": {
          "base_uri": "https://localhost:8080/"
        },
        "id": "M8vVVawtwrEJ",
        "outputId": "1183e1b3-622e-4d88-a463-58385e873243"
      },
      "source": [
        "# 인스턴스 생성\n",
        "r1 = Rectangle(0, 0, 100, 100)\n",
        "r2 = Rectangle(0, -10, 10, 10)\n",
        "r3 = Rectangle(-100, 0, 120, 100)\n",
        "\n",
        "print('r1 = ', r1)\n",
        "print('r2 = ', r2)\n",
        "print('r3 = ', r3)\n",
        "\n",
        "print('r1 contains r2 :', r1.contains(r2))\n",
        "print('r1 contains r3 :', r1.contains(r3))\n",
        "print('r1 overlaps r2 :', r1.overlaps(r2))\n",
        "print('r1 overlaps r3 :', r1.overlaps(r3))"
      ],
      "execution_count": null,
      "outputs": [
        {
          "output_type": "stream",
          "text": [
            "r1 =  Rectangle : (x = 0, y = 0, w = 100, h = 100), 면적 : 10000\n",
            "r2 =  Rectangle : (x = 0, y = -10, w = 10, h = 10), 면적 : 100\n",
            "r3 =  Rectangle : (x = -100, y = 0, w = 120, h = 100), 면적 : 12000\n",
            "r1 contains r2 : True\n",
            "r1 contains r3 : False\n",
            "r1 overlaps r2 : True\n",
            "r1 overlaps r3 : True\n"
          ],
          "name": "stdout"
        }
      ]
    },
    {
      "cell_type": "code",
      "metadata": {
        "id": "6Z3rCDMo68q2"
      },
      "source": [
        "# 연습문제 9.14\n",
        "import math\n",
        "\n",
        "class Circle:\n",
        "  # 클래스 변수\n",
        "  PI = 3.14\n",
        "\n",
        "  # 생성자(초기화 메소드)\n",
        "  # x, y, radius 값을 매개변수로 받아 인스턴스변수를 초기화함\n",
        "  def __init__(self, x, y, radius):\n",
        "    # 인스턴스변수 : 생성자 안에서 정의된 변수 (__x, __y, __radius)\n",
        "    self.__x = x\n",
        "    self.__y = y\n",
        "    self.__radius = radius\n",
        "\n",
        "  # 원의 중심 좌표와 반지름, 면적을 문자열로 반환함\n",
        "  def __str__(self):\n",
        "    return \"Circle : (x = {}, y = {}, z = {}), 면적 : {}\"\\\n",
        "    .format(self.__x, self.__y, self.__radius, self.area())\n",
        "\n",
        "  # 원의 중심 x좌표 값을 지정함\n",
        "  def set_x(self, x):\n",
        "    self.__x = x\n",
        "\n",
        "  # 원의 중심 x좌표 값을 반환함\n",
        "  def get_x(self):\n",
        "    return self.__x\n",
        "\n",
        "  # 원의 중심 y좌표 값을 지정함\n",
        "  def set_y(self, y):\n",
        "    self.__y = y\n",
        "\n",
        "  # 원의 중심 y좌표 값을 반환함\n",
        "  def get_y(self):\n",
        "    return self.__y\n",
        "    \n",
        "  # 원의 radius 값을 지정함\n",
        "  def set_radius(self, radius):\n",
        "    self.__radius = radius\n",
        "\n",
        "  # 원의 radius 값을 반환함\n",
        "  def get_radius(self):\n",
        "    return self.__radius\n",
        "\n",
        "  # 원의 면적을 반환함\n",
        "  def area(self):\n",
        "    return self.PI * self.__radius * self.__radius # self.__radius ** 2 도 가능, self.get_radius() ** 2도 가능\n",
        "  \n",
        "  # 매개변수 c 원이 현재 원과 겹치는 부분이 있으면 True 반환, 없으면 False 반환\n",
        "  def overlaps(self, c):\n",
        "    # self 원과 c 원의 반지름 길이의 합 > self 원과 c 원의 중심 점 간의 거리\n",
        "    # 두 원의 중심 점 간의 거리 구하는 공식 : 루트값((두 원의 x좌표 차이)^2 + (두 원의 y좌표 차이)^2)\n",
        "    if (self.__radius + c.__radius) > math.sqrt(abs(self.__x - c.__x) ** 2 + abs(self.__y - c.__y) ** 2):\n",
        "      return True\n",
        "    return False\n",
        "\n",
        "  # 매개변수 c 원이 현재 원에 포함되어 있으면 True 반환, 아니면 False 반환\n",
        "  def contains(self, c):\n",
        "    # self 원의 반지름 길이 >= self 원과 c 원의 중심 점 간의 거리 + c 원의 반지름 길이\n",
        "    if self.__radius >= math.sqrt(abs(self.__x - c.__x) ** 2 + abs(self.__y + c.__y) ** 2) + c.__radius:\n",
        "      return True\n",
        "    return False\n"
      ],
      "execution_count": 51,
      "outputs": []
    },
    {
      "cell_type": "code",
      "metadata": {
        "colab": {
          "base_uri": "https://localhost:8080/"
        },
        "id": "cvhu2KgDE8ZR",
        "outputId": "fbf27fb1-a88d-4584-924c-f187f4c77be2"
      },
      "source": [
        "c1 = Circle(0, 0, 100)  # 중심좌표는 0, 0이며 반지름이 100\n",
        "c2 = Circle(0, -10, 10) # 중심좌표는 0, -10이며 반지름이 10\n",
        "c3 = Circle(-100, 0, 120) # 중심좌표는 -100, 0이며 반지름이 120\n",
        "\n",
        "print('c1 = ', c1)\n",
        "print('c2 = ', c2)\n",
        "print('c3 = ', c3)\n",
        "\n",
        "print('c1 contains c2 :', c1.contains(c2))\n",
        "print('c1 contains c3 :', c1.contains(c3))\n",
        "print('c1 overlaps c2 :', c1.overlaps(c2))\n",
        "print('c1 overlaps c3 :', c1.overlaps(c3))"
      ],
      "execution_count": 52,
      "outputs": [
        {
          "output_type": "stream",
          "text": [
            "c1 =  Circle : (x = 0, y = 0, z = 100), 면적 : 31400.0\n",
            "c2 =  Circle : (x = 0, y = -10, z = 10), 면적 : 314.0\n",
            "c3 =  Circle : (x = -100, y = 0, z = 120), 면적 : 45216.0\n",
            "c1 contains c2 : True\n",
            "c1 contains c3 : False\n",
            "c1 overlaps c2 : True\n",
            "c1 overlaps c3 : True\n"
          ],
          "name": "stdout"
        }
      ]
    },
    {
      "cell_type": "code",
      "metadata": {
        "id": "2rZYlPev682Z"
      },
      "source": [
        ""
      ],
      "execution_count": null,
      "outputs": []
    }
  ]
}