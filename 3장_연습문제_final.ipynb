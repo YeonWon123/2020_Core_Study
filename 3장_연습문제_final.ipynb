{
  "nbformat": 4,
  "nbformat_minor": 0,
  "metadata": {
    "colab": {
      "name": "3장 연습문제_final.ipynb",
      "provenance": [],
      "authorship_tag": "ABX9TyN/tL394SRWMawZRZbTdZsb",
      "include_colab_link": true
    },
    "kernelspec": {
      "name": "python3",
      "display_name": "Python 3"
    }
  },
  "cells": [
    {
      "cell_type": "markdown",
      "metadata": {
        "id": "view-in-github",
        "colab_type": "text"
      },
      "source": [
        "<a href=\"https://colab.research.google.com/github/YeonWon123/2020_Core_Study/blob/main/3%EC%9E%A5_%EC%97%B0%EC%8A%B5%EB%AC%B8%EC%A0%9C_final.ipynb\" target=\"_parent\"><img src=\"https://colab.research.google.com/assets/colab-badge.svg\" alt=\"Open In Colab\"/></a>"
      ]
    },
    {
      "cell_type": "code",
      "metadata": {
        "colab": {
          "base_uri": "https://localhost:8080/"
        },
        "id": "k5gBkyEzfxhF",
        "outputId": "b6b48896-db84-42eb-9562-bde089ba504b"
      },
      "source": [
        "# 연습문제 3.26\r\n",
        "# List를 쓰지 않고 푸는 방법입니다.\r\n",
        "\r\n",
        "n = int(input('n을 입력하시오 : '))\r\n",
        "\r\n",
        "now = 1\r\n",
        "\r\n",
        "# for문을 2번 사용\r\n",
        "for i in range(1, n+1, 1): # i는 1부터 n까지 반복\r\n",
        "  # 안쪽 for문을 돌기 전 if문 사용\r\n",
        "  # i가 홀수번째 줄이라면? 1 2 3 4 5 이렇게 순차적으로 출력\r\n",
        "  # i가 짝수번째 줄이라면? 10 9 8 7 6 이렇게 역순으로 출력\r\n",
        "  if i % 2 != 0:\r\n",
        "    # 이부분은 해내실 수 있으리라 생각합니다.\r\n",
        "    # 아래줄과 같이 작성하면 되겠죠?\r\n",
        "    for j in range(1, n+1, 1):\r\n",
        "      print(now, end = ' ')\r\n",
        "      now = now + 1         # now 1 증가 (1 다음에 2 출력해야 함)\r\n",
        "  else:\r\n",
        "    # 이부분이 좀 어려운데 같이 해봅시다.\r\n",
        "    now = now + n # 먼저 now를 n 증가시킵니다. 왜 그럴까요? n = 5일 경우 1 2 3 4 5 다음에 10을 출력해야 하는데, 5 + 5 = 10이거든요\r\n",
        "    now = now - 1 # 그리고 나서 now에서 1을 뺍니다. 첫번째 if문을 다 돌 경우 now는 6이 되거든요. 6+5 = 11이라서 1을 뺍니다.\r\n",
        "              \r\n",
        "    # 반복문을 엽니다.\r\n",
        "    for j in range(1, n+1, 1):\r\n",
        "      print(now, end = ' ') # 출력을 하고\r\n",
        "      now = now - 1         # now 1 감소 (10 다음에 9 출력해야 함)\r\n",
        "      \r\n",
        "    # 반복문이 끝나면 now는 5가 되어 있겠죠?\r\n",
        "    now = now + n # 다시 now를 n 증가시킵니다. (now = 10)\r\n",
        "    now = now + 1 # 다시 now를 1 증가시킵니다. (now = 11)\r\n",
        "\r\n",
        "  print() # enter키의 효과를 봅니다.\r\n"
      ],
      "execution_count": 1,
      "outputs": [
        {
          "output_type": "stream",
          "text": [
            "n을 입력하시오 : 5\n",
            "1 2 3 4 5 \n",
            "10 9 8 7 6 \n",
            "11 12 13 14 15 \n",
            "20 19 18 17 16 \n",
            "21 22 23 24 25 \n"
          ],
          "name": "stdout"
        }
      ]
    },
    {
      "cell_type": "markdown",
      "metadata": {
        "id": "lOJ7sBnPhzR1"
      },
      "source": [
        "* print함수 자세히 알아보기\r\n",
        " - print함수는 문장의 끝에서 자동으로 줄바꿈을 수행해 줍니다.\r\n",
        " - print(i) 와 print(i, end = '\\n')은 같습니다. (print함수 끝에 '\\n'이 붙으니깐요.) ('\\n' = eNter)\r\n",
        "\r\n",
        " - 한줄에 출력하려면, end 부분에 스페이스바를 넣게 되면, 문장의 끝에 enter키가 아닌 space bar키가 눌리는 효과를 얻을 수 있습니다."
      ]
    },
    {
      "cell_type": "code",
      "metadata": {
        "colab": {
          "base_uri": "https://localhost:8080/"
        },
        "id": "TXQA18q4hxoB",
        "outputId": "8599b2b5-e9de-4317-d45b-2b98e68a3aec"
      },
      "source": [
        "# 연습문제 3.27\r\n",
        "print('세 자리의 암스트롱 수 : ', end = ' ')\r\n",
        "for i in range(100, 1000):\r\n",
        "  if (i == ((i // 100) ** 3) + (((i % 100) // 10) ** 3) + ((i % 10) ** 3)):\r\n",
        "    print(i, end=' ')"
      ],
      "execution_count": 2,
      "outputs": [
        {
          "output_type": "stream",
          "text": [
            "세 자리의 암스트롱 수 :  153 370 371 407 "
          ],
          "name": "stdout"
        }
      ]
    },
    {
      "cell_type": "markdown",
      "metadata": {
        "id": "UIjUDE1ih14n"
      },
      "source": [
        "* 회문(palindrome) : 앞에서부터 읽거나 뒤에서부터 읽어도 동일한 문자열 or 수 or ...\r\n"
      ]
    },
    {
      "cell_type": "code",
      "metadata": {
        "colab": {
          "base_uri": "https://localhost:8080/"
        },
        "id": "k03bTNZrh4a_",
        "outputId": "b9dec4ce-57c6-4e50-9591-68a102c4f07b"
      },
      "source": [
        "# 연습문제 3.28\r\n",
        "num = int(input('정수를 입력하시오 : '))\r\n",
        "n = num\r\n",
        "\r\n",
        "# 리스트를 만듭니다.\r\n",
        "L = []\r\n",
        "\r\n",
        "# 반복문을 사용합니다.\r\n",
        "# 근데, 얼마나 반복해야 하는지 모르기 때문에 for문이 아닌 while문을 사용합니다. (수의 크기가 정해져있지 않아요)\r\n",
        "sizes = 0\r\n",
        "while True:\r\n",
        "  a = n % 10  # 맨 뒷자리부터 가져옵니다.\r\n",
        "  L.append(a) # 리스트에 넣습니다. append(a)는 리스트에 a를 추가합니다. 으뜸 파이썬 170p를 참조하세요.\r\n",
        "  n = (int)(n / 10)  # n을 10으로 나눠줍니다.\r\n",
        "  sizes = sizes + 1  # 정수의 자릿수가 얼마나 되는지 셉시다.\r\n",
        "  if n == 0:  # n이 0이라면 더 이상 나눠봐야 의미가 없으니 while 반복문을 종료합니다.\r\n",
        "    break\r\n",
        "\r\n",
        "# 정수의 size를 알았습니다.\r\n",
        "\r\n",
        "# sw의 값이 0이면 거꾸로 정수, 1이면 거꾸로 정수가 아니라고 합시다.\r\n",
        "sw = 0\r\n",
        "\r\n",
        "# 리스트의 index는 0부터 시작합니다.\r\n",
        "for i in range(0, sizes, 1): \r\n",
        "  # 현재 내 위치(i)와 대칭인 위치(sizes - 1 -i)가 같은지 봅니다.\r\n",
        "  if L[i] != L[sizes - 1 - i]:\r\n",
        "    sw = 1\r\n",
        "    break\r\n",
        "\r\n",
        "if sw == 0:\r\n",
        "  print(num, '은(는) 거꾸로 정수입니다.')\r\n",
        "else:\r\n",
        "  print(num, '은(는) 거꾸로 정수가 아닙니다.')\r\n",
        "\r\n"
      ],
      "execution_count": 3,
      "outputs": [
        {
          "output_type": "stream",
          "text": [
            "정수를 입력하시오 : 3443\n",
            "3443 은(는) 거꾸로 정수입니다.\n"
          ],
          "name": "stdout"
        }
      ]
    },
    {
      "cell_type": "code",
      "metadata": {
        "colab": {
          "base_uri": "https://localhost:8080/"
        },
        "id": "1cUUzBr7h4UL",
        "outputId": "839ca8ea-243e-4d80-9d3d-1e798012f07f"
      },
      "source": [
        "# 연습문제 3.31\r\n",
        "# 직관적이지만 시간이 오래 걸리는 방법\r\n",
        "s = 0\r\n",
        "\r\n",
        "# 1부터 200000 사이의 모든 친화수를 구해봅시다. 그걸 i로 두고\r\n",
        "for i in range(1, 200001, 1):\r\n",
        "  # 어떤 수 i의 진약수의 합을 s에 저장합시다. 그러면 s는 처음에 0으로 시작해야겠죠?\r\n",
        "  # '변수의 초기화'는 매우 중요합니다.\r\n",
        "  s = 0\r\n",
        "  \r\n",
        "  # 어떤 수 i에 대해 j가 i의 진약수인지를 살펴봅시다.\r\n",
        "  # 1부터 i-1까지만 (자기 자신(i)은 진약수가 아니잖아요) 반복합시다.\r\n",
        "  # j가 i의 진약수라면 s에 j를 더합시다.\r\n",
        "  for j in range(1, i):\r\n",
        "    if i % j == 0:\r\n",
        "     s = s + j\r\n",
        "\r\n",
        "  # 그러면 반대로 s의 진약수의 합이 i가 될까요? 한번 살펴봅시다.\r\n",
        "  t = 0\r\n",
        "  for p in range(1, s):\r\n",
        "    if s % p == 0:\r\n",
        "      t = t + p\r\n",
        "\r\n",
        "  # 마지막에, i의 친화수인 s가 서로 같으면 안됩니다.\r\n",
        "  if t == i and i != s:\r\n",
        "    print(i, '의 친화수 ', s)\r\n"
      ],
      "execution_count": null,
      "outputs": [
        {
          "output_type": "stream",
          "text": [
            "220 의 친화수  284\n",
            "284 의 친화수  220\n",
            "1184 의 친화수  1210\n",
            "1210 의 친화수  1184\n",
            "2620 의 친화수  2924\n",
            "2924 의 친화수  2620\n",
            "5020 의 친화수  5564\n",
            "5564 의 친화수  5020\n",
            "6232 의 친화수  6368\n",
            "6368 의 친화수  6232\n",
            "10744 의 친화수  10856\n",
            "10856 의 친화수  10744\n",
            "12285 의 친화수  14595\n",
            "14595 의 친화수  12285\n",
            "17296 의 친화수  18416\n",
            "18416 의 친화수  17296\n"
          ],
          "name": "stdout"
        }
      ]
    }
  ]
}